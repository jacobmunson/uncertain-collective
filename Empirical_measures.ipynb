{
 "cells": [
  {
   "cell_type": "code",
   "execution_count": 1,
   "metadata": {},
   "outputs": [],
   "source": [
    "import torch\n",
    "import numpy as np\n",
    "from pandas import factorize\n",
    "from Utils.utils import dataset_loader\n",
    "from uncertain.models.ExplicitFactorizationModel import ExplicitFactorizationModel\n",
    "from uncertain.models.UncertainWrapper import UncertainWrapper, LinearUncertaintyEstimator\n",
    "from uncertain.metrics import rmse_score\n",
    "from evaluation import evaluate_uncertainty"
   ]
  },
  {
   "cell_type": "code",
   "execution_count": 2,
   "metadata": {},
   "outputs": [
    {
     "name": "stderr",
     "output_type": "stream",
     "text": [
      "100%|██████████| 200/200 [00:04<00:00, 45.71it/s, Epoch 200 loss: 0.5849583148956299]\n"
     ]
    }
   ],
   "source": [
    "train, test = dataset_loader('1M', 0)\n",
    "train.gpu()\n",
    "\n",
    "model = ExplicitFactorizationModel(embedding_dim=50, n_iter=200, batch_size=int(1e6),\n",
    "                                   learning_rate=0.02, l2=2e-5, use_cuda=True)\n",
    "model.fit(train)"
   ]
  },
  {
   "cell_type": "code",
   "execution_count": 3,
   "metadata": {},
   "outputs": [],
   "source": [
    "user_support_uncertainty = LinearUncertaintyEstimator(-train.get_user_support(), None)\n",
    "item_support_uncertainty = LinearUncertaintyEstimator(None, -train.get_item_support())\n",
    "item_variance_uncertainty = LinearUncertaintyEstimator(None, train.get_item_variance())"
   ]
  },
  {
   "cell_type": "code",
   "execution_count": 4,
   "metadata": {},
   "outputs": [],
   "source": [
    "user_support = UncertainWrapper(model, user_support_uncertainty)\n",
    "item_support = UncertainWrapper(model, item_support_uncertainty)\n",
    "item_variance = UncertainWrapper(model, item_variance_uncertainty)"
   ]
  },
  {
   "cell_type": "code",
   "execution_count": 5,
   "metadata": {},
   "outputs": [
    {
     "data": {
      "text/plain": [
       "{'RMSE': tensor(0.8503),\n",
       " 'Precision': array([0.14340411, 0.12469544, 0.11521058, 0.10703098, 0.10010442,\n",
       "        0.09476157, 0.09062205, 0.08697355, 0.08388444, 0.0811347 ]),\n",
       " 'Recall': array([0.01706076, 0.02922011, 0.03931335, 0.04860676, 0.05677396,\n",
       "        0.06472271, 0.07203464, 0.07892997, 0.08503989, 0.09198389]),\n",
       " 'Correlation': ((0.03790560404744843, 3.9028957102485445e-33),\n",
       "  SpearmanrResult(correlation=0.0461354267907192, pvalue=2.874071829039173e-48)),\n",
       " 'RPI': 0.105440825,\n",
       " 'RRI': array([-0.13455035, -0.18766583, -0.22635532, -0.25938327, -0.28298676,\n",
       "        -0.30219944, -0.31470497, -0.32845882, -0.34109491, -0.35344093])}"
      ]
     },
     "execution_count": 5,
     "metadata": {},
     "output_type": "execute_result"
    }
   ],
   "source": [
    "evaluate_uncertainty(user_support, test, train)"
   ]
  },
  {
   "cell_type": "code",
   "execution_count": 6,
   "metadata": {},
   "outputs": [
    {
     "data": {
      "text/plain": [
       "{'RMSE': tensor(0.8503),\n",
       " 'Precision': array([0.14340411, 0.12469544, 0.11521058, 0.10703098, 0.10010442,\n",
       "        0.09476157, 0.09062205, 0.08697355, 0.08388444, 0.0811347 ]),\n",
       " 'Recall': array([0.01706076, 0.02922011, 0.03931335, 0.04860676, 0.05677396,\n",
       "        0.06472271, 0.07203464, 0.07892997, 0.08503989, 0.09198389]),\n",
       " 'Correlation': ((0.05387214925177378, 3.5057421028997174e-65),\n",
       "  SpearmanrResult(correlation=0.0510813450243451, pvalue=8.848070782614869e-59)),\n",
       " 'RPI': 0.14900589,\n",
       " 'RRI': array([-1.33034718, -0.32226731, -0.40424551, -0.40767654, -0.27247049,\n",
       "        -0.11014367,  0.10266824,  0.06267181,  0.10352871,  0.07845383])}"
      ]
     },
     "execution_count": 6,
     "metadata": {},
     "output_type": "execute_result"
    }
   ],
   "source": [
    "evaluate_uncertainty(item_support, test, train)"
   ]
  },
  {
   "cell_type": "code",
   "execution_count": 7,
   "metadata": {},
   "outputs": [
    {
     "data": {
      "text/plain": [
       "{'RMSE': tensor(0.8503),\n",
       " 'Precision': array([0.14340411, 0.12469544, 0.11521058, 0.10703098, 0.10010442,\n",
       "        0.09476157, 0.09062205, 0.08697355, 0.08388444, 0.0811347 ]),\n",
       " 'Recall': array([0.01706076, 0.02922011, 0.03931335, 0.04860676, 0.05677396,\n",
       "        0.06472271, 0.07203464, 0.07892997, 0.08503989, 0.09198389]),\n",
       " 'Correlation': ((0.131719086104635, 0.0),\n",
       "  SpearmanrResult(correlation=0.1140740080587391, pvalue=7.321813950914586e-287)),\n",
       " 'RPI': 0.4437311,\n",
       " 'RRI': array([4.07758284, 2.94037138, 1.96382784, 1.70340437, 1.52030399,\n",
       "        1.40547889, 1.34528273, 1.27010948, 1.20609227, 1.12637134])}"
      ]
     },
     "execution_count": 7,
     "metadata": {},
     "output_type": "execute_result"
    }
   ],
   "source": [
    "evaluate_uncertainty(item_variance, test, train)"
   ]
  }
 ],
 "metadata": {
  "kernelspec": {
   "display_name": "Python 3",
   "language": "python",
   "name": "python3"
  },
  "language_info": {
   "codemirror_mode": {
    "name": "ipython",
    "version": 3
   },
   "file_extension": ".py",
   "mimetype": "text/x-python",
   "name": "python",
   "nbconvert_exporter": "python",
   "pygments_lexer": "ipython3",
   "version": "3.7.4"
  }
 },
 "nbformat": 4,
 "nbformat_minor": 4
}
