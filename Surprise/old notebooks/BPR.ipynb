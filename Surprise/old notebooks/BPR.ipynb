{
 "cells": [
  {
   "cell_type": "code",
   "execution_count": 15,
   "metadata": {},
   "outputs": [],
   "source": [
    "import numpy as np\n",
    "from matplotlib import pyplot as plt\n",
    "from implicit.bpr import BayesianPersonalizedRanking as bpr\n",
    "from surprise import Dataset\n",
    "from scipy.sparse import coo_matrix\n",
    "from Uncertain.RankingAggregation import RankingAggregation\n",
    "\n",
    "data = Dataset.load_builtin('ml-100k')\n",
    "train = data.build_full_trainset()\n",
    "n, m = train.n_users, train.n_items\n",
    "data = coo_matrix(([float(d[2]) for d in data.raw_ratings], ([int(d[0])-1 for d in data.raw_ratings], [int(d[1])-1 for d in data.raw_ratings])), shape=(n, m)).T\n",
    "\n",
    "ensemble = 20\n",
    "factors = 100\n",
    "epochs = 100"
   ]
  },
  {
   "cell_type": "code",
   "execution_count": 16,
   "metadata": {},
   "outputs": [
    {
     "name": "stdout",
     "output_type": "stream",
     "text": [
      "[(49, 3.9191463), (152, 3.2843533), (6, 2.8594685), (171, 2.8237686), (99, 2.8212652)]\n",
      "[(49, 3.77773), (152, 2.9993167), (6, 2.8633094), (175, 2.6692953), (172, 2.6528807)]\n",
      "[(49, 3.6114733), (6, 3.091477), (152, 3.0595386), (99, 3.0155907), (172, 2.8398566)]\n",
      "[(49, 3.6659803), (6, 3.2902122), (152, 3.1504438), (175, 2.9986222), (227, 2.8049355)]\n",
      "[(49, 3.8769798), (152, 3.434049), (6, 3.3313015), (175, 2.907463), (227, 2.8802204)]\n",
      "[(49, 3.6727242), (152, 3.0762732), (6, 2.86932), (99, 2.7899115), (256, 2.7466497)]\n",
      "[(49, 3.9226918), (152, 3.2862442), (6, 3.0652962), (175, 2.7339606), (153, 2.6471756)]\n",
      "[(49, 3.647889), (6, 2.846555), (174, 2.7415214), (152, 2.5759835), (99, 2.5425973)]\n",
      "[(49, 3.9726324), (6, 3.2921531), (152, 2.9104433), (175, 2.8715153), (227, 2.7738526)]\n",
      "[(49, 3.8344116), (6, 3.3623154), (152, 3.2142534), (99, 3.1939826), (174, 2.8769066)]\n",
      "[(49, 3.6974196), (6, 3.1597428), (152, 3.1189833), (99, 2.8725173), (256, 2.6583908)]\n",
      "[(49, 3.8742208), (152, 3.0744045), (256, 2.740728), (6, 2.6941948), (175, 2.4745693)]\n",
      "[(49, 3.6946707), (6, 3.0323825), (175, 3.0167534), (152, 2.7522783), (182, 2.6769102)]\n",
      "[(49, 3.628163), (152, 3.2890913), (6, 3.1466832), (99, 3.0913692), (256, 3.0384517)]\n",
      "[(49, 4.029704), (256, 3.198809), (152, 2.7819917), (175, 2.6249845), (213, 2.5680914)]\n",
      "[(49, 3.6710472), (152, 3.2794135), (174, 3.011558), (6, 2.9724069), (172, 2.965654)]\n",
      "[(49, 3.8746033), (152, 3.531826), (6, 3.0295115), (99, 2.8383155), (171, 2.7116103)]\n",
      "[(152, 3.9222362), (49, 3.7229671), (6, 3.476637), (153, 3.2250917), (99, 3.183987)]\n",
      "[(49, 3.4469776), (6, 3.1852922), (152, 3.1308002), (99, 2.7977657), (153, 2.5340235)]\n",
      "[(49, 3.7470608), (152, 3.734969), (6, 2.9112334), (227, 2.8378973), (175, 2.809478)]\n"
     ]
    }
   ],
   "source": [
    "models = []\n",
    "for i in range(ensemble):\n",
    "    model = bpr(factors=100, verify_negative_samples=True, iterations=epochs)\n",
    "    model.fit(data, show_progress=False)\n",
    "    models.append(model)\n",
    "    print(models[i].recommend(0, data.tocsr(), 5))"
   ]
  },
  {
   "cell_type": "code",
   "execution_count": 25,
   "metadata": {},
   "outputs": [
    {
     "name": "stdout",
     "output_type": "stream",
     "text": [
      "user: 0  -  Kendall's W: 0.63 \n",
      "Top 1: 49         avg_rank = 1.05     unc = 0.22 \n",
      "Top 2: 152        avg_rank = 2.50     unc = 0.74 \n",
      "Top 3: 6          avg_rank = 2.85     unc = 0.96 \n",
      "Top 4: 99         avg_rank = 6.15     unc = 2.59 \n",
      "Top 5: 175        avg_rank = 6.40     unc = 2.52 \n",
      "Top 6: 174        avg_rank = 8.45     unc = 3.01 \n",
      "Top 7: 155        avg_rank = 9.95     unc = 3.40 \n",
      "Top 8: 227        avg_rank = 10.00     unc = 4.30 \n",
      "Top 9: 153        avg_rank = 10.15     unc = 3.86 \n",
      "Top 10: 256        avg_rank = 10.30     unc = 6.52 \n",
      "\n"
     ]
    }
   ],
   "source": [
    "model = RankingAggregation(models, data.tocsr())\n",
    "print(model.recommend(0, N=10))"
   ]
  },
  {
   "cell_type": "code",
   "execution_count": 26,
   "metadata": {},
   "outputs": [
    {
     "data": {
      "image/png": "[encoded data removed]",
      "text/plain": [
       "<Figure size 432x288 with 1 Axes>"
      ]
     },
     "metadata": {
      "needs_background": "light"
     },
     "output_type": "display_data"
    }
   ],
   "source": [
    "unc = np.full((data.shape[1], data.shape[0]), np.nan)\n",
    "for i in range(data.shape[1]):\n",
    "    rec = model.recommend(i, N=data.shape[0]).unc\n",
    "    unc[i, :len(rec)] = rec\n",
    "unc = unc[:, np.invert(np.all(np.isnan(unc), axis=0))];\n",
    "avg = np.nanmean(unc, axis=0)\n",
    "f, ax = plt.subplots()\n",
    "ax.plot(range(1, len(avg)+1), avg, 'go')\n",
    "ax.set_xticks([1, 100] + list(range(300, len(avg)+1, 200)) + [len(avg)])\n",
    "ax.set_xlabel('Ranking position', Fontsize=20)\n",
    "ax.set_ylabel('Uncertainty', Fontsize=20)\n",
    "f.tight_layout()"
   ]
  },
  {
   "cell_type": "code",
   "execution_count": null,
   "metadata": {},
   "outputs": [],
   "source": []
  },
  {
   "cell_type": "code",
   "execution_count": null,
   "metadata": {},
   "outputs": [],
   "source": [
    "# Metric that takes uncertainty as penalization\n",
    "# Cutoff before aggregation\n",
    "# Ablation study - either random or using timestamps\n",
    "\n",
    "# Maan withney and wilcoxxon"
   ]
  }
 ],
 "metadata": {
  "kernelspec": {
   "display_name": "Python 3",
   "language": "python",
   "name": "python3"
  },
  "language_info": {
   "codemirror_mode": {
    "name": "ipython",
    "version": 3
   },
   "file_extension": ".py",
   "mimetype": "text/x-python",
   "name": "python",
   "nbconvert_exporter": "python",
   "pygments_lexer": "ipython3",
   "version": "3.7.4"
  }
 },
 "nbformat": 4,
 "nbformat_minor": 4
}
