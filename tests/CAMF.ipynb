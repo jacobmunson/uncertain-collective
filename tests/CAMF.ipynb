{
 "cells": [
  {
   "cell_type": "code",
   "execution_count": 1,
   "metadata": {},
   "outputs": [
    {
     "ename": "NameError",
     "evalue": "name 'Explicit' is not defined",
     "output_type": "error",
     "traceback": [
      "\u001b[0;31m---------------------------------------------------------------------------\u001b[0m",
      "\u001b[0;31mNameError\u001b[0m                                 Traceback (most recent call last)",
      "\u001b[0;32m<ipython-input-1-340d5d046152>\u001b[0m in \u001b[0;36m<module>\u001b[0;34m\u001b[0m\n\u001b[1;32m      2\u001b[0m \u001b[0msys\u001b[0m\u001b[0;34m.\u001b[0m\u001b[0mpath\u001b[0m\u001b[0;34m.\u001b[0m\u001b[0mappend\u001b[0m\u001b[0;34m(\u001b[0m\u001b[0;34m'..'\u001b[0m\u001b[0;34m)\u001b[0m\u001b[0;34m\u001b[0m\u001b[0;34m\u001b[0m\u001b[0m\n\u001b[1;32m      3\u001b[0m \u001b[0;34m\u001b[0m\u001b[0m\n\u001b[0;32m----> 4\u001b[0;31m \u001b[0;32mfrom\u001b[0m \u001b[0muncertain\u001b[0m\u001b[0;34m.\u001b[0m\u001b[0mmodels\u001b[0m \u001b[0;32mimport\u001b[0m \u001b[0mImplicitGMF\u001b[0m\u001b[0;34m,\u001b[0m \u001b[0mCAMF\u001b[0m\u001b[0;34m\u001b[0m\u001b[0;34m\u001b[0m\u001b[0m\n\u001b[0m\u001b[1;32m      5\u001b[0m \u001b[0;32mfrom\u001b[0m \u001b[0mutils\u001b[0m\u001b[0;34m.\u001b[0m\u001b[0mdata\u001b[0m \u001b[0;32mimport\u001b[0m \u001b[0mMovieLens\u001b[0m\u001b[0;34m\u001b[0m\u001b[0;34m\u001b[0m\u001b[0m\n\u001b[1;32m      6\u001b[0m \u001b[0;32mfrom\u001b[0m \u001b[0mutils\u001b[0m\u001b[0;34m.\u001b[0m\u001b[0mtraining\u001b[0m \u001b[0;32mimport\u001b[0m \u001b[0mtrain\u001b[0m\u001b[0;34m\u001b[0m\u001b[0;34m\u001b[0m\u001b[0m\n",
      "\u001b[0;32m~/Documents/RecSys/MF/tests/../uncertain/models/__init__.py\u001b[0m in \u001b[0;36m<module>\u001b[0;34m\u001b[0m\n\u001b[0;32m----> 1\u001b[0;31m \u001b[0;32mfrom\u001b[0m \u001b[0;34m.\u001b[0m\u001b[0mfactorization\u001b[0m \u001b[0;32mimport\u001b[0m \u001b[0mExplicitMF\u001b[0m\u001b[0;34m,\u001b[0m \u001b[0mCPMF\u001b[0m\u001b[0;34m,\u001b[0m \u001b[0mOrdRec\u001b[0m\u001b[0;34m,\u001b[0m \u001b[0mImplicitMF\u001b[0m\u001b[0;34m,\u001b[0m \u001b[0mUncertainMF\u001b[0m\u001b[0;34m,\u001b[0m \u001b[0mImplicitGMF\u001b[0m\u001b[0;34m,\u001b[0m \u001b[0mTwoWayMF\u001b[0m\u001b[0;34m,\u001b[0m \u001b[0mCAMF\u001b[0m\u001b[0;34m\u001b[0m\u001b[0;34m\u001b[0m\u001b[0m\n\u001b[0m\u001b[1;32m      2\u001b[0m \u001b[0;32mfrom\u001b[0m \u001b[0;34m.\u001b[0m\u001b[0mextras\u001b[0m \u001b[0;32mimport\u001b[0m \u001b[0mEnsemble\u001b[0m\u001b[0;34m,\u001b[0m \u001b[0mUncertainWrapper\u001b[0m\u001b[0;34m,\u001b[0m \u001b[0mItemPopularity\u001b[0m\u001b[0;34m,\u001b[0m \u001b[0mUserProfileLength\u001b[0m\u001b[0;34m,\u001b[0m \u001b[0mItemVariance\u001b[0m\u001b[0;34m\u001b[0m\u001b[0;34m\u001b[0m\u001b[0m\n",
      "\u001b[0;32m~/Documents/RecSys/MF/tests/../uncertain/models/factorization.py\u001b[0m in \u001b[0;36m<module>\u001b[0;34m\u001b[0m\n\u001b[1;32m     80\u001b[0m \u001b[0;34m\u001b[0m\u001b[0m\n\u001b[1;32m     81\u001b[0m \u001b[0;34m\u001b[0m\u001b[0m\n\u001b[0;32m---> 82\u001b[0;31m \u001b[0;32mclass\u001b[0m \u001b[0mExplicitMF\u001b[0m\u001b[0;34m(\u001b[0m\u001b[0mExplicit\u001b[0m\u001b[0;34m)\u001b[0m\u001b[0;34m:\u001b[0m\u001b[0;34m\u001b[0m\u001b[0;34m\u001b[0m\u001b[0m\n\u001b[0m\u001b[1;32m     83\u001b[0m \u001b[0;34m\u001b[0m\u001b[0m\n\u001b[1;32m     84\u001b[0m     \u001b[0;32mdef\u001b[0m \u001b[0m__init__\u001b[0m\u001b[0;34m(\u001b[0m\u001b[0mself\u001b[0m\u001b[0;34m,\u001b[0m \u001b[0mn_user\u001b[0m\u001b[0;34m,\u001b[0m \u001b[0mn_item\u001b[0m\u001b[0;34m,\u001b[0m \u001b[0membedding_dim\u001b[0m\u001b[0;34m,\u001b[0m \u001b[0mlr\u001b[0m\u001b[0;34m,\u001b[0m \u001b[0mweight_decay\u001b[0m\u001b[0;34m)\u001b[0m\u001b[0;34m:\u001b[0m\u001b[0;34m\u001b[0m\u001b[0;34m\u001b[0m\u001b[0m\n",
      "\u001b[0;31mNameError\u001b[0m: name 'Explicit' is not defined"
     ]
    }
   ],
   "source": [
    "import sys\n",
    "sys.path.append('..')\n",
    "\n",
    "from uncertain.models import ImplicitGMF, CAMF\n",
    "from utils.data import MovieLens\n",
    "from utils.training import train\n",
    "from utils.evaluation import test_recommendations\n",
    "\n",
    "import torch\n",
    "import numpy as np\n",
    "from scipy.stats import beta\n",
    "from matplotlib import pyplot as plt\n",
    "\n",
    "ML = MovieLens(batch_size=512)\n",
    "ML.prepare_data()"
   ]
  },
  {
   "cell_type": "code",
   "execution_count": null,
   "metadata": {},
   "outputs": [],
   "source": [
    "x = np.linspace(start=0, stop=1, num=1000)\n",
    "plt.plot(x, beta.pdf(x, a=2, b=1.5))"
   ]
  },
  {
   "cell_type": "code",
   "execution_count": null,
   "metadata": {},
   "outputs": [],
   "source": [
    "model = CAMF(ML.n_user, ML.n_item, embedding_dim=10, lr=1e-3, weight_decay=0, n_negative=5, penalty=0)\n",
    "train(model, ML)"
   ]
  },
  {
   "cell_type": "code",
   "execution_count": null,
   "metadata": {},
   "outputs": [],
   "source": [
    "users = torch.randint(0, model.n_user, (10000,))\n",
    "items = torch.randint(0, model.n_item, (10000,))\n",
    "with torch.no_grad():\n",
    "    params = model.forward(users, items)\n",
    "f, ax = plt.subplots(ncols=2)\n",
    "ax[0].hist(params[:, 0].numpy(), density=True)\n",
    "ax[1].hist(params[:, 1].numpy(), density=True)\n",
    "ax[0].set_xlabel(r'$\\alpha$', fontsize=20)\n",
    "ax[0].set_ylabel('Density', fontsize=20)\n",
    "ax[1].set_xlabel(r'$\\beta$', fontsize=20)\n",
    "ax[1].set_ylabel('Density', fontsize=20)\n",
    "f.tight_layout()"
   ]
  },
  {
   "cell_type": "code",
   "execution_count": null,
   "metadata": {},
   "outputs": [],
   "source": [
    "for quantile in [0.1, 0.3, 0.5, 0.7, 0.9]:\n",
    "    model.quantile = quantile\n",
    "    print(test_recommendations(model, ML, k=5))"
   ]
  },
  {
   "cell_type": "code",
   "execution_count": null,
   "metadata": {},
   "outputs": [],
   "source": [
    "for quantile in [0.1, 0.3, 0.5, 0.7, 0.9]:\n",
    "    model.quantile = quantile\n",
    "    print(model.recommend(0))"
   ]
  }
 ],
 "metadata": {
  "kernelspec": {
   "display_name": "Python 3",
   "language": "python",
   "name": "python3"
  },
  "language_info": {
   "codemirror_mode": {
    "name": "ipython",
    "version": 3
   },
   "file_extension": ".py",
   "mimetype": "text/x-python",
   "name": "python",
   "nbconvert_exporter": "python",
   "pygments_lexer": "ipython3",
   "version": "3.8.10"
  }
 },
 "nbformat": 4,
 "nbformat_minor": 4
}
