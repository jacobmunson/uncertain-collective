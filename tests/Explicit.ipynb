{
 "cells": [
  {
   "cell_type": "code",
   "execution_count": 1,
   "metadata": {},
   "outputs": [
    {
     "name": "stdout",
     "output_type": "stream",
     "text": [
      "MovieLens data prepared: 6040 users, 3706 items.\n",
      "951889 Train interactions, 24160 validation and test interactions.\n"
     ]
    }
   ],
   "source": [
    "import sys\n",
    "sys.path.append('..')\n",
    "\n",
    "import torch\n",
    "import numpy as np\n",
    "import pandas as pd\n",
    "from copy import deepcopy\n",
    "from matplotlib import pyplot as plt\n",
    "from matplotlib.colors import BASE_COLORS\n",
    "from sklearn.model_selection import KFold\n",
    "\n",
    "from utils.data import MovieLens\n",
    "from utils.training import train\n",
    "from uncertain.explicit import MF, UserHeuristic, ItemHeuristic, CPMF, OrdRec\n",
    "from utils.evaluation import test_recommendations, uncertainty_distributions\n",
    "from uncertain.extras import Ensemble, Resample, UncertainWrapper\n",
    "\n",
    "ML = MovieLens(batch_size=512)\n",
    "\n",
    "results = {}"
   ]
  },
  {
   "cell_type": "markdown",
   "metadata": {},
   "source": [
    "# ExplicitMF (FunkSVD)"
   ]
  },
  {
   "cell_type": "code",
   "execution_count": 2,
   "metadata": {},
   "outputs": [
    {
     "name": "stderr",
     "output_type": "stream",
     "text": [
      "GPU available: True, used: True\n",
      "TPU available: False, using: 0 TPU cores\n",
      "LOCAL_RANK: 0 - CUDA_VISIBLE_DEVICES: [0]\n",
      "\n",
      "  | Name            | Type      | Params\n",
      "----------------------------------------------\n",
      "0 | user_embeddings | Embedding | 60.4 K\n",
      "1 | item_embeddings | Embedding | 37.1 K\n",
      "----------------------------------------------\n",
      "97.5 K    Trainable params\n",
      "0         Non-trainable params\n",
      "97.5 K    Total params\n",
      "0.390     Total estimated model params size (MB)\n"
     ]
    },
    {
     "data": {
      "application/vnd.jupyter.widget-view+json": {
       "model_id": "",
       "version_major": 2,
       "version_minor": 0
      },
      "text/plain": [
       "Validation sanity check: 0it [00:00, ?it/s]"
      ]
     },
     "metadata": {},
     "output_type": "display_data"
    },
    {
     "data": {
      "application/vnd.jupyter.widget-view+json": {
       "model_id": "98ab9f2404074d839c4c72c0103cf36c",
       "version_major": 2,
       "version_minor": 0
      },
      "text/plain": [
       "Training: 0it [00:00, ?it/s]"
      ]
     },
     "metadata": {},
     "output_type": "display_data"
    },
    {
     "name": "stderr",
     "output_type": "stream",
     "text": [
      "/home/vcoscrato/Documents/RecSys/MF/tests/utils/evaluation.py:77: RuntimeWarning: invalid value encountered in true_divide\n",
      "  metrics['Novelty'][user] = (rec_distance[:, rated].min(1) * hits).cumsum(0) / hits.cumsum(0)\n"
     ]
    },
    {
     "data": {
      "text/plain": [
       "{'RMSE': 0.9322907828436512,\n",
       " 'Precision': array([0.01970199, 0.01804636, 0.01683223, 0.01568709, 0.01476821,\n",
       "        0.0138521 , 0.01374172, 0.0133899 , 0.0129507 , 0.01273179]),\n",
       " 'Recall': array([0.0049255 , 0.00902318, 0.01262417, 0.01568709, 0.01846026,\n",
       "        0.02077815, 0.02404801, 0.0267798 , 0.02913907, 0.03182947]),\n",
       " 'NDCG': array([0.01970199, 0.04525594, 0.07053008, 0.09142283, 0.11169154,\n",
       "        0.12799105, 0.14613537, 0.16176275, 0.17543641, 0.19119861]),\n",
       " 'Diversity': array([0.26933695, 0.2779155 , 0.28491636, 0.29019008, 0.29437361,\n",
       "        0.29819573, 0.3017053 , 0.30438158, 0.30712889]),\n",
       " 'Novelty': array([0.20803171, 0.20858448, 0.20987173, 0.21214816, 0.21345284,\n",
       "        0.21489873, 0.2155827 , 0.21499078, 0.21591682, 0.2157049 ])}"
      ]
     },
     "execution_count": 2,
     "metadata": {},
     "output_type": "execute_result"
    }
   ],
   "source": [
    "model = MF(ML.n_user, ML.n_item, embedding_dim=10, lr=1e-3, weight_decay=0.00001)\n",
    "train(model, ML)\n",
    "results['MF'] = test_recommendations(model, ML, max_k=10)\n",
    "results['MF']"
   ]
  },
  {
   "cell_type": "markdown",
   "metadata": {},
   "source": [
    "# Heuristics"
   ]
  },
  {
   "cell_type": "code",
   "execution_count": 3,
   "metadata": {},
   "outputs": [
    {
     "name": "stderr",
     "output_type": "stream",
     "text": [
      "/home/vcoscrato/Documents/RecSys/MF/tests/utils/evaluation.py:77: RuntimeWarning: invalid value encountered in true_divide\n",
      "  metrics['Novelty'][user] = (rec_distance[:, rated].min(1) * hits).cumsum(0) / hits.cumsum(0)\n",
      "/home/vcoscrato/Documents/RecSys/MF/tests/utils/evaluation.py:77: RuntimeWarning: invalid value encountered in true_divide\n",
      "  metrics['Novelty'][user] = (rec_distance[:, rated].min(1) * hits).cumsum(0) / hits.cumsum(0)\n",
      "/home/vcoscrato/Documents/RecSys/MF/tests/utils/evaluation.py:77: RuntimeWarning: invalid value encountered in true_divide\n",
      "  metrics['Novelty'][user] = (rec_distance[:, rated].min(1) * hits).cumsum(0) / hits.cumsum(0)\n"
     ]
    }
   ],
   "source": [
    "user_support = np.bincount(ML.train[:, 0].astype('int'))\n",
    "item_support = np.bincount(ML.train[:, 1].astype('int'))\n",
    "item_variance = pd.DataFrame(ML.train).groupby(1)[0].var()\n",
    "empty_idx = np.where(~pd.Series(np.arange(ML.n_item)).isin(item_variance.index))[0]\n",
    "item_variance = item_variance.append(pd.Series(np.zeros(len(empty_idx)), index=empty_idx)).sort_index().fillna(0).to_numpy()\n",
    "\n",
    "results['User support'] = test_recommendations(UserHeuristic(base_MF=model, uncertainty=-user_support), ML, max_k=10)\n",
    "results['Item support'] = test_recommendations(ItemHeuristic(base_MF=model, uncertainty=-item_support), ML, max_k=10)\n",
    "results['Item variance'] = test_recommendations(ItemHeuristic(base_MF=model, uncertainty=item_variance), ML, max_k=10)"
   ]
  },
  {
   "cell_type": "code",
   "execution_count": 13,
   "metadata": {},
   "outputs": [
    {
     "data": {
      "text/plain": [
       "{'RMSE': 0.9325468825887001,\n",
       " 'RPI': -0.18667921809633434,\n",
       " 'Classification': 0.5507755441029125,\n",
       " 'Quantile RMSE': array([1.11876079, 1.03612322, 1.02604573, 0.98056568, 0.97677417,\n",
       "        0.94358086, 0.95954037, 0.93291548, 0.90958588, 0.91606445,\n",
       "        0.85840435, 0.89529776, 0.95638289, 0.90523391, 0.89792744,\n",
       "        0.86964187, 0.87439317, 0.85275025, 0.86713736, 0.84851716]),\n",
       " 'Precision': array([0.01986755, 0.0182947 , 0.01721854, 0.01680464, 0.01572848,\n",
       "        0.01498344, 0.0141438 , 0.01374172, 0.01361295, 0.01317881]),\n",
       " 'Recall': array([0.00496689, 0.00914735, 0.01291391, 0.01680464, 0.0196606 ,\n",
       "        0.02247517, 0.02475166, 0.02748344, 0.03062914, 0.03294702]),\n",
       " 'NDCG': array([0.01986755, 0.04558707, 0.07133307, 0.09594926, 0.11491835,\n",
       "        0.13329934, 0.148668  , 0.16324488, 0.18017337, 0.19343327]),\n",
       " 'Diversity': array([0.26965707, 0.27836269, 0.28523415, 0.29045594, 0.29488823,\n",
       "        0.29859178, 0.30176038, 0.30464216, 0.30727037]),\n",
       " 'Novelty': array([0.20491767, 0.20689369, 0.20661508, 0.20977653, 0.21062292,\n",
       "        0.21393125, 0.21507993, 0.21574022, 0.21599752, 0.21620197]),\n",
       " 'RRI': array([0.03407116, 0.03230463, 0.03007802, 0.03407839, 0.02739297,\n",
       "        0.02146936, 0.02121969, 0.01931078, 0.01876935, 0.01899571])}"
      ]
     },
     "execution_count": 13,
     "metadata": {},
     "output_type": "execute_result"
    }
   ],
   "source": [
    "results['User support']"
   ]
  },
  {
   "cell_type": "markdown",
   "metadata": {},
   "source": [
    "# Ensemble"
   ]
  },
  {
   "cell_type": "code",
   "execution_count": 4,
   "metadata": {},
   "outputs": [
    {
     "name": "stderr",
     "output_type": "stream",
     "text": [
      "GPU available: True, used: True\n",
      "TPU available: False, using: 0 TPU cores\n",
      "LOCAL_RANK: 0 - CUDA_VISIBLE_DEVICES: [0]\n",
      "\n",
      "  | Name            | Type      | Params\n",
      "----------------------------------------------\n",
      "0 | user_embeddings | Embedding | 60.4 K\n",
      "1 | item_embeddings | Embedding | 37.1 K\n",
      "----------------------------------------------\n",
      "97.5 K    Trainable params\n",
      "0         Non-trainable params\n",
      "97.5 K    Total params\n",
      "0.390     Total estimated model params size (MB)\n"
     ]
    },
    {
     "data": {
      "application/vnd.jupyter.widget-view+json": {
       "model_id": "",
       "version_major": 2,
       "version_minor": 0
      },
      "text/plain": [
       "Validation sanity check: 0it [00:00, ?it/s]"
      ]
     },
     "metadata": {},
     "output_type": "display_data"
    },
    {
     "data": {
      "application/vnd.jupyter.widget-view+json": {
       "model_id": "9a71be41e32544b18940a4a234cb24ff",
       "version_major": 2,
       "version_minor": 0
      },
      "text/plain": [
       "Training: 0it [00:00, ?it/s]"
      ]
     },
     "metadata": {},
     "output_type": "display_data"
    },
    {
     "name": "stderr",
     "output_type": "stream",
     "text": [
      "GPU available: True, used: True\n",
      "TPU available: False, using: 0 TPU cores\n",
      "LOCAL_RANK: 0 - CUDA_VISIBLE_DEVICES: [0]\n",
      "\n",
      "  | Name            | Type      | Params\n",
      "----------------------------------------------\n",
      "0 | user_embeddings | Embedding | 60.4 K\n",
      "1 | item_embeddings | Embedding | 37.1 K\n",
      "----------------------------------------------\n",
      "97.5 K    Trainable params\n",
      "0         Non-trainable params\n",
      "97.5 K    Total params\n",
      "0.390     Total estimated model params size (MB)\n"
     ]
    },
    {
     "data": {
      "application/vnd.jupyter.widget-view+json": {
       "model_id": "",
       "version_major": 2,
       "version_minor": 0
      },
      "text/plain": [
       "Validation sanity check: 0it [00:00, ?it/s]"
      ]
     },
     "metadata": {},
     "output_type": "display_data"
    },
    {
     "data": {
      "application/vnd.jupyter.widget-view+json": {
       "model_id": "53a6000c06b747e1b24171c406466f4b",
       "version_major": 2,
       "version_minor": 0
      },
      "text/plain": [
       "Training: 0it [00:00, ?it/s]"
      ]
     },
     "metadata": {},
     "output_type": "display_data"
    },
    {
     "name": "stderr",
     "output_type": "stream",
     "text": [
      "/home/vcoscrato/Documents/RecSys/MF/tests/utils/evaluation.py:77: RuntimeWarning: invalid value encountered in true_divide\n",
      "  metrics['Novelty'][user] = (rec_distance[:, rated].min(1) * hits).cumsum(0) / hits.cumsum(0)\n"
     ]
    },
    {
     "data": {
      "text/plain": [
       "{'RMSE': 0.9283959560378288,\n",
       " 'RPI': 0.0701070635180886,\n",
       " 'Classification': 0.5099441892912133,\n",
       " 'Quantile RMSE': array([0.93096886, 0.9268415 , 0.906231  , 0.93451499, 0.94659978,\n",
       "        0.89854347, 0.93014881, 0.90396077, 0.91257482, 0.89888292,\n",
       "        0.90852646, 0.92613059, 0.94443322, 0.94579312, 0.90889399,\n",
       "        0.94202278, 0.95338513, 0.91808624, 0.92824049, 0.99769083]),\n",
       " 'Precision': array([0.01837748, 0.01895695, 0.01677704, 0.0151904 , 0.01480132,\n",
       "        0.01437638, 0.01393094, 0.01372103, 0.01342899, 0.01306291]),\n",
       " 'Recall': array([0.00459437, 0.00947848, 0.01258278, 0.0151904 , 0.01850166,\n",
       "        0.02156457, 0.02437914, 0.02744205, 0.03021523, 0.03265728]),\n",
       " 'NDCG': array([0.01837748, 0.04630235, 0.06913897, 0.08919177, 0.10996081,\n",
       "        0.12886165, 0.14511551, 0.16269263, 0.17785676, 0.19070152]),\n",
       " 'Diversity': array([0.27654081, 0.2839938 , 0.29025062, 0.29495742, 0.29907164,\n",
       "        0.30266385, 0.30571644, 0.30857803, 0.3110773 ]),\n",
       " 'Novelty': array([0.2030599 , 0.20681321, 0.20833089, 0.21232577, 0.21279283,\n",
       "        0.21350798, 0.21372344, 0.21428906, 0.2157703 , 0.21643583]),\n",
       " 'RRI': array([-0.0214717 , -0.01988495, -0.01701771, -0.00904959, -0.01122511,\n",
       "        -0.00976931, -0.00863631, -0.01146113, -0.01236928, -0.01201788])}"
      ]
     },
     "execution_count": 4,
     "metadata": {},
     "output_type": "execute_result"
    }
   ],
   "source": [
    "models = []\n",
    "for _ in range(2):\n",
    "    models.append(MF(ML.n_user, ML.n_item, embedding_dim=10, lr=1e-3, weight_decay=0.00001))\n",
    "    train(models[-1], ML)\n",
    "results['Ensemble'] = test_recommendations(Ensemble(models), ML, max_k=10)\n",
    "results['Ensemble']"
   ]
  },
  {
   "cell_type": "markdown",
   "metadata": {},
   "source": [
    "# Resample"
   ]
  },
  {
   "cell_type": "code",
   "execution_count": 5,
   "metadata": {},
   "outputs": [
    {
     "name": "stderr",
     "output_type": "stream",
     "text": [
      "GPU available: True, used: True\n",
      "TPU available: False, using: 0 TPU cores\n",
      "LOCAL_RANK: 0 - CUDA_VISIBLE_DEVICES: [0]\n",
      "\n",
      "  | Name            | Type      | Params\n",
      "----------------------------------------------\n",
      "0 | user_embeddings | Embedding | 60.4 K\n",
      "1 | item_embeddings | Embedding | 37.1 K\n",
      "----------------------------------------------\n",
      "97.5 K    Trainable params\n",
      "0         Non-trainable params\n",
      "97.5 K    Total params\n",
      "0.390     Total estimated model params size (MB)\n"
     ]
    },
    {
     "data": {
      "application/vnd.jupyter.widget-view+json": {
       "model_id": "",
       "version_major": 2,
       "version_minor": 0
      },
      "text/plain": [
       "Validation sanity check: 0it [00:00, ?it/s]"
      ]
     },
     "metadata": {},
     "output_type": "display_data"
    },
    {
     "data": {
      "application/vnd.jupyter.widget-view+json": {
       "model_id": "a9fa66c818b74f3dbf1b88c4ab9e5c96",
       "version_major": 2,
       "version_minor": 0
      },
      "text/plain": [
       "Training: 0it [00:00, ?it/s]"
      ]
     },
     "metadata": {},
     "output_type": "display_data"
    },
    {
     "name": "stderr",
     "output_type": "stream",
     "text": [
      "GPU available: True, used: True\n",
      "TPU available: False, using: 0 TPU cores\n",
      "LOCAL_RANK: 0 - CUDA_VISIBLE_DEVICES: [0]\n",
      "\n",
      "  | Name            | Type      | Params\n",
      "----------------------------------------------\n",
      "0 | user_embeddings | Embedding | 60.4 K\n",
      "1 | item_embeddings | Embedding | 37.1 K\n",
      "----------------------------------------------\n",
      "97.5 K    Trainable params\n",
      "0         Non-trainable params\n",
      "97.5 K    Total params\n",
      "0.390     Total estimated model params size (MB)\n"
     ]
    },
    {
     "data": {
      "application/vnd.jupyter.widget-view+json": {
       "model_id": "",
       "version_major": 2,
       "version_minor": 0
      },
      "text/plain": [
       "Validation sanity check: 0it [00:00, ?it/s]"
      ]
     },
     "metadata": {},
     "output_type": "display_data"
    },
    {
     "data": {
      "application/vnd.jupyter.widget-view+json": {
       "model_id": "5a46e99154fd414b8534a1d4e9aba6a7",
       "version_major": 2,
       "version_minor": 0
      },
      "text/plain": [
       "Training: 0it [00:00, ?it/s]"
      ]
     },
     "metadata": {},
     "output_type": "display_data"
    },
    {
     "name": "stderr",
     "output_type": "stream",
     "text": [
      "/home/vcoscrato/Documents/RecSys/MF/tests/utils/evaluation.py:77: RuntimeWarning: invalid value encountered in true_divide\n",
      "  metrics['Novelty'][user] = (rec_distance[:, rated].min(1) * hits).cumsum(0) / hits.cumsum(0)\n"
     ]
    },
    {
     "data": {
      "text/plain": [
       "{'RMSE': 0.9325468825887001,\n",
       " 'RPI': 0.18342812939682365,\n",
       " 'Classification': 0.5228558998373205,\n",
       " 'Quantile RMSE': array([0.9400808 , 0.91468336, 0.92969651, 0.88446109, 0.88076593,\n",
       "        0.88189616, 0.93175105, 0.88955872, 0.90855257, 0.92355181,\n",
       "        0.93613516, 0.90378616, 0.92709112, 0.92355315, 0.96033828,\n",
       "        0.94073624, 0.93550675, 0.97969976, 0.99414173, 1.04840438]),\n",
       " 'Precision': array([0.01986755, 0.0182947 , 0.01721854, 0.01680464, 0.01572848,\n",
       "        0.01498344, 0.0141438 , 0.01374172, 0.01361295, 0.01317881]),\n",
       " 'Recall': array([0.00496689, 0.00914735, 0.01291391, 0.01680464, 0.0196606 ,\n",
       "        0.02247517, 0.02475166, 0.02748344, 0.03062914, 0.03294702]),\n",
       " 'NDCG': array([0.01986755, 0.04558707, 0.07133307, 0.09594926, 0.11491835,\n",
       "        0.13329934, 0.148668  , 0.16324488, 0.18017337, 0.19343327]),\n",
       " 'Diversity': array([0.26965707, 0.27836269, 0.28523415, 0.29045594, 0.29488823,\n",
       "        0.29859178, 0.30176038, 0.30464216, 0.30727037]),\n",
       " 'Novelty': array([0.20491767, 0.20689369, 0.20661508, 0.20977653, 0.21062292,\n",
       "        0.21393125, 0.21507993, 0.21574022, 0.21599752, 0.21620197]),\n",
       " 'RRI': array([-0.09211074, -0.06055437, -0.04232404, -0.0299389 , -0.02604804,\n",
       "        -0.02105465, -0.01619544, -0.0144469 , -0.01448652, -0.01362526])}"
      ]
     },
     "execution_count": 5,
     "metadata": {},
     "output_type": "execute_result"
    }
   ],
   "source": [
    "models = []\n",
    "og = deepcopy(ML.train)\n",
    "for _ in range(2):\n",
    "    ML.train = og[np.random.choice(len(og), int(0.8*len(og)), replace=False), :]\n",
    "    models.append(MF(ML.n_user, ML.n_item, embedding_dim=10, lr=1e-3, weight_decay=0.00001))\n",
    "    train(models[-1], ML)\n",
    "ML.train = og\n",
    "results['Ensemble'] = test_recommendations(Resample(model, models), ML, max_k=10)\n",
    "results['Ensemble']"
   ]
  },
  {
   "cell_type": "markdown",
   "metadata": {},
   "source": [
    "# Zhu et. al"
   ]
  },
  {
   "cell_type": "code",
   "execution_count": 3,
   "metadata": {},
   "outputs": [
    {
     "name": "stderr",
     "output_type": "stream",
     "text": [
      "GPU available: True, used: True\n",
      "TPU available: False, using: 0 TPU cores\n",
      "LOCAL_RANK: 0 - CUDA_VISIBLE_DEVICES: [0]\n",
      "\n",
      "  | Name            | Type      | Params\n",
      "----------------------------------------------\n",
      "0 | user_embeddings | Embedding | 60.4 K\n",
      "1 | item_embeddings | Embedding | 37.1 K\n",
      "----------------------------------------------\n",
      "97.5 K    Trainable params\n",
      "0         Non-trainable params\n",
      "97.5 K    Total params\n",
      "0.390     Total estimated model params size (MB)\n"
     ]
    },
    {
     "data": {
      "application/vnd.jupyter.widget-view+json": {
       "model_id": "",
       "version_major": 2,
       "version_minor": 0
      },
      "text/plain": [
       "Validation sanity check: 0it [00:00, ?it/s]"
      ]
     },
     "metadata": {},
     "output_type": "display_data"
    },
    {
     "data": {
      "application/vnd.jupyter.widget-view+json": {
       "model_id": "05fad0ead5384c6d9bde4efadbddc4ac",
       "version_major": 2,
       "version_minor": 0
      },
      "text/plain": [
       "Training: 0it [00:00, ?it/s]"
      ]
     },
     "metadata": {},
     "output_type": "display_data"
    },
    {
     "name": "stderr",
     "output_type": "stream",
     "text": [
      "GPU available: True, used: True\n",
      "TPU available: False, using: 0 TPU cores\n",
      "LOCAL_RANK: 0 - CUDA_VISIBLE_DEVICES: [0]\n",
      "\n",
      "  | Name            | Type      | Params\n",
      "----------------------------------------------\n",
      "0 | user_embeddings | Embedding | 60.4 K\n",
      "1 | item_embeddings | Embedding | 37.1 K\n",
      "----------------------------------------------\n",
      "97.5 K    Trainable params\n",
      "0         Non-trainable params\n",
      "97.5 K    Total params\n",
      "0.390     Total estimated model params size (MB)\n"
     ]
    },
    {
     "data": {
      "application/vnd.jupyter.widget-view+json": {
       "model_id": "",
       "version_major": 2,
       "version_minor": 0
      },
      "text/plain": [
       "Validation sanity check: 0it [00:00, ?it/s]"
      ]
     },
     "metadata": {},
     "output_type": "display_data"
    },
    {
     "data": {
      "application/vnd.jupyter.widget-view+json": {
       "model_id": "4b879d02e2e04f2b990d01b65afc5bdd",
       "version_major": 2,
       "version_minor": 0
      },
      "text/plain": [
       "Training: 0it [00:00, ?it/s]"
      ]
     },
     "metadata": {},
     "output_type": "display_data"
    },
    {
     "name": "stderr",
     "output_type": "stream",
     "text": [
      "GPU available: True, used: True\n",
      "TPU available: False, using: 0 TPU cores\n",
      "LOCAL_RANK: 0 - CUDA_VISIBLE_DEVICES: [0]\n",
      "\n",
      "  | Name            | Type      | Params\n",
      "----------------------------------------------\n",
      "0 | user_embeddings | Embedding | 60.4 K\n",
      "1 | item_embeddings | Embedding | 37.1 K\n",
      "----------------------------------------------\n",
      "97.5 K    Trainable params\n",
      "0         Non-trainable params\n",
      "97.5 K    Total params\n",
      "0.390     Total estimated model params size (MB)\n"
     ]
    },
    {
     "data": {
      "application/vnd.jupyter.widget-view+json": {
       "model_id": "",
       "version_major": 2,
       "version_minor": 0
      },
      "text/plain": [
       "Validation sanity check: 0it [00:00, ?it/s]"
      ]
     },
     "metadata": {},
     "output_type": "display_data"
    },
    {
     "data": {
      "application/vnd.jupyter.widget-view+json": {
       "model_id": "f470fc12533b44c6baecab071e95ff61",
       "version_major": 2,
       "version_minor": 0
      },
      "text/plain": [
       "Training: 0it [00:00, ?it/s]"
      ]
     },
     "metadata": {},
     "output_type": "display_data"
    },
    {
     "name": "stderr",
     "output_type": "stream",
     "text": [
      "/home/vcoscrato/Documents/RecSys/MF/tests/utils/evaluation.py:77: RuntimeWarning: invalid value encountered in true_divide\n",
      "  metrics['Novelty'][user] = (rec_distance[:, rated].min(1) * hits).cumsum(0) / hits.cumsum(0)\n"
     ]
    },
    {
     "data": {
      "text/plain": [
       "{'RMSE': 0.9322907828436512,\n",
       " 'RPI': 0.5502200815202386,\n",
       " 'Classification': 0.6063097629408591,\n",
       " 'Quantile RMSE': array([0.87743661, 0.76259279, 0.83195957, 0.80980164, 0.84037808,\n",
       "        0.83762343, 0.82149199, 0.85493808, 0.8728114 , 0.88467782,\n",
       "        0.86911182, 0.89957139, 0.91262255, 0.97288379, 0.95187649,\n",
       "        1.02013891, 0.99551495, 1.07995232, 1.13175618, 1.2608667 ]),\n",
       " 'Precision': array([0.01970199, 0.01804636, 0.01683223, 0.01568709, 0.01476821,\n",
       "        0.0138521 , 0.01374172, 0.0133899 , 0.0129507 , 0.01273179]),\n",
       " 'Recall': array([0.0049255 , 0.00902318, 0.01262417, 0.01568709, 0.01846026,\n",
       "        0.02077815, 0.02404801, 0.0267798 , 0.02913907, 0.03182947]),\n",
       " 'NDCG': array([0.01970199, 0.04525594, 0.07053008, 0.09142283, 0.11169154,\n",
       "        0.12799105, 0.14613537, 0.16176275, 0.17543641, 0.19119861]),\n",
       " 'Diversity': array([0.26933695, 0.2779155 , 0.28491636, 0.29019008, 0.29437361,\n",
       "        0.29819573, 0.3017053 , 0.30438158, 0.30712889]),\n",
       " 'Novelty': array([0.20803171, 0.20858448, 0.20987173, 0.21214816, 0.21345284,\n",
       "        0.21489873, 0.2155827 , 0.21499078, 0.21591682, 0.2157049 ]),\n",
       " 'RRI': array([0.04017589, 0.02841555, 0.02869848, 0.02794022, 0.02487352,\n",
       "        0.02643123, 0.02757879, 0.02716646, 0.02411113, 0.02581397])}"
      ]
     },
     "execution_count": 3,
     "metadata": {},
     "output_type": "execute_result"
    }
   ],
   "source": [
    "errors = np.empty(len(ML.train))\n",
    "og = deepcopy(ML)\n",
    "for train_idx, test_idx in KFold(n_splits=2, shuffle=True).split(ML.train):\n",
    "    test = og.train[test_idx]\n",
    "    ML.train = og.train[train_idx]\n",
    "    model_ = MF(ML.n_user, ML.n_item, embedding_dim=10, lr=1e-3, weight_decay=0.00001)\n",
    "    train(model_, ML)\n",
    "    errors[test_idx] = np.abs(model_.predict(torch.tensor(test[:, 0]).long(), torch.tensor(test[:, 1]).long()) - test[:, 2])\n",
    "ML.train = deepcopy(og.train)\n",
    "ML.train[:, 2] = errors\n",
    "ML.val[:, 2] = np.abs(model.predict(torch.tensor(ML.val[:, 0]).long(), torch.tensor(ML.val[:, 1]).long()) - ML.val[:, 2])\n",
    "model_ = MF(ML.n_user, ML.n_item, embedding_dim=10, lr=1e-3, weight_decay=0.00001)\n",
    "train(model_, ML)\n",
    "ML = og\n",
    "results['MF-CV'] = test_recommendations(UncertainWrapper(model, model_), ML, max_k=10)\n",
    "results['MF-CV']    "
   ]
  },
  {
   "cell_type": "markdown",
   "metadata": {},
   "source": [
    "# CPMF"
   ]
  },
  {
   "cell_type": "code",
   "execution_count": 2,
   "metadata": {},
   "outputs": [
    {
     "name": "stderr",
     "output_type": "stream",
     "text": [
      "GPU available: True, used: True\n",
      "TPU available: False, using: 0 TPU cores\n",
      "LOCAL_RANK: 0 - CUDA_VISIBLE_DEVICES: [0]\n",
      "\n",
      "  | Name            | Type      | Params\n",
      "----------------------------------------------\n",
      "0 | user_embeddings | Embedding | 60.4 K\n",
      "1 | item_embeddings | Embedding | 37.1 K\n",
      "2 | user_gammas     | Embedding | 6.0 K \n",
      "3 | item_gammas     | Embedding | 3.7 K \n",
      "4 | var_activation  | Softplus  | 0     \n",
      "----------------------------------------------\n",
      "107 K     Trainable params\n",
      "0         Non-trainable params\n",
      "107 K     Total params\n",
      "0.429     Total estimated model params size (MB)\n"
     ]
    },
    {
     "data": {
      "application/vnd.jupyter.widget-view+json": {
       "model_id": "",
       "version_major": 2,
       "version_minor": 0
      },
      "text/plain": [
       "Validation sanity check: 0it [00:00, ?it/s]"
      ]
     },
     "metadata": {},
     "output_type": "display_data"
    },
    {
     "data": {
      "application/vnd.jupyter.widget-view+json": {
       "model_id": "d2183b86249c4946ba68358c3197f533",
       "version_major": 2,
       "version_minor": 0
      },
      "text/plain": [
       "Training: 0it [00:00, ?it/s]"
      ]
     },
     "metadata": {},
     "output_type": "display_data"
    },
    {
     "name": "stderr",
     "output_type": "stream",
     "text": [
      "/home/vcoscrato/Documents/RecSys/MF/tests/utils/evaluation.py:77: RuntimeWarning: invalid value encountered in true_divide\n",
      "  metrics['Novelty'][user] = (rec_distance[:, rated].min(1) * hits).cumsum(0) / hits.cumsum(0)\n"
     ]
    },
    {
     "data": {
      "text/plain": [
       "{'RMSE': 0.9209326651362798,\n",
       " 'RPI': 0.8300785921892574,\n",
       " 'Classification': 0.6371003782995758,\n",
       " 'Quantile RMSE': array([0.6750079 , 0.69373544, 0.74030248, 0.78416804, 0.78140947,\n",
       "        0.85615991, 0.81639412, 0.84774651, 0.83642002, 0.8931536 ,\n",
       "        0.92745084, 0.90992724, 0.89029515, 0.94680109, 0.96298591,\n",
       "        1.00214993, 1.05032073, 1.09629012, 1.14534631, 1.305232  ]),\n",
       " 'Precision': array([0.0147351 , 0.01216887, 0.0115894 , 0.01080298, 0.0102649 ,\n",
       "        0.00998896, 0.00969726, 0.00923013, 0.00901398, 0.0088245 ]),\n",
       " 'Recall': array([0.00368377, 0.00608444, 0.00869205, 0.01080298, 0.01283113,\n",
       "        0.01498344, 0.0169702 , 0.01846026, 0.02028146, 0.02206126]),\n",
       " 'NDCG': array([0.0147351 , 0.03112035, 0.04879612, 0.06355032, 0.07750783,\n",
       "        0.09159535, 0.10385743, 0.11495863, 0.12535027, 0.13633635]),\n",
       " 'Diversity': array([0.33959708, 0.34855437, 0.35515157, 0.3601955 , 0.3640646 ,\n",
       "        0.3671534 , 0.36956869, 0.37206372, 0.37414668]),\n",
       " 'Novelty': array([0.18845599, 0.19653079, 0.19788201, 0.19807511, 0.20102862,\n",
       "        0.20287604, 0.20516404, 0.2063605 , 0.20827081, 0.20884934]),\n",
       " 'RRI': array([0.09805042, 0.07883079, 0.07168805, 0.06762093, 0.0660682 ,\n",
       "        0.05739967, 0.05332861, 0.05129322, 0.05189657, 0.05042234])}"
      ]
     },
     "execution_count": 2,
     "metadata": {},
     "output_type": "execute_result"
    }
   ],
   "source": [
    "model = CPMF(ML.n_user, ML.n_item, embedding_dim=10, lr=1e-3, weight_decay=0.000001)\n",
    "train(model, ML)\n",
    "results['CPMF'] = test_recommendations(model, ML, max_k=10)\n",
    "results['CPMF']"
   ]
  },
  {
   "cell_type": "code",
   "execution_count": 3,
   "metadata": {},
   "outputs": [
    {
     "data": {
      "text/html": [
       "<div>\n",
       "<style scoped>\n",
       "    .dataframe tbody tr th:only-of-type {\n",
       "        vertical-align: middle;\n",
       "    }\n",
       "\n",
       "    .dataframe tbody tr th {\n",
       "        vertical-align: top;\n",
       "    }\n",
       "\n",
       "    .dataframe thead th {\n",
       "        text-align: right;\n",
       "    }\n",
       "</style>\n",
       "<table border=\"1\" class=\"dataframe\">\n",
       "  <thead>\n",
       "    <tr style=\"text-align: right;\">\n",
       "      <th></th>\n",
       "      <th>scores</th>\n",
       "      <th>uncertainties</th>\n",
       "    </tr>\n",
       "  </thead>\n",
       "  <tbody>\n",
       "    <tr>\n",
       "      <th>23</th>\n",
       "      <td>5.598755</td>\n",
       "      <td>0.768105</td>\n",
       "    </tr>\n",
       "    <tr>\n",
       "      <th>420</th>\n",
       "      <td>5.549239</td>\n",
       "      <td>0.803180</td>\n",
       "    </tr>\n",
       "    <tr>\n",
       "      <th>47</th>\n",
       "      <td>5.478809</td>\n",
       "      <td>0.702145</td>\n",
       "    </tr>\n",
       "    <tr>\n",
       "      <th>0</th>\n",
       "      <td>5.456058</td>\n",
       "      <td>0.782872</td>\n",
       "    </tr>\n",
       "    <tr>\n",
       "      <th>2617</th>\n",
       "      <td>5.410639</td>\n",
       "      <td>0.489534</td>\n",
       "    </tr>\n",
       "    <tr>\n",
       "      <th>...</th>\n",
       "      <td>...</td>\n",
       "      <td>...</td>\n",
       "    </tr>\n",
       "    <tr>\n",
       "      <th>2926</th>\n",
       "      <td>4.971545</td>\n",
       "      <td>0.825357</td>\n",
       "    </tr>\n",
       "    <tr>\n",
       "      <th>1449</th>\n",
       "      <td>4.969021</td>\n",
       "      <td>0.786707</td>\n",
       "    </tr>\n",
       "    <tr>\n",
       "      <th>617</th>\n",
       "      <td>4.963731</td>\n",
       "      <td>1.040814</td>\n",
       "    </tr>\n",
       "    <tr>\n",
       "      <th>2046</th>\n",
       "      <td>4.962124</td>\n",
       "      <td>0.919945</td>\n",
       "    </tr>\n",
       "    <tr>\n",
       "      <th>1195</th>\n",
       "      <td>4.961898</td>\n",
       "      <td>0.958689</td>\n",
       "    </tr>\n",
       "  </tbody>\n",
       "</table>\n",
       "<p>100 rows × 2 columns</p>\n",
       "</div>"
      ],
      "text/plain": [
       "        scores  uncertainties\n",
       "23    5.598755       0.768105\n",
       "420   5.549239       0.803180\n",
       "47    5.478809       0.702145\n",
       "0     5.456058       0.782872\n",
       "2617  5.410639       0.489534\n",
       "...        ...            ...\n",
       "2926  4.971545       0.825357\n",
       "1449  4.969021       0.786707\n",
       "617   4.963731       1.040814\n",
       "2046  4.962124       0.919945\n",
       "1195  4.961898       0.958689\n",
       "\n",
       "[100 rows x 2 columns]"
      ]
     },
     "execution_count": 3,
     "metadata": {},
     "output_type": "execute_result"
    }
   ],
   "source": [
    "model.recommend(3, n=100)"
   ]
  },
  {
   "cell_type": "markdown",
   "metadata": {},
   "source": [
    "# OrdRec"
   ]
  },
  {
   "cell_type": "code",
   "execution_count": 4,
   "metadata": {},
   "outputs": [
    {
     "name": "stderr",
     "output_type": "stream",
     "text": [
      "GPU available: True, used: True\n",
      "TPU available: False, using: 0 TPU cores\n",
      "LOCAL_RANK: 0 - CUDA_VISIBLE_DEVICES: [0]\n",
      "\n",
      "  | Name            | Type      | Params\n",
      "----------------------------------------------\n",
      "0 | user_embeddings | Embedding | 60.4 K\n",
      "1 | item_embeddings | Embedding | 37.1 K\n",
      "2 | user_betas      | Embedding | 24.2 K\n",
      "3 | item_betas      | Embedding | 14.8 K\n",
      "----------------------------------------------\n",
      "136 K     Trainable params\n",
      "0         Non-trainable params\n",
      "136 K     Total params\n",
      "0.546     Total estimated model params size (MB)\n"
     ]
    },
    {
     "data": {
      "application/vnd.jupyter.widget-view+json": {
       "model_id": "",
       "version_major": 2,
       "version_minor": 0
      },
      "text/plain": [
       "Validation sanity check: 0it [00:00, ?it/s]"
      ]
     },
     "metadata": {},
     "output_type": "display_data"
    },
    {
     "data": {
      "application/vnd.jupyter.widget-view+json": {
       "model_id": "2de9e69c5c7541118535030edf74ee35",
       "version_major": 2,
       "version_minor": 0
      },
      "text/plain": [
       "Training: 0it [00:00, ?it/s]"
      ]
     },
     "metadata": {},
     "output_type": "display_data"
    },
    {
     "name": "stderr",
     "output_type": "stream",
     "text": [
      "/home/vcoscrato/Documents/RecSys/MF/tests/utils/evaluation.py:77: RuntimeWarning: invalid value encountered in true_divide\n",
      "  metrics['Novelty'][user] = (rec_distance[:, rated].min(1) * hits).cumsum(0) / hits.cumsum(0)\n"
     ]
    },
    {
     "data": {
      "text/plain": [
       "{'RMSE': 0.9192647839720627,\n",
       " 'RPI': 0.9460883310448958,\n",
       " 'Classification': 0.6831820961244284,\n",
       " 'Quantile RMSE': array([0.60612808, 0.66677656, 0.68969374, 0.73544738, 0.75148521,\n",
       "        0.77856315, 0.80440326, 0.81234659, 0.83689123, 0.86748933,\n",
       "        0.89780878, 0.91466982, 0.93587136, 0.9572532 , 0.97856125,\n",
       "        1.02567117, 1.06210624, 1.12219092, 1.2349641 , 1.33636791]),\n",
       " 'Precision': array([0.01771523, 0.01589404, 0.01462472, 0.01432119, 0.01327815,\n",
       "        0.01291391, 0.01272469, 0.01241722, 0.01214128, 0.0119702 ]),\n",
       " 'Recall': array([0.00442881, 0.00794702, 0.01096854, 0.01432119, 0.01659768,\n",
       "        0.01937086, 0.02226821, 0.02483444, 0.02731788, 0.0299255 ]),\n",
       " 'NDCG': array([0.01771523, 0.04005154, 0.06095854, 0.08220227, 0.09838002,\n",
       "        0.11560098, 0.13151087, 0.14711937, 0.15942248, 0.1735632 ]),\n",
       " 'Diversity': array([0.28890842, 0.2966302 , 0.30172342, 0.30588968, 0.30927679,\n",
       "        0.31181079, 0.31424075, 0.3162197 , 0.31823332]),\n",
       " 'Novelty': array([0.19215511, 0.1971069 , 0.20094123, 0.20174798, 0.20217224,\n",
       "        0.20335767, 0.20451882, 0.20678423, 0.20783218, 0.20892423]),\n",
       " 'RRI': array([0.2567785 , 0.21636403, 0.19773918, 0.18363088, 0.16676699,\n",
       "        0.1601409 , 0.15460835, 0.14770224, 0.14153059, 0.13725667])}"
      ]
     },
     "execution_count": 4,
     "metadata": {},
     "output_type": "execute_result"
    }
   ],
   "source": [
    "ML.to_ordinal()\n",
    "model = OrdRec(ML.n_user, ML.n_item, ML.score_labels, embedding_dim=10, lr=1e-3, weight_decay=0.000001)\n",
    "torch.autograd.set_detect_anomaly(True)\n",
    "train(model, ML)\n",
    "results['OrdRec'] = test_recommendations(model, ML, max_k=10)\n",
    "results['OrdRec']"
   ]
  },
  {
   "cell_type": "code",
   "execution_count": 5,
   "metadata": {},
   "outputs": [
    {
     "data": {
      "text/html": [
       "<div>\n",
       "<style scoped>\n",
       "    .dataframe tbody tr th:only-of-type {\n",
       "        vertical-align: middle;\n",
       "    }\n",
       "\n",
       "    .dataframe tbody tr th {\n",
       "        vertical-align: top;\n",
       "    }\n",
       "\n",
       "    .dataframe thead th {\n",
       "        text-align: right;\n",
       "    }\n",
       "</style>\n",
       "<table border=\"1\" class=\"dataframe\">\n",
       "  <thead>\n",
       "    <tr style=\"text-align: right;\">\n",
       "      <th></th>\n",
       "      <th>scores</th>\n",
       "      <th>uncertainties</th>\n",
       "    </tr>\n",
       "  </thead>\n",
       "  <tbody>\n",
       "    <tr>\n",
       "      <th>104</th>\n",
       "      <td>4.829735</td>\n",
       "      <td>0.161096</td>\n",
       "    </tr>\n",
       "    <tr>\n",
       "      <th>1092</th>\n",
       "      <td>4.745718</td>\n",
       "      <td>0.229131</td>\n",
       "    </tr>\n",
       "    <tr>\n",
       "      <th>23</th>\n",
       "      <td>4.720235</td>\n",
       "      <td>0.250613</td>\n",
       "    </tr>\n",
       "    <tr>\n",
       "      <th>1494</th>\n",
       "      <td>4.719439</td>\n",
       "      <td>0.261928</td>\n",
       "    </tr>\n",
       "    <tr>\n",
       "      <th>2031</th>\n",
       "      <td>4.712744</td>\n",
       "      <td>0.290259</td>\n",
       "    </tr>\n",
       "    <tr>\n",
       "      <th>47</th>\n",
       "      <td>4.705644</td>\n",
       "      <td>0.239229</td>\n",
       "    </tr>\n",
       "    <tr>\n",
       "      <th>2231</th>\n",
       "      <td>4.696860</td>\n",
       "      <td>0.274573</td>\n",
       "    </tr>\n",
       "    <tr>\n",
       "      <th>420</th>\n",
       "      <td>4.666902</td>\n",
       "      <td>0.276607</td>\n",
       "    </tr>\n",
       "    <tr>\n",
       "      <th>1283</th>\n",
       "      <td>4.666565</td>\n",
       "      <td>0.265476</td>\n",
       "    </tr>\n",
       "    <tr>\n",
       "      <th>718</th>\n",
       "      <td>4.662746</td>\n",
       "      <td>0.277982</td>\n",
       "    </tr>\n",
       "  </tbody>\n",
       "</table>\n",
       "</div>"
      ],
      "text/plain": [
       "        scores  uncertainties\n",
       "104   4.829735       0.161096\n",
       "1092  4.745718       0.229131\n",
       "23    4.720235       0.250613\n",
       "1494  4.719439       0.261928\n",
       "2031  4.712744       0.290259\n",
       "47    4.705644       0.239229\n",
       "2231  4.696860       0.274573\n",
       "420   4.666902       0.276607\n",
       "1283  4.666565       0.265476\n",
       "718   4.662746       0.277982"
      ]
     },
     "execution_count": 5,
     "metadata": {},
     "output_type": "execute_result"
    }
   ],
   "source": [
    "model.recommend(6000)"
   ]
  },
  {
   "cell_type": "markdown",
   "metadata": {},
   "source": [
    "# Results"
   ]
  },
  {
   "cell_type": "code",
   "execution_count": null,
   "metadata": {},
   "outputs": [],
   "source": [
    "results_df = pd.DataFrame.from_dict(results, orient='Index')\n",
    "ratings = results_df[['RMSE', 'RPI', 'Classification']]\n",
    "print(ratings)\n",
    "colors = [c for c in list(BASE_COLORS)]\n",
    "keys = results_df.index.to_list()\n",
    "colors = {keys[i]:colors[i] for i in range(len(keys))}\n",
    "\n",
    "f, ax = plt.subplots(ncols=2, figsize=(18, 5))\n",
    "for key in keys:\n",
    "    ax[0].plot(np.arange(1, 11), results_df['Novelty'][key],\n",
    "               '-', color=colors[key], label=key, linewidth=3, alpha=0.6)\n",
    "    ax[1].plot(np.arange(2, 11), results_df['Diversity'][key],\n",
    "               '-', color=colors[key], label=key, linewidth=3, alpha=0.6)\n",
    "ax[0].set_xticks(np.arange(1, 11))\n",
    "ax[0].set_xlabel('K', fontsize=20)\n",
    "ax[0].set_ylabel('Expected surprise@K', fontsize=20)\n",
    "ax[0].legend(ncol=2, fontsize=15)\n",
    "ax[1].set_xticks(np.arange(2, 11))\n",
    "ax[1].set_xlabel('K', fontsize=20)\n",
    "ax[1].set_ylabel('Diversity@K', fontsize=20)\n",
    "ax[1].legend(ncol=2, fontsize=15)\n",
    "f.tight_layout()\n",
    "\n",
    "f, ax = plt.subplots(ncols=3, figsize=(18, 5), sharex=True)\n",
    "for key in keys:\n",
    "    ax[0].plot(np.arange(1, 11), results_df['Precision'][key],\n",
    "               '-', color=colors[key], label=key, linewidth=3, alpha=0.6)\n",
    "    ax[1].plot(np.arange(1, 11), results_df['Recall'][key],\n",
    "               '-', color=colors[key], label=key, linewidth=3, alpha=0.6)\n",
    "    ax[2].plot(np.arange(1, 11), results_df['NDCG'][key],\n",
    "               '-', color=colors[key], label=key, linewidth=3, alpha=0.6)\n",
    "ax[0].set_xticks(np.arange(1, 11))\n",
    "ax[0].set_xlabel('K', fontsize=20)\n",
    "ax[0].set_ylabel('Precision@K', fontsize=20)\n",
    "ax[0].legend(ncol=2, fontsize=15)\n",
    "ax[1].set_xlabel('K', fontsize=20)\n",
    "ax[1].set_ylabel('Recall@K', fontsize=20)\n",
    "ax[1].legend(ncol=2, fontsize=15)\n",
    "ax[2].set_xlabel('K', fontsize=20)\n",
    "ax[2].set_ylabel('NDCG@K', fontsize=20)\n",
    "ax[2].legend(ncol=2, fontsize=15)\n",
    "f.tight_layout()\n",
    "\n",
    "f, ax = plt.subplots(ncols=2, figsize=(18, 5))\n",
    "keys = ['CPMF', 'OrdRec']\n",
    "for key in keys:\n",
    "    ax[0].plot(np.arange(1, 21), results_df['Quantile RMSE'][key],\n",
    "            '-', color=colors[key], label=key, linewidth=3, alpha=0.6)\n",
    "    ax[1].plot(np.arange(1, 11), results_df['RRI'][key],\n",
    "            '-', color=colors[key], label=key, linewidth=3, alpha=0.6)\n",
    "ax[0].set_xticks(np.arange(1, 21))\n",
    "ax[0].set_xticklabels([round(elem, 2) for elem in np.linspace(start=0.05, stop=1, num=20).tolist()])\n",
    "ax[0].set_xlabel('Uncertainty quantile', fontsize=20)\n",
    "ax[0].set_ylabel('RMSE', fontsize=20)\n",
    "ax[0].legend(ncol=2, fontsize=20)\n",
    "ax[1].set_xlabel('K', fontsize=20)\n",
    "ax[1].set_ylabel('RRI@K', fontsize=20)\n",
    "ax[1].legend(ncol=2, fontsize=20)\n",
    "f.tight_layout()"
   ]
  }
 ],
 "metadata": {
  "kernelspec": {
   "display_name": "Python 3",
   "language": "python",
   "name": "python3"
  },
  "language_info": {
   "codemirror_mode": {
    "name": "ipython",
    "version": 3
   },
   "file_extension": ".py",
   "mimetype": "text/x-python",
   "name": "python",
   "nbconvert_exporter": "python",
   "pygments_lexer": "ipython3",
   "version": "3.8.10"
  }
 },
 "nbformat": 4,
 "nbformat_minor": 4
}
