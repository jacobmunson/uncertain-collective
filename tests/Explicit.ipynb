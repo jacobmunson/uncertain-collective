{
 "cells": [
  {
   "cell_type": "code",
   "execution_count": null,
   "metadata": {},
   "outputs": [],
   "source": [
    "import sys\n",
    "sys.path.append('..')\n",
    "\n",
    "import torch\n",
    "from uncertain.models import ExplicitMF, CPMF, OrdRec, GMF, GaussianGMF\n",
    "from uncertain.datasets.movielens import get_movielens_dataset\n",
    "\n",
    "from pytorch_lightning import Trainer\n",
    "from pytorch_lightning.callbacks.early_stopping import EarlyStopping\n",
    "from pytorch_lightning.callbacks.progress import ProgressBar\n",
    "\n",
    "import pandas as pd\n",
    "from matplotlib import pyplot as plt\n",
    "from matplotlib.colors import BASE_COLORS\n",
    "\n",
    "ML = get_movielens_dataset(variant='10M')\n",
    "train_val, test = ML.split(test_percentage=0.1, seed=0)\n",
    "train, val = train_val.split(test_percentage=0.1, seed=0)\n",
    "\n",
    "results = {}\n",
    "\n",
    "def train_test(model):\n",
    "    es = EarlyStopping(monitor='val_loss', min_delta=0.00, patience=3, verbose=False, mode='min')\n",
    "    trainer = Trainer(gpus=1, max_epochs=200, logger=False, callbacks=[es], checkpoint_callback=False)\n",
    "    trainer.fit(model, train_dataloader=train.dataloader(512), val_dataloaders=val.dataloader(512))\n",
    "    return {**model.test_ratings(test), **model.test_recommendations(test, train_val, 10, 4)}"
   ]
  },
  {
   "cell_type": "markdown",
   "metadata": {},
   "source": [
    "# ExplicitMF (FunkSVD)"
   ]
  },
  {
   "cell_type": "code",
   "execution_count": null,
   "metadata": {},
   "outputs": [],
   "source": [
    "model = ExplicitMF(interactions=train, embedding_dim=50, lr=1e-3, batch_size=512, weight_decay=0)\n",
    "results['ExplicitMF'] = train_test(model); results['ExplicitMF']"
   ]
  },
  {
   "cell_type": "markdown",
   "metadata": {},
   "source": [
    "# CPMF"
   ]
  },
  {
   "cell_type": "code",
   "execution_count": null,
   "metadata": {},
   "outputs": [],
   "source": [
    "model = CPMF(interactions=train, embedding_dim=50, lr=1e-3, batch_size=512, weight_decay=0)\n",
    "results['CPMF'] = train_test(model); results['CPMF']"
   ]
  },
  {
   "cell_type": "markdown",
   "metadata": {},
   "source": [
    "# GaussianGMF"
   ]
  },
  {
   "cell_type": "code",
   "execution_count": null,
   "metadata": {},
   "outputs": [],
   "source": [
    "model = GaussianGMF(interactions=train, embedding_dim=50, lr=1e-3, batch_size=512, weight_decay=0)\n",
    "results['GaussianGMF'] = train_test(model); results['GaussianGMF']"
   ]
  },
  {
   "cell_type": "markdown",
   "metadata": {},
   "source": [
    "# OrdRec"
   ]
  },
  {
   "cell_type": "code",
   "execution_count": null,
   "metadata": {},
   "outputs": [],
   "source": [
    "train.score_labels, train.scores = torch.unique(train.scores, return_inverse=True)\n",
    "val.scores = torch.unique(val.scores, return_inverse=True)[1]\n",
    "model = OrdRec(interactions=train, embedding_dim=50, lr=1e-3, batch_size=512, weight_decay=0)\n",
    "results['OrdRec'] = train_test(model); results['OrdRec']"
   ]
  },
  {
   "cell_type": "markdown",
   "metadata": {},
   "source": [
    "# Results"
   ]
  },
  {
   "cell_type": "code",
   "execution_count": null,
   "metadata": {},
   "outputs": [],
   "source": [
    "results_df = pd.DataFrame.from_dict(results, orient='Index')\n",
    "ratings = results_df[['loss', 'RMSE', 'RPI', 'Classification']]\n",
    "print(ratings)\n",
    "\n",
    "colors = [c for c in list(BASE_COLORS)]\n",
    "keys = results_df.index.to_list()\n",
    "colors = {keys[i]:colors[i] for i in range(len(keys))}\n",
    "f, ax = plt.subplots(nrows=3, figsize=(5, 10), sharex=True)\n",
    "for key in keys:\n",
    "    ax[0].plot(torch.arange(1, 11), results_df['Precision'][key],\n",
    "               '-', color=colors[key], label=key, linewidth=3, alpha=0.6)\n",
    "    ax[1].plot(torch.arange(1, 11), results_df['Recall'][key],\n",
    "               '-', color=colors[key], label=key, linewidth=3, alpha=0.6)\n",
    "    ax[2].plot(torch.arange(1, 11), results_df['NDCG'][key],\n",
    "               '-', color=colors[key], label=key, linewidth=3, alpha=0.6)\n",
    "ax[0].set_xticks(torch.arange(1, 11))\n",
    "ax[0].set_xlabel('K', fontsize=20)\n",
    "ax[0].set_ylabel('Precision@K', fontsize=20)\n",
    "ax[0].legend(ncol=2)\n",
    "ax[1].set_xlabel('K', fontsize=20)\n",
    "ax[1].set_ylabel('Recall@K', fontsize=20)\n",
    "ax[1].legend(ncol=2)\n",
    "ax[2].set_xlabel('K', fontsize=20)\n",
    "ax[2].set_ylabel('NDCG@K', fontsize=20)\n",
    "ax[2].legend(ncol=2)\n",
    "f.tight_layout()\n",
    "\n",
    "f, ax = plt.subplots(figsize=(10, 5))\n",
    "keys = ['CPMF', 'GaussianGMF', 'OrdRec']\n",
    "for key in keys:\n",
    "    ax.plot(torch.arange(1, 21), results_df['Quantile RMSE'][key],\n",
    "            '-', color=colors[key], label=key, linewidth=3, alpha=0.6)\n",
    "ax.set_xticks(torch.arange(1, 21))\n",
    "ax.set_xticklabels([round(elem, 2) for elem in torch.linspace(start=0.05, end=1, steps=20).tolist()])\n",
    "ax.set_xlabel('Uncertainty quantile', fontsize=20)\n",
    "ax.set_ylabel('RMSE', fontsize=20)\n",
    "ax.legend(ncol=2)\n",
    "f.tight_layout()\n",
    "\n",
    "f, ax = plt.subplots(figsize=(10, 5))\n",
    "for key in keys:\n",
    "    ax.plot(torch.arange(2, 11), results_df['RRI'][key].detach(),\n",
    "            '-', color=colors[key], label=key, linewidth=3, alpha=0.6)\n",
    "ax.set_xlabel('K', fontsize=20)\n",
    "ax.set_ylabel('RRI@K', fontsize=20)\n",
    "ax.legend(ncol=2)\n",
    "f.tight_layout()"
   ]
  }
 ],
 "metadata": {
  "kernelspec": {
   "display_name": "Python 3",
   "language": "python",
   "name": "python3"
  },
  "language_info": {
   "codemirror_mode": {
    "name": "ipython",
    "version": 3
   },
   "file_extension": ".py",
   "mimetype": "text/x-python",
   "name": "python",
   "nbconvert_exporter": "python",
   "pygments_lexer": "ipython3",
   "version": "3.8.10"
  }
 },
 "nbformat": 4,
 "nbformat_minor": 4
}
