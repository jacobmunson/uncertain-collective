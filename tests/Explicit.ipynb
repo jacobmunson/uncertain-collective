{
 "cells": [
  {
   "cell_type": "code",
   "execution_count": 1,
   "metadata": {},
   "outputs": [
    {
     "name": "stdout",
     "output_type": "stream",
     "text": [
      "MovieLens data prepared: 6040 users, 3416 items.\n",
      "724551 train, 77534 validation and 197526 test interactions.\n"
     ]
    }
   ],
   "source": [
    "import sys\n",
    "sys.path.append('..')\n",
    "\n",
    "import warnings\n",
    "warnings.filterwarnings(\"ignore\")\n",
    "\n",
    "import os\n",
    "import torch\n",
    "import pickle\n",
    "import numpy as np\n",
    "import pandas as pd\n",
    "from copy import deepcopy\n",
    "from matplotlib import pyplot as plt\n",
    "from sklearn.model_selection import KFold\n",
    "from matplotlib.colors import TABLEAU_COLORS\n",
    "\n",
    "from uncertain.utils.data import Data\n",
    "from uncertain.utils.training import train\n",
    "from uncertain.utils.evaluation import test\n",
    "\n",
    "from uncertain.explicit import Bias, MF, CPMF, OrdRec, BeMF\n",
    "from uncertain.extras import Ensemble, Resample, UncertainWrapper, UserHeuristic, ItemHeuristic\n",
    "\n",
    "data = pd.read_csv('data.csv')\n",
    "data.columns = ['user', 'item', 'score', 'timestamps']\n",
    "data = Data(data, implicit=False)\n",
    "\n",
    "os.chdir('Movielens')"
   ]
  },
  {
   "cell_type": "code",
   "execution_count": 2,
   "metadata": {},
   "outputs": [
    {
     "data": {
      "application/vnd.jupyter.widget-view+json": {
       "model_id": "34fde6ddf9c54431a7a804a1b7794048",
       "version_major": 2,
       "version_minor": 0
      },
      "text/plain": [
       "  0%|          | 0/6040 [00:00<?, ?it/s]"
      ]
     },
     "metadata": {},
     "output_type": "display_data"
    },
    {
     "data": {
      "text/plain": [
       "{'ratings': {'RMSE': 0.8961475827401935,\n",
       "  'avg_unc': 1.00531,\n",
       "  'std_unc': 0.28582996,\n",
       "  'RPI': 0.350578626819051,\n",
       "  'Classification': 0.5594883402035874,\n",
       "  'Quantile RMSE': array([0.87015744, 0.82810157, 0.80948756, 0.82000841, 0.79657753,\n",
       "         0.81878763, 0.83428975, 0.8542301 , 0.83686553, 0.86379003,\n",
       "         0.88662017, 0.88672562, 0.88966381, 0.90220953, 0.91997225,\n",
       "         0.93375913, 0.94261374, 0.98551712, 1.01651769, 1.15046101])},\n",
       " 'accuracy': {'Precision': array([0.07201987, 0.06754967, 0.06445916, 0.06105132, 0.05970199,\n",
       "         0.05885762, 0.05754494, 0.05593957, 0.05507726, 0.05374172]),\n",
       "  'Recall': array([0.00494128, 0.00934455, 0.01311488, 0.01628262, 0.01956197,\n",
       "         0.02295312, 0.02629745, 0.02919904, 0.03244778, 0.03468745]),\n",
       "  'NDCG': array([0.07201987, 0.1496751 , 0.2149294 , 0.26976773, 0.31626052,\n",
       "         0.36144665, 0.39587576, 0.43103193, 0.46534814, 0.4916442 ]),\n",
       "  'Diversity': array([0.35934964, 0.36383474, 0.36879938, 0.37212393, 0.37475691,\n",
       "         0.37710046, 0.37932849, 0.38097115, 0.38245045]),\n",
       "  'Expected surprise': array([0.01967444, 0.03105605, 0.03952521, 0.045432  , 0.05102018,\n",
       "         0.05629001, 0.06050619, 0.06407001, 0.06783849, 0.07039452])},\n",
       " 'uncertainty': {'Uncertainty': array([0.90180798, 0.94658018, 0.96971798, 0.99172287, 0.99994584,\n",
       "         1.02060424, 1.03076142, 1.0411182 , 1.0424084 , 1.05715853,\n",
       "         1.06990277, 1.06485175, 1.07884596, 1.08718443, 1.09275223,\n",
       "         1.08599044, 1.09344738, 1.09133838, 1.09957404, 1.10448778,\n",
       "         1.10912763, 1.11734038, 1.11494779, 1.11892901, 1.12885311,\n",
       "         1.12560658, 1.13046585, 1.13276881, 1.12865596, 1.13286691,\n",
       "         1.13477591, 1.13672965, 1.13956566, 1.14096924, 1.1430992 ,\n",
       "         1.15151794, 1.14567134, 1.14575418, 1.15259898, 1.15379181]),\n",
       "  'RRI': array([0.09587352, 0.08199528, 0.07374637, 0.06697928, 0.06221156,\n",
       "         0.05868144, 0.0548171 , 0.05186051, 0.04928379, 0.04672771])},\n",
       " 'cuts': {'values': array([1.35970068, 1.22759521]),\n",
       "  'plot': <Figure size 720x360 with 1 Axes>,\n",
       "  '2/3': {'Precision': array([0.0852649 , 0.07922185, 0.07422737, 0.07003311, 0.0689404 ,\n",
       "          0.06774283, 0.06594134, 0.06450745, 0.06313466, 0.06192053]),\n",
       "   'Recall': array([0.0061695 , 0.01145979, 0.0158426 , 0.01969203, 0.02382349,\n",
       "          0.02787593, 0.03139199, 0.03512829, 0.03841248, 0.04147109]),\n",
       "   'NDCG': array([0.0852649 , 0.17578151, 0.2479489 , 0.31052081, 0.36666598,\n",
       "          0.41786779, 0.45634406, 0.49683123, 0.53023373, 0.55932483]),\n",
       "   'Diversity': array([0.30427393, 0.31131771, 0.3174228 , 0.3215967 , 0.325363  ,\n",
       "          0.32832805, 0.3311163 , 0.33340113, 0.33551059]),\n",
       "   'Expected surprise': array([0.02408875, 0.03717368, 0.04568904, 0.05238821, 0.0588469 ,\n",
       "          0.06473376, 0.0688161 , 0.0727462 , 0.07595722, 0.07881003]),\n",
       "   'Coverage': array([1.])},\n",
       "  '1/3': {'Precision': array([0.09288079, 0.08625828, 0.0816777 , 0.07864238, 0.07622517,\n",
       "          0.07486203, 0.07280038, 0.07150248, 0.07012509, 0.06913907]),\n",
       "   'Recall': array([0.00647703, 0.01197283, 0.01666643, 0.02117704, 0.02514887,\n",
       "          0.0294927 , 0.03351867, 0.03777625, 0.04150104, 0.04547796]),\n",
       "   'NDCG': array([0.09288079, 0.18958597, 0.26724711, 0.33584516, 0.39009265,\n",
       "          0.44136446, 0.48599908, 0.52941071, 0.56578549, 0.59569363]),\n",
       "   'Diversity': array([0.2924775 , 0.29937375, 0.30525181, 0.3092224 , 0.31254526,\n",
       "          0.31551664, 0.3181485 , 0.32037918, 0.32233479]),\n",
       "   'Expected surprise': array([0.02692754, 0.04059857, 0.04976908, 0.05744773, 0.06311668,\n",
       "          0.06863045, 0.073323  , 0.07740309, 0.08095925, 0.08387274]),\n",
       "   'Coverage': array([1.])}},\n",
       " 'uncertain_accuracy': {'Precision': array([0.1115894 , 0.10695364, 0.10198675, 0.09735099, 0.09450331,\n",
       "         0.09059051, 0.08767739, 0.0843543 , 0.08222958, 0.07983444]),\n",
       "  'Recall': array([0.00724568, 0.01350046, 0.01910008, 0.02401964, 0.02917351,\n",
       "         0.03395337, 0.03866371, 0.04222449, 0.04638186, 0.0504881 ]),\n",
       "  'NDCG': array([0.1115894 , 0.22250212, 0.30967502, 0.38100104, 0.44143876,\n",
       "         0.49340961, 0.53938332, 0.57929019, 0.61570024, 0.6505631 ]),\n",
       "  'Diversity': array([0.24049972, 0.2516182 , 0.26277905, 0.27154892, 0.27879812,\n",
       "         0.28505486, 0.29051938, 0.2954108 , 0.3000785 ]),\n",
       "  'Expected surprise': array([0.02819039, 0.04307612, 0.05250988, 0.05929304, 0.06539475,\n",
       "         0.07013142, 0.07404352, 0.07754761, 0.0808308 , 0.08404275])}}"
      ]
     },
     "execution_count": 2,
     "metadata": {},
     "output_type": "execute_result"
    },
    {
     "data": {
      "image/png": "[encoded data removed]",
      "text/plain": [
       "<Figure size 720x360 with 1 Axes>"
      ]
     },
     "metadata": {
      "needs_background": "light"
     },
     "output_type": "display_data"
    }
   ],
   "source": [
    "files = {file: float(file.split('loss=')[1][:-5]) for file in os.listdir('checkpoints/cpmf')}\n",
    "model = CPMF(data.n_user, data.n_item, embedding_dim=10, lr=0, weight_decay=0)\n",
    "model = model.load_from_checkpoint(os.path.join('checkpoints/cpmf', min(files, key=files.get)))\n",
    "test(model, data, name='CPMF', max_k=10)"
   ]
  },
  {
   "cell_type": "code",
   "execution_count": 7,
   "metadata": {},
   "outputs": [
    {
     "data": {
      "text/plain": [
       "False"
      ]
     },
     "execution_count": 7,
     "metadata": {},
     "output_type": "execute_result"
    }
   ],
   "source": [
    "from uncertain.core import UncertainRecommender, VanillaRecommender\n",
    "isinstance(model, VanillaRecommender)"
   ]
  },
  {
   "cell_type": "code",
   "execution_count": 6,
   "metadata": {},
   "outputs": [
    {
     "data": {
      "text/plain": [
       "array([0.97266485, 0.31432978, 0.64085749, ..., 0.03179307, 0.20579085,\n",
       "       0.18361146])"
      ]
     },
     "execution_count": 6,
     "metadata": {},
     "output_type": "execute_result"
    }
   ],
   "source": [
    "model.uncertain_predict_user(torch.tensor(0), 4)"
   ]
  },
  {
   "cell_type": "markdown",
   "metadata": {},
   "source": [
    "# ExplicitMF (FunkSVD)"
   ]
  },
  {
   "cell_type": "code",
   "execution_count": null,
   "metadata": {},
   "outputs": [],
   "source": [
    "for wd in [10]:\n",
    "    model = MF(data.n_user, data.n_item, embedding_dim=10, lr=0.0001, weight_decay=wd)\n",
    "    train(model, data, path='checkpoints/baseline', name=f'wd={wd}')"
   ]
  },
  {
   "cell_type": "code",
   "execution_count": null,
   "metadata": {},
   "outputs": [],
   "source": [
    "files = {file: float(file.split('loss=')[1][:-5]) for file in os.listdir('checkpoints/baseline')}\n",
    "model = MF(data.n_user, data.n_item, embedding_dim=10, lr=0, weight_decay=0)\n",
    "model = model.load_from_checkpoint(os.path.join('checkpoints/baseline', min(files, key=files.get)))\n",
    "test_recommendations(model, data, name='Baseline', max_k=10)"
   ]
  },
  {
   "cell_type": "markdown",
   "metadata": {},
   "source": [
    "# Ensemble"
   ]
  },
  {
   "cell_type": "code",
   "execution_count": null,
   "metadata": {},
   "outputs": [],
   "source": [
    "for i in range(2):\n",
    "    model = MF(data.n_user, data.n_item, embedding_dim=10, lr=0.0001, weight_decay=0.0001)\n",
    "    train(model, data, path='checkpoints/ensemble', name=f'{i}')"
   ]
  },
  {
   "cell_type": "markdown",
   "metadata": {},
   "source": [
    "# Resample"
   ]
  },
  {
   "cell_type": "code",
   "execution_count": null,
   "metadata": {},
   "outputs": [],
   "source": [
    "og = deepcopy(data.train)\n",
    "for i in range(3):\n",
    "    data.train = og[np.random.choice(len(og), int(0.8*len(og)), replace=False), :]\n",
    "    model = MF(data.n_user, data.n_item, embedding_dim=10, lr=0.0001, weight_decay=0.0001)\n",
    "    train(model, data, path='checkpoints/resample', name=f'{i}')\n",
    "data.train = og"
   ]
  },
  {
   "cell_type": "markdown",
   "metadata": {},
   "source": [
    "# Zhu et. al"
   ]
  },
  {
   "cell_type": "code",
   "execution_count": null,
   "metadata": {},
   "outputs": [],
   "source": [
    "files = {file: float(file.split('loss=')[1][:-5]) for file in os.listdir('checkpoints/baseline')}\n",
    "model = MF(data.n_user, data.n_item, embedding_dim=10, lr=0, weight_decay=0)\n",
    "model = model.load_from_checkpoint(os.path.join('checkpoints/baseline', min(files, key=files.get)))\n",
    "errors = np.empty(len(data.train))\n",
    "og = deepcopy(data.train)\n",
    "og_val = deepcopy(data.val)\n",
    "for i, (train_idx, test_idx) in enumerate(KFold(n_splits=2, shuffle=True).split(data.train)):\n",
    "    test = og[test_idx]\n",
    "    data.train = og[train_idx]\n",
    "    model_ = MF(data.n_user, data.n_item, embedding_dim=10, lr=0.0001, weight_decay=model.weight_decay)\n",
    "    train(model_, data, path='checkpoints/cv', name=f'cv{i}')\n",
    "    errors[test_idx] = np.abs(model_.predict(torch.tensor(test[:, 0]).long(), torch.tensor(test[:, 1]).long()) - test[:, 2])\n",
    "data.train = deepcopy(og)\n",
    "data.train[:, 2] = errors\n",
    "data.val[:, 2] = np.abs(model.predict(torch.tensor(data.val[:, 0]).long(), torch.tensor(data.val[:, 1]).long()) - data.val[:, 2])\n",
    "\n",
    "# DoubleMF\n",
    "model = MF(data.n_user, data.n_item, embedding_dim=10, lr=0.0002, weight_decay=0)\n",
    "train(model, data, path='checkpoints/cv', name=f'MF')\n",
    "\n",
    "# Bias\n",
    "model = Bias(data.n_user, data.n_item, lr=0.0001)\n",
    "train(model, data, path='checkpoints/cv', name=f'Bias')\n",
    "\n",
    "#Fix\n",
    "data.train = og\n",
    "data.val = og_val"
   ]
  },
  {
   "cell_type": "markdown",
   "metadata": {},
   "source": [
    "# CPMF"
   ]
  },
  {
   "cell_type": "code",
   "execution_count": null,
   "metadata": {},
   "outputs": [],
   "source": [
    "for wd in [0.001]:\n",
    "    for lr in [0.00001]:\n",
    "        model = CPMF(data.n_user, data.n_item, embedding_dim=10, lr=0.0002, weight_decay=wd, lr_var=lr)\n",
    "        train(model, data, path='checkpoints/cpmf', name=f'wd={wd}-lr={lr}')"
   ]
  },
  {
   "cell_type": "markdown",
   "metadata": {},
   "source": [
    "# OrdRec"
   ]
  },
  {
   "cell_type": "code",
   "execution_count": null,
   "metadata": {},
   "outputs": [],
   "source": [
    "data.to_ordinal()\n",
    "for wd in [0.001]:\n",
    "    for lr in [0.0005]:\n",
    "        model = OrdRec(data.n_user, data.n_item, data.score_labels, embedding_dim=10, lr=0.0002, weight_decay=wd, lr_step=lr)\n",
    "        train(model, data, path='checkpoints/ordrec', name=f'wd={wd}-lr={lr}')"
   ]
  },
  {
   "cell_type": "markdown",
   "metadata": {},
   "source": [
    "# BeMF"
   ]
  },
  {
   "cell_type": "code",
   "execution_count": null,
   "metadata": {},
   "outputs": [],
   "source": [
    "data.to_ordinal()\n",
    "for wd in [0.01, 0.001, 0]:\n",
    "    for lr in [0.05, 0.01, 0.005]:\n",
    "        model = BeMF(data.n_user, data.n_item, data.score_labels, embedding_dim=50, lr=lr, weight_decay=wd)\n",
    "        train(model, data, path='checkpoints/bemf', name=f'wd={wd}-lr={lr}')"
   ]
  },
  {
   "cell_type": "markdown",
   "metadata": {},
   "source": [
    "# Results"
   ]
  },
  {
   "cell_type": "code",
   "execution_count": null,
   "metadata": {},
   "outputs": [],
   "source": [
    "# Baseline\n",
    "files = {file: float(file.split('loss=')[1][:-5]) for file in os.listdir('checkpoints/baseline')}\n",
    "model = MF(data.n_user, data.n_item, embedding_dim=10, lr=0, weight_decay=0)\n",
    "model = model.load_from_checkpoint(os.path.join('checkpoints/baseline', min(files, key=files.get)))\n",
    "test_recommendations(model, data, name='Baseline', max_k=4)\n",
    "\n",
    "# Heuristics\n",
    "user_support = np.bincount(data.train_val.user)\n",
    "item = data.train_val.groupby('item').agg({'user': 'size', 'score': 'var'})\n",
    "empty = np.where(~pd.Series(np.arange(data.n_item)).isin(item.index))[0]\n",
    "empty = pd.DataFrame(np.full((len(empty), 2), float('NaN')), index=empty, columns=['user', 'score'])\n",
    "item = item.append(empty).sort_index().fillna(0).to_numpy()\n",
    "test_recommendations(UserHeuristic(base_MF=model, uncertainty=-user_support), data, name='User_support', max_k=4)\n",
    "test_recommendations(ItemHeuristic(base_MF=model, uncertainty=-item[:, 0]), data, name='Item_support', max_k=4)\n",
    "test_recommendations(ItemHeuristic(base_MF=model, uncertainty=item[:, 1]), data, name='Item_variance', max_k=4)\n",
    "\n",
    "# Ensemble\n",
    "models = [model]\n",
    "for file in os.listdir('checkpoints/ensemble'):\n",
    "    models.append(MF(data.n_user, data.n_item, embedding_dim=10, lr=0, weight_decay=0))\n",
    "    models[-1] = models[-1].load_from_checkpoint(os.path.join('checkpoints/ensemble', file))\n",
    "ensemble = Ensemble(models)\n",
    "test_recommendations(ensemble, data, name='Ensemble', max_k=4)\n",
    "\n",
    "# Resample\n",
    "models = []\n",
    "for file in os.listdir('checkpoints/resample'):\n",
    "    models.append(MF(data.n_user, data.n_item, embedding_dim=10, lr=0, weight_decay=0))\n",
    "    models[-1] = models[-1].load_from_checkpoint(os.path.join('checkpoints/resample', file))\n",
    "resample = Resample(model, models)\n",
    "test_recommendations(resample, data, name='Resample', max_k=4)\n",
    "\n",
    "# Zhu\n",
    "for file in os.listdir('checkpoints/cv'):\n",
    "    if 'Bias' in file:\n",
    "        bias = Bias(data.n_user, data.n_item, lr=0)\n",
    "        bias = bias.load_from_checkpoint(os.path.join('checkpoints/cv', file))\n",
    "    elif 'MF' in file:\n",
    "        mf = MF(data.n_user, data.n_item, embedding_dim=10, lr=0, weight_decay=0)\n",
    "        mf = mf.load_from_checkpoint(os.path.join('checkpoints/cv', file))\n",
    "bias_cv = UncertainWrapper(model, bias)\n",
    "test_recommendations(bias_cv, data, name='CV-Bias', max_k=4)\n",
    "mf_cv = UncertainWrapper(model, mf)\n",
    "test_recommendations(mf_cv, data, name='CV-PMF', max_k=4)\n",
    "\n",
    "# CPMF\n",
    "files = {file: float(file.split('loss=')[1][:-5]) for file in os.listdir('checkpoints/cpmf')}\n",
    "model = CPMF(data.n_user, data.n_item, embedding_dim=10, lr=0, weight_decay=0)\n",
    "model = model.load_from_checkpoint(os.path.join('checkpoints/cpmf', min(files, key=files.get)))\n",
    "test_recommendations(model, data, name='CPMF', max_k=4)\n",
    "\n",
    "# OrdRec\n",
    "score_labels = pd.factorize(data.train[:, 2], sort=True)[1]\n",
    "files = {file: float(file.split('loss=')[1][:-5]) for file in os.listdir('checkpoints/ordrec')}\n",
    "model = OrdRec(data.n_user, data.n_item, score_labels=score_labels, embedding_dim=10)\n",
    "model = model.load_from_checkpoint(os.path.join('checkpoints/ordrec', min(files, key=files.get)))\n",
    "test_recommendations(model, data, name='OrdRec', max_k=4)\n",
    "\n",
    "# BeMF\n",
    "score_labels = pd.factorize(data.train[:, 2], sort=True)[1]\n",
    "files = {file: float(file.split('loss=')[1][:-5]) for file in os.listdir('checkpoints/bemf')}\n",
    "model = BeMF(data.n_user, data.n_item, score_labels=score_labels, embedding_dim=10)\n",
    "model = model.load_from_checkpoint(os.path.join('checkpoints/bemf', min(files, key=files.get)))\n",
    "test_recommendations(model, data, name='BeMF', max_k=4)"
   ]
  },
  {
   "cell_type": "code",
   "execution_count": null,
   "metadata": {},
   "outputs": [],
   "source": [
    "# Load\n",
    "results = {}\n",
    "for key in os.listdir('results'):\n",
    "    results[key.replace('.pkl', '').replace('_', ' ')] = pickle.load(open(os.path.join('results', key), 'rb'))\n",
    "results_df = pd.DataFrame.from_dict(results, orient='index')\n",
    "keys = results_df.index.to_list()\n",
    "colors = [c for c in list(TABLEAU_COLORS)] + ['k']\n",
    "colors = {keys[i]:colors[i] for i in range(len(keys))}\n",
    "\n",
    "# Rating prediction evaluation\n",
    "ratings = results_df[['RMSE', 'RPI', 'Classification']]\n",
    "print(ratings)\n",
    "\n",
    "# Uncertainty-RMSE curve\n",
    "keys = [key for key in results_df.index.to_list() if key != 'Baseline']\n",
    "f, ax = plt.subplots(figsize=(10, 5))\n",
    "for key in keys:\n",
    "    ax.plot(np.arange(1, 21), results_df['Quantile RMSE'][key],\n",
    "               '-', color=colors[key], label=key, linewidth=3, alpha=0.6)\n",
    "ax.set_xticks(np.arange(1, 21))\n",
    "ax.set_xticklabels([round(elem, 2) for elem in np.linspace(start=0.05, stop=1, num=20).tolist()])\n",
    "ax.set_xlabel('Uncertainty quantile', fontsize=20)\n",
    "ax.set_ylabel('RMSE', fontsize=20)\n",
    "ax.legend(ncol=2, fontsize=15)\n",
    "f.tight_layout()\n",
    "f.savefig('plots/RMSE-uncertainty.pdf')\n",
    "\n",
    "# RRI\n",
    "f, ax = plt.subplots(figsize=(10, 5))\n",
    "for key in keys:\n",
    "    ax.plot(np.arange(1, 5), results_df['RRI'][key],\n",
    "               '-', color=colors[key], label=key, linewidth=3, alpha=0.6)\n",
    "ax.set_xlabel('K', fontsize=20)\n",
    "ax.set_ylabel('RRI@K', fontsize=20)\n",
    "ax.legend(ncol=2, fontsize=15)\n",
    "f.tight_layout()\n",
    "f.savefig('plots/RRI.pdf')\n",
    "\n",
    "# Top-K accuracy metrics\n",
    "keys = ['Baseline', 'CPMF', 'Ensemble', 'OrdRec', 'BeMF']\n",
    "f, ax = plt.subplots(ncols=3, figsize=(18, 5), sharex=True)\n",
    "for key in keys:\n",
    "    ax[0].plot(np.arange(1, 5), results_df['Precision'][key],\n",
    "               '-', color=colors[key], label=key, linewidth=3, alpha=0.6)\n",
    "    ax[1].plot(np.arange(1, 5), results_df['Recall'][key],\n",
    "               '-', color=colors[key], label=key, linewidth=3, alpha=0.6)\n",
    "    ax[2].plot(np.arange(1, 5), results_df['NDCG'][key],\n",
    "               '-', color=colors[key], label=key, linewidth=3, alpha=0.6)\n",
    "ax[0].set_xticks(np.arange(1, 5))\n",
    "ax[0].set_xlabel('K', fontsize=20)\n",
    "ax[0].set_ylabel('Precision@K', fontsize=20)\n",
    "ax[0].legend(ncol=2, fontsize=15)\n",
    "ax[1].set_xlabel('K', fontsize=20)\n",
    "ax[1].set_ylabel('Recall@K', fontsize=20)\n",
    "ax[1].legend(ncol=2, fontsize=15)\n",
    "ax[2].set_xlabel('K', fontsize=20)\n",
    "ax[2].set_ylabel('NDCG@K', fontsize=20)\n",
    "ax[2].legend(ncol=2, fontsize=15)\n",
    "f.tight_layout()\n",
    "f.savefig('plots/accuracy.pdf')"
   ]
  },
  {
   "cell_type": "code",
   "execution_count": null,
   "metadata": {},
   "outputs": [],
   "source": [
    "# Rating prediction evaluation\n",
    "cols = [col for col in results_df.columns if 'Cuts' in col]\n",
    "results_df = results_df.drop('Baseline')\n",
    "for col in cols:\n",
    "    print('\\n', col)\n",
    "    print(pd.DataFrame(np.vstack(results_df[col].to_numpy()), index=results_df.index, columns=['Base', 'Cut 1/3', 'Cut 2/3']))"
   ]
  },
  {
   "cell_type": "code",
   "execution_count": null,
   "metadata": {},
   "outputs": [],
   "source": [
    "\\mu + 2*\\sigma\n",
    "\n",
    "avg - err\n",
    "\n",
    "p(r > 3.5) 4 / 5"
   ]
  }
 ],
 "metadata": {
  "kernelspec": {
   "display_name": "Python 3",
   "language": "python",
   "name": "python3"
  },
  "language_info": {
   "codemirror_mode": {
    "name": "ipython",
    "version": 3
   },
   "file_extension": ".py",
   "mimetype": "text/x-python",
   "name": "python",
   "nbconvert_exporter": "python",
   "pygments_lexer": "ipython3",
   "version": "3.8.10"
  }
 },
 "nbformat": 4,
 "nbformat_minor": 4
}
