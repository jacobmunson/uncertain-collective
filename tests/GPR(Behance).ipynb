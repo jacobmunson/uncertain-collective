{
 "cells": [
  {
   "cell_type": "code",
   "execution_count": 1,
   "metadata": {},
   "outputs": [
    {
     "name": "stdout",
     "output_type": "stream",
     "text": [
      "MovieLens data prepared: 14766 users, 32480 items.\n",
      "571980 train, 57112 validation and 7956 test interactions.\n"
     ]
    }
   ],
   "source": [
    "import os\n",
    "import sys\n",
    "sys.path.append('..')\n",
    "\n",
    "import torch\n",
    "import pickle\n",
    "import optuna\n",
    "import numpy as np\n",
    "import pandas as pd\n",
    "\n",
    "from uncertain.BPR import bprMF, biasMF, TwoWayMF, bprGMF, bprMLP\n",
    "from uncertain.BPR import ABPR, GPR\n",
    "\n",
    "from uncertain.utils.data import Data\n",
    "from uncertain.utils.training import train\n",
    "from uncertain.utils.evaluation_implicit import test\n",
    "\n",
    "from matplotlib import pyplot as plt\n",
    "\n",
    "os.chdir('Behance')\n",
    "\n",
    "if os.path.isfile('data.pkl'):\n",
    "    with open('data.pkl', 'rb') as f:\n",
    "        data = pickle.load(f)\n",
    "    print(f'MovieLens data prepared: {data.n_user} users, {data.n_item} items.')\n",
    "    print(f'{len(data.train)} train, {len(data.val)} validation and {len(data.test)} test interactions.')\n",
    "    data.batch_size = int(1e3)\n",
    "else:\n",
    "    data = pd.read_table('Behance_appreciate_1M', sep=' ', header=None)\n",
    "    data.columns = ['user', 'item', 'timestamps']\n",
    "    data = Data(data, implicit=True, users_on_test=1000, distances=False)\n",
    "    with open('data.pkl', 'wb') as f:\n",
    "        pickle.dump(data, f, protocol=4)"
   ]
  },
  {
   "cell_type": "markdown",
   "metadata": {},
   "source": [
    "# Baseline (BPR)"
   ]
  },
  {
   "cell_type": "code",
   "execution_count": 2,
   "metadata": {},
   "outputs": [
    {
     "name": "stderr",
     "output_type": "stream",
     "text": [
      "\u001b[32m[I 2022-02-25 15:37:46,656]\u001b[0m A new study created in memory with name: no-name-68dbc6a4-d2f6-48da-a387-884fbf7754f8\u001b[0m\n",
      "GPU available: True, used: True\n",
      "TPU available: False, using: 0 TPU cores\n",
      "IPU available: False, using: 0 IPUs\n",
      "LOCAL_RANK: 0 - CUDA_VISIBLE_DEVICES: [0]\n",
      "\n",
      "  | Name            | Type      | Params\n",
      "----------------------------------------------\n",
      "0 | user_embeddings | Embedding | 295 K \n",
      "1 | item_embeddings | Embedding | 649 K \n",
      "2 | rho_activation  | Softplus  | 0     \n",
      "----------------------------------------------\n",
      "944 K     Trainable params\n",
      "0         Non-trainable params\n",
      "944 K     Total params\n",
      "3.780     Total estimated model params size (MB)\n"
     ]
    },
    {
     "data": {
      "application/vnd.jupyter.widget-view+json": {
       "model_id": "",
       "version_major": 2,
       "version_minor": 0
      },
      "text/plain": [
       "Validation sanity check: 0it [00:00, ?it/s]"
      ]
     },
     "metadata": {},
     "output_type": "display_data"
    },
    {
     "data": {
      "application/vnd.jupyter.widget-view+json": {
       "model_id": "512e9ce9a82242189c481be5ee686f9e",
       "version_major": 2,
       "version_minor": 0
      },
      "text/plain": [
       "Training: 0it [00:00, ?it/s]"
      ]
     },
     "metadata": {},
     "output_type": "display_data"
    },
    {
     "name": "stderr",
     "output_type": "stream",
     "text": [
      "Trainer was signaled to stop but required minimum epochs (20) or minimum steps (None) has not been met. Training will continue...\n",
      "Trainer was signaled to stop but required minimum epochs (20) or minimum steps (None) has not been met. Training will continue...\n",
      "Trainer was signaled to stop but required minimum epochs (20) or minimum steps (None) has not been met. Training will continue...\n",
      "Trainer was signaled to stop but required minimum epochs (20) or minimum steps (None) has not been met. Training will continue...\n",
      "Trainer was signaled to stop but required minimum epochs (20) or minimum steps (None) has not been met. Training will continue...\n",
      "Trainer was signaled to stop but required minimum epochs (20) or minimum steps (None) has not been met. Training will continue...\n",
      "Trainer was signaled to stop but required minimum epochs (20) or minimum steps (None) has not been met. Training will continue...\n",
      "\u001b[32m[I 2022-02-25 15:38:47,018]\u001b[0m Trial 0 finished with value: 0.6115190386772156 and parameters: {'dim': 20, 'lr': 8.0587647923672, 'wd': 4.803145685211414e-05}. Best is trial 0 with value: 0.6115190386772156.\u001b[0m\n",
      "GPU available: True, used: True\n",
      "TPU available: False, using: 0 TPU cores\n",
      "IPU available: False, using: 0 IPUs\n",
      "/home/vcoscrato/.local/lib/python3.8/site-packages/pytorch_lightning/core/datamodule.py:469: LightningDeprecationWarning: DataModule.setup has already been called, so it will not be called again. In v1.6 this behavior will change to always call DataModule.setup.\n",
      "  rank_zero_deprecation(\n",
      "LOCAL_RANK: 0 - CUDA_VISIBLE_DEVICES: [0]\n",
      "\n",
      "  | Name            | Type      | Params\n",
      "----------------------------------------------\n",
      "0 | user_embeddings | Embedding | 1.4 M \n",
      "1 | item_embeddings | Embedding | 3.1 M \n",
      "2 | rho_activation  | Softplus  | 0     \n",
      "----------------------------------------------\n",
      "4.5 M     Trainable params\n",
      "0         Non-trainable params\n",
      "4.5 M     Total params\n",
      "17.953    Total estimated model params size (MB)\n",
      "/home/vcoscrato/.local/lib/python3.8/site-packages/pytorch_lightning/callbacks/model_checkpoint.py:623: UserWarning: Checkpoint directory /home/vcoscrato/Documents/RecSys/MF/tests/Behance/checkpoints/baseline exists and is not empty.\n",
      "  rank_zero_warn(f\"Checkpoint directory {dirpath} exists and is not empty.\")\n"
     ]
    },
    {
     "data": {
      "application/vnd.jupyter.widget-view+json": {
       "model_id": "",
       "version_major": 2,
       "version_minor": 0
      },
      "text/plain": [
       "Validation sanity check: 0it [00:00, ?it/s]"
      ]
     },
     "metadata": {},
     "output_type": "display_data"
    },
    {
     "data": {
      "application/vnd.jupyter.widget-view+json": {
       "model_id": "2219a4b08dde4d34a5ada5a2f2c9f20c",
       "version_major": 2,
       "version_minor": 0
      },
      "text/plain": [
       "Training: 0it [00:00, ?it/s]"
      ]
     },
     "metadata": {},
     "output_type": "display_data"
    },
    {
     "name": "stderr",
     "output_type": "stream",
     "text": [
      "Trainer was signaled to stop but required minimum epochs (20) or minimum steps (None) has not been met. Training will continue...\n",
      "Trainer was signaled to stop but required minimum epochs (20) or minimum steps (None) has not been met. Training will continue...\n",
      "Trainer was signaled to stop but required minimum epochs (20) or minimum steps (None) has not been met. Training will continue...\n",
      "/home/vcoscrato/.local/lib/python3.8/site-packages/pytorch_lightning/core/datamodule.py:469: LightningDeprecationWarning: DataModule.teardown has already been called, so it will not be called again. In v1.6 this behavior will change to always call DataModule.teardown.\n",
      "  rank_zero_deprecation(\n",
      "\u001b[32m[I 2022-02-25 15:39:53,232]\u001b[0m Trial 1 finished with value: 0.6751524209976196 and parameters: {'dim': 95, 'lr': 5.940144985708501, 'wd': 8.751224237934477e-05}. Best is trial 0 with value: 0.6115190386772156.\u001b[0m\n",
      "GPU available: True, used: True\n",
      "TPU available: False, using: 0 TPU cores\n",
      "IPU available: False, using: 0 IPUs\n",
      "LOCAL_RANK: 0 - CUDA_VISIBLE_DEVICES: [0]\n",
      "\n",
      "  | Name            | Type      | Params\n",
      "----------------------------------------------\n",
      "0 | user_embeddings | Embedding | 502 K \n",
      "1 | item_embeddings | Embedding | 1.1 M \n",
      "2 | rho_activation  | Softplus  | 0     \n",
      "----------------------------------------------\n",
      "1.6 M     Trainable params\n",
      "0         Non-trainable params\n",
      "1.6 M     Total params\n",
      "6.425     Total estimated model params size (MB)\n"
     ]
    },
    {
     "data": {
      "application/vnd.jupyter.widget-view+json": {
       "model_id": "",
       "version_major": 2,
       "version_minor": 0
      },
      "text/plain": [
       "Validation sanity check: 0it [00:00, ?it/s]"
      ]
     },
     "metadata": {},
     "output_type": "display_data"
    },
    {
     "data": {
      "application/vnd.jupyter.widget-view+json": {
       "model_id": "1e490e207421428aaa98eeac8757492c",
       "version_major": 2,
       "version_minor": 0
      },
      "text/plain": [
       "Training: 0it [00:00, ?it/s]"
      ]
     },
     "metadata": {},
     "output_type": "display_data"
    },
    {
     "name": "stderr",
     "output_type": "stream",
     "text": [
      "Trainer was signaled to stop but required minimum epochs (20) or minimum steps (None) has not been met. Training will continue...\n",
      "Trainer was signaled to stop but required minimum epochs (20) or minimum steps (None) has not been met. Training will continue...\n",
      "Trainer was signaled to stop but required minimum epochs (20) or minimum steps (None) has not been met. Training will continue...\n",
      "Trainer was signaled to stop but required minimum epochs (20) or minimum steps (None) has not been met. Training will continue...\n",
      "Trainer was signaled to stop but required minimum epochs (20) or minimum steps (None) has not been met. Training will continue...\n",
      "Trainer was signaled to stop but required minimum epochs (20) or minimum steps (None) has not been met. Training will continue...\n",
      "Trainer was signaled to stop but required minimum epochs (20) or minimum steps (None) has not been met. Training will continue...\n",
      "Trainer was signaled to stop but required minimum epochs (20) or minimum steps (None) has not been met. Training will continue...\n",
      "Trainer was signaled to stop but required minimum epochs (20) or minimum steps (None) has not been met. Training will continue...\n",
      "Trainer was signaled to stop but required minimum epochs (20) or minimum steps (None) has not been met. Training will continue...\n",
      "Trainer was signaled to stop but required minimum epochs (20) or minimum steps (None) has not been met. Training will continue...\n",
      "\u001b[32m[I 2022-02-25 15:43:25,135]\u001b[0m Trial 2 finished with value: 0.6230928897857666 and parameters: {'dim': 34, 'lr': 0.5784977535886127, 'wd': 5.346149505494979e-05}. Best is trial 0 with value: 0.6115190386772156.\u001b[0m\n",
      "GPU available: True, used: True\n",
      "TPU available: False, using: 0 TPU cores\n",
      "IPU available: False, using: 0 IPUs\n",
      "LOCAL_RANK: 0 - CUDA_VISIBLE_DEVICES: [0]\n",
      "\n",
      "  | Name            | Type      | Params\n",
      "----------------------------------------------\n",
      "0 | user_embeddings | Embedding | 2.4 M \n",
      "1 | item_embeddings | Embedding | 5.2 M \n",
      "2 | rho_activation  | Softplus  | 0     \n",
      "----------------------------------------------\n",
      "7.6 M     Trainable params\n",
      "0         Non-trainable params\n",
      "7.6 M     Total params\n",
      "30.426    Total estimated model params size (MB)\n"
     ]
    },
    {
     "data": {
      "application/vnd.jupyter.widget-view+json": {
       "model_id": "",
       "version_major": 2,
       "version_minor": 0
      },
      "text/plain": [
       "Validation sanity check: 0it [00:00, ?it/s]"
      ]
     },
     "metadata": {},
     "output_type": "display_data"
    },
    {
     "data": {
      "application/vnd.jupyter.widget-view+json": {
       "model_id": "e8d42676883e453fa2f3748969ded9be",
       "version_major": 2,
       "version_minor": 0
      },
      "text/plain": [
       "Training: 0it [00:00, ?it/s]"
      ]
     },
     "metadata": {},
     "output_type": "display_data"
    },
    {
     "name": "stderr",
     "output_type": "stream",
     "text": [
      "\u001b[32m[I 2022-02-25 15:44:48,253]\u001b[0m Trial 3 finished with value: 0.6664736866950989 and parameters: {'dim': 161, 'lr': 3.8432235205491194, 'wd': 7.975148575593014e-05}. Best is trial 0 with value: 0.6115190386772156.\u001b[0m\n",
      "GPU available: True, used: True\n",
      "TPU available: False, using: 0 TPU cores\n",
      "IPU available: False, using: 0 IPUs\n",
      "LOCAL_RANK: 0 - CUDA_VISIBLE_DEVICES: [0]\n",
      "\n",
      "  | Name            | Type      | Params\n",
      "----------------------------------------------\n",
      "0 | user_embeddings | Embedding | 531 K \n",
      "1 | item_embeddings | Embedding | 1.2 M \n",
      "2 | rho_activation  | Softplus  | 0     \n",
      "----------------------------------------------\n",
      "1.7 M     Trainable params\n",
      "0         Non-trainable params\n",
      "1.7 M     Total params\n",
      "6.803     Total estimated model params size (MB)\n"
     ]
    },
    {
     "data": {
      "application/vnd.jupyter.widget-view+json": {
       "model_id": "",
       "version_major": 2,
       "version_minor": 0
      },
      "text/plain": [
       "Validation sanity check: 0it [00:00, ?it/s]"
      ]
     },
     "metadata": {},
     "output_type": "display_data"
    },
    {
     "data": {
      "application/vnd.jupyter.widget-view+json": {
       "model_id": "70033ab98f8e4d3f9da413ad4455b0cb",
       "version_major": 2,
       "version_minor": 0
      },
      "text/plain": [
       "Training: 0it [00:00, ?it/s]"
      ]
     },
     "metadata": {},
     "output_type": "display_data"
    },
    {
     "name": "stderr",
     "output_type": "stream",
     "text": [
      "\u001b[32m[I 2022-02-25 15:46:19,279]\u001b[0m Trial 4 finished with value: 0.4264901876449585 and parameters: {'dim': 36, 'lr': 9.359576654927265, 'wd': 6.922270212568225e-06}. Best is trial 4 with value: 0.4264901876449585.\u001b[0m\n",
      "GPU available: True, used: True\n",
      "TPU available: False, using: 0 TPU cores\n",
      "IPU available: False, using: 0 IPUs\n",
      "LOCAL_RANK: 0 - CUDA_VISIBLE_DEVICES: [0]\n",
      "\n",
      "  | Name            | Type      | Params\n",
      "----------------------------------------------\n",
      "0 | user_embeddings | Embedding | 649 K \n",
      "1 | item_embeddings | Embedding | 1.4 M \n",
      "2 | rho_activation  | Softplus  | 0     \n",
      "----------------------------------------------\n",
      "2.1 M     Trainable params\n",
      "0         Non-trainable params\n",
      "2.1 M     Total params\n",
      "8.315     Total estimated model params size (MB)\n"
     ]
    },
    {
     "data": {
      "application/vnd.jupyter.widget-view+json": {
       "model_id": "",
       "version_major": 2,
       "version_minor": 0
      },
      "text/plain": [
       "Validation sanity check: 0it [00:00, ?it/s]"
      ]
     },
     "metadata": {},
     "output_type": "display_data"
    },
    {
     "data": {
      "application/vnd.jupyter.widget-view+json": {
       "model_id": "9de29ff6739f469ea31ae36bdea5baf2",
       "version_major": 2,
       "version_minor": 0
      },
      "text/plain": [
       "Training: 0it [00:00, ?it/s]"
      ]
     },
     "metadata": {},
     "output_type": "display_data"
    },
    {
     "name": "stderr",
     "output_type": "stream",
     "text": [
      "\u001b[32m[I 2022-02-25 15:48:12,566]\u001b[0m Trial 5 finished with value: 0.6030817627906799 and parameters: {'dim': 44, 'lr': 2.1525503579703518, 'wd': 4.521817712783594e-05}. Best is trial 4 with value: 0.4264901876449585.\u001b[0m\n",
      "GPU available: True, used: True\n",
      "TPU available: False, using: 0 TPU cores\n",
      "IPU available: False, using: 0 IPUs\n",
      "LOCAL_RANK: 0 - CUDA_VISIBLE_DEVICES: [0]\n",
      "\n",
      "  | Name            | Type      | Params\n",
      "----------------------------------------------\n",
      "0 | user_embeddings | Embedding | 1.4 M \n",
      "1 | item_embeddings | Embedding | 3.0 M \n",
      "2 | rho_activation  | Softplus  | 0     \n",
      "----------------------------------------------\n",
      "4.3 M     Trainable params\n",
      "0         Non-trainable params\n",
      "4.3 M     Total params\n",
      "17.387    Total estimated model params size (MB)\n"
     ]
    },
    {
     "data": {
      "application/vnd.jupyter.widget-view+json": {
       "model_id": "",
       "version_major": 2,
       "version_minor": 0
      },
      "text/plain": [
       "Validation sanity check: 0it [00:00, ?it/s]"
      ]
     },
     "metadata": {},
     "output_type": "display_data"
    },
    {
     "data": {
      "application/vnd.jupyter.widget-view+json": {
       "model_id": "c37755eff159462b8ff1383db6c6b377",
       "version_major": 2,
       "version_minor": 0
      },
      "text/plain": [
       "Training: 0it [00:00, ?it/s]"
      ]
     },
     "metadata": {},
     "output_type": "display_data"
    },
    {
     "name": "stderr",
     "output_type": "stream",
     "text": [
      "\u001b[32m[I 2022-02-25 15:49:35,813]\u001b[0m Trial 6 finished with value: 0.6636310815811157 and parameters: {'dim': 92, 'lr': 3.853485580847818, 'wd': 7.756511903014389e-05}. Best is trial 4 with value: 0.4264901876449585.\u001b[0m\n",
      "GPU available: True, used: True\n",
      "TPU available: False, using: 0 TPU cores\n",
      "IPU available: False, using: 0 IPUs\n",
      "LOCAL_RANK: 0 - CUDA_VISIBLE_DEVICES: [0]\n",
      "\n",
      "  | Name            | Type      | Params\n",
      "----------------------------------------------\n",
      "0 | user_embeddings | Embedding | 694 K \n",
      "1 | item_embeddings | Embedding | 1.5 M \n",
      "2 | rho_activation  | Softplus  | 0     \n",
      "----------------------------------------------\n",
      "2.2 M     Trainable params\n",
      "0         Non-trainable params\n",
      "2.2 M     Total params\n",
      "8.882     Total estimated model params size (MB)\n"
     ]
    },
    {
     "data": {
      "application/vnd.jupyter.widget-view+json": {
       "model_id": "",
       "version_major": 2,
       "version_minor": 0
      },
      "text/plain": [
       "Validation sanity check: 0it [00:00, ?it/s]"
      ]
     },
     "metadata": {},
     "output_type": "display_data"
    },
    {
     "data": {
      "application/vnd.jupyter.widget-view+json": {
       "model_id": "55bd4a502687441c9488c0f5a177e1ce",
       "version_major": 2,
       "version_minor": 0
      },
      "text/plain": [
       "Training: 0it [00:00, ?it/s]"
      ]
     },
     "metadata": {},
     "output_type": "display_data"
    },
    {
     "name": "stderr",
     "output_type": "stream",
     "text": [
      "Trainer was signaled to stop but required minimum epochs (20) or minimum steps (None) has not been met. Training will continue...\n",
      "Trainer was signaled to stop but required minimum epochs (20) or minimum steps (None) has not been met. Training will continue...\n",
      "Trainer was signaled to stop but required minimum epochs (20) or minimum steps (None) has not been met. Training will continue...\n",
      "Trainer was signaled to stop but required minimum epochs (20) or minimum steps (None) has not been met. Training will continue...\n",
      "\u001b[32m[I 2022-02-25 15:51:32,621]\u001b[0m Trial 7 finished with value: 0.6654346585273743 and parameters: {'dim': 47, 'lr': 1.7530381477164478, 'wd': 7.949021845780714e-05}. Best is trial 4 with value: 0.4264901876449585.\u001b[0m\n",
      "GPU available: True, used: True\n",
      "TPU available: False, using: 0 TPU cores\n",
      "IPU available: False, using: 0 IPUs\n",
      "LOCAL_RANK: 0 - CUDA_VISIBLE_DEVICES: [0]\n",
      "\n",
      "  | Name            | Type      | Params\n",
      "----------------------------------------------\n",
      "0 | user_embeddings | Embedding | 885 K \n",
      "1 | item_embeddings | Embedding | 1.9 M \n",
      "2 | rho_activation  | Softplus  | 0     \n",
      "----------------------------------------------\n",
      "2.8 M     Trainable params\n",
      "0         Non-trainable params\n",
      "2.8 M     Total params\n",
      "11.339    Total estimated model params size (MB)\n"
     ]
    },
    {
     "data": {
      "application/vnd.jupyter.widget-view+json": {
       "model_id": "",
       "version_major": 2,
       "version_minor": 0
      },
      "text/plain": [
       "Validation sanity check: 0it [00:00, ?it/s]"
      ]
     },
     "metadata": {},
     "output_type": "display_data"
    },
    {
     "data": {
      "application/vnd.jupyter.widget-view+json": {
       "model_id": "085b499aa674449091c784bcf269d4ba",
       "version_major": 2,
       "version_minor": 0
      },
      "text/plain": [
       "Training: 0it [00:00, ?it/s]"
      ]
     },
     "metadata": {},
     "output_type": "display_data"
    },
    {
     "name": "stderr",
     "output_type": "stream",
     "text": [
      "Trainer was signaled to stop but required minimum epochs (20) or minimum steps (None) has not been met. Training will continue...\n",
      "Trainer was signaled to stop but required minimum epochs (20) or minimum steps (None) has not been met. Training will continue...\n",
      "\u001b[32m[I 2022-02-25 15:53:40,279]\u001b[0m Trial 8 finished with value: 0.530190110206604 and parameters: {'dim': 60, 'lr': 7.7148225858270125, 'wd': 2.2052528483159827e-05}. Best is trial 4 with value: 0.4264901876449585.\u001b[0m\n",
      "GPU available: True, used: True\n",
      "TPU available: False, using: 0 TPU cores\n",
      "IPU available: False, using: 0 IPUs\n",
      "LOCAL_RANK: 0 - CUDA_VISIBLE_DEVICES: [0]\n",
      "\n",
      "  | Name            | Type      | Params\n",
      "----------------------------------------------\n",
      "0 | user_embeddings | Embedding | 1.4 M \n",
      "1 | item_embeddings | Embedding | 3.2 M \n",
      "2 | rho_activation  | Softplus  | 0     \n",
      "----------------------------------------------\n",
      "4.6 M     Trainable params\n",
      "0         Non-trainable params\n",
      "4.6 M     Total params\n",
      "18.331    Total estimated model params size (MB)\n"
     ]
    },
    {
     "data": {
      "application/vnd.jupyter.widget-view+json": {
       "model_id": "",
       "version_major": 2,
       "version_minor": 0
      },
      "text/plain": [
       "Validation sanity check: 0it [00:00, ?it/s]"
      ]
     },
     "metadata": {},
     "output_type": "display_data"
    },
    {
     "data": {
      "application/vnd.jupyter.widget-view+json": {
       "model_id": "cc7fbf6515f146d2a693c055278ee193",
       "version_major": 2,
       "version_minor": 0
      },
      "text/plain": [
       "Training: 0it [00:00, ?it/s]"
      ]
     },
     "metadata": {},
     "output_type": "display_data"
    },
    {
     "name": "stderr",
     "output_type": "stream",
     "text": [
      "Trainer was signaled to stop but required minimum epochs (20) or minimum steps (None) has not been met. Training will continue...\n",
      "Trainer was signaled to stop but required minimum epochs (20) or minimum steps (None) has not been met. Training will continue...\n",
      "Trainer was signaled to stop but required minimum epochs (20) or minimum steps (None) has not been met. Training will continue...\n",
      "Trainer was signaled to stop but required minimum epochs (20) or minimum steps (None) has not been met. Training will continue...\n",
      "Trainer was signaled to stop but required minimum epochs (20) or minimum steps (None) has not been met. Training will continue...\n",
      "Trainer was signaled to stop but required minimum epochs (20) or minimum steps (None) has not been met. Training will continue...\n",
      "Trainer was signaled to stop but required minimum epochs (20) or minimum steps (None) has not been met. Training will continue...\n",
      "Trainer was signaled to stop but required minimum epochs (20) or minimum steps (None) has not been met. Training will continue...\n",
      "Trainer was signaled to stop but required minimum epochs (20) or minimum steps (None) has not been met. Training will continue...\n",
      "Trainer was signaled to stop but required minimum epochs (20) or minimum steps (None) has not been met. Training will continue...\n",
      "Trainer was signaled to stop but required minimum epochs (20) or minimum steps (None) has not been met. Training will continue...\n",
      "Trainer was signaled to stop but required minimum epochs (20) or minimum steps (None) has not been met. Training will continue...\n",
      "Trainer was signaled to stop but required minimum epochs (20) or minimum steps (None) has not been met. Training will continue...\n",
      "Trainer was signaled to stop but required minimum epochs (20) or minimum steps (None) has not been met. Training will continue...\n",
      "\u001b[32m[I 2022-02-25 15:54:53,672]\u001b[0m Trial 9 finished with value: 0.6931211352348328 and parameters: {'dim': 97, 'lr': 0.432580964070853, 'wd': 6.938706519026698e-05}. Best is trial 4 with value: 0.4264901876449585.\u001b[0m\n",
      "\u001b[32m[I 2022-02-25 15:54:53,674]\u001b[0m A new study created in memory with name: no-name-2505295e-b7fe-46c9-a390-d48e6bb5e530\u001b[0m\n",
      "GPU available: True, used: True\n",
      "TPU available: False, using: 0 TPU cores\n",
      "IPU available: False, using: 0 IPUs\n",
      "LOCAL_RANK: 0 - CUDA_VISIBLE_DEVICES: [0]\n",
      "\n",
      "  | Name            | Type      | Params\n",
      "----------------------------------------------\n",
      "0 | user_embeddings | Embedding | 620 K \n",
      "1 | item_embeddings | Embedding | 1.4 M \n",
      "2 | user_bias       | Embedding | 14.8 K\n",
      "3 | item_bias       | Embedding | 32.5 K\n",
      "4 | rho_activation  | Softplus  | 0     \n",
      "----------------------------------------------\n",
      "2.0 M     Trainable params\n",
      "0         Non-trainable params\n",
      "2.0 M     Total params\n",
      "8.126     Total estimated model params size (MB)\n"
     ]
    },
    {
     "data": {
      "application/vnd.jupyter.widget-view+json": {
       "model_id": "",
       "version_major": 2,
       "version_minor": 0
      },
      "text/plain": [
       "Validation sanity check: 0it [00:00, ?it/s]"
      ]
     },
     "metadata": {},
     "output_type": "display_data"
    },
    {
     "data": {
      "application/vnd.jupyter.widget-view+json": {
       "model_id": "2dd47126d92444d68aa8b7433537652c",
       "version_major": 2,
       "version_minor": 0
      },
      "text/plain": [
       "Training: 0it [00:00, ?it/s]"
      ]
     },
     "metadata": {},
     "output_type": "display_data"
    },
    {
     "name": "stderr",
     "output_type": "stream",
     "text": [
      "Trainer was signaled to stop but required minimum epochs (20) or minimum steps (None) has not been met. Training will continue...\n",
      "Trainer was signaled to stop but required minimum epochs (20) or minimum steps (None) has not been met. Training will continue...\n",
      "Trainer was signaled to stop but required minimum epochs (20) or minimum steps (None) has not been met. Training will continue...\n",
      "Trainer was signaled to stop but required minimum epochs (20) or minimum steps (None) has not been met. Training will continue...\n",
      "Trainer was signaled to stop but required minimum epochs (20) or minimum steps (None) has not been met. Training will continue...\n",
      "Trainer was signaled to stop but required minimum epochs (20) or minimum steps (None) has not been met. Training will continue...\n",
      "\u001b[33m[W 2022-02-25 15:56:13,273]\u001b[0m Trial 0 failed, because the objective function returned nan.\u001b[0m\n",
      "GPU available: True, used: True\n",
      "TPU available: False, using: 0 TPU cores\n",
      "IPU available: False, using: 0 IPUs\n",
      "LOCAL_RANK: 0 - CUDA_VISIBLE_DEVICES: [0]\n",
      "\n",
      "  | Name            | Type      | Params\n",
      "----------------------------------------------\n",
      "0 | user_embeddings | Embedding | 1.9 M \n",
      "1 | item_embeddings | Embedding | 4.2 M \n",
      "2 | user_bias       | Embedding | 14.8 K\n",
      "3 | item_bias       | Embedding | 32.5 K\n",
      "4 | rho_activation  | Softplus  | 0     \n",
      "----------------------------------------------\n",
      "6.1 M     Trainable params\n",
      "0         Non-trainable params\n",
      "6.1 M     Total params\n",
      "24.379    Total estimated model params size (MB)\n",
      "/home/vcoscrato/.local/lib/python3.8/site-packages/pytorch_lightning/callbacks/model_checkpoint.py:623: UserWarning: Checkpoint directory /home/vcoscrato/Documents/RecSys/MF/tests/Behance/checkpoints/biasMF exists and is not empty.\n",
      "  rank_zero_warn(f\"Checkpoint directory {dirpath} exists and is not empty.\")\n"
     ]
    },
    {
     "data": {
      "application/vnd.jupyter.widget-view+json": {
       "model_id": "",
       "version_major": 2,
       "version_minor": 0
      },
      "text/plain": [
       "Validation sanity check: 0it [00:00, ?it/s]"
      ]
     },
     "metadata": {},
     "output_type": "display_data"
    },
    {
     "data": {
      "application/vnd.jupyter.widget-view+json": {
       "model_id": "22b43d62310f434081cf939c7e845993",
       "version_major": 2,
       "version_minor": 0
      },
      "text/plain": [
       "Training: 0it [00:00, ?it/s]"
      ]
     },
     "metadata": {},
     "output_type": "display_data"
    },
    {
     "name": "stderr",
     "output_type": "stream",
     "text": [
      "\u001b[32m[I 2022-02-25 15:57:58,989]\u001b[0m Trial 1 finished with value: 0.6357970237731934 and parameters: {'dim': 128, 'lr': 4.031080939890199, 'wd': 8.610232264459645e-05}. Best is trial 1 with value: 0.6357970237731934.\u001b[0m\n",
      "GPU available: True, used: True\n",
      "TPU available: False, using: 0 TPU cores\n",
      "IPU available: False, using: 0 IPUs\n",
      "LOCAL_RANK: 0 - CUDA_VISIBLE_DEVICES: [0]\n",
      "\n",
      "  | Name            | Type      | Params\n",
      "----------------------------------------------\n",
      "0 | user_embeddings | Embedding | 502 K \n",
      "1 | item_embeddings | Embedding | 1.1 M \n",
      "2 | user_bias       | Embedding | 14.8 K\n",
      "3 | item_bias       | Embedding | 32.5 K\n",
      "4 | rho_activation  | Softplus  | 0     \n",
      "----------------------------------------------\n",
      "1.7 M     Trainable params\n",
      "0         Non-trainable params\n",
      "1.7 M     Total params\n",
      "6.614     Total estimated model params size (MB)\n"
     ]
    },
    {
     "data": {
      "application/vnd.jupyter.widget-view+json": {
       "model_id": "",
       "version_major": 2,
       "version_minor": 0
      },
      "text/plain": [
       "Validation sanity check: 0it [00:00, ?it/s]"
      ]
     },
     "metadata": {},
     "output_type": "display_data"
    },
    {
     "data": {
      "application/vnd.jupyter.widget-view+json": {
       "model_id": "ace83300f8ff4714b350f85a48ca83ab",
       "version_major": 2,
       "version_minor": 0
      },
      "text/plain": [
       "Training: 0it [00:00, ?it/s]"
      ]
     },
     "metadata": {},
     "output_type": "display_data"
    },
    {
     "name": "stderr",
     "output_type": "stream",
     "text": [
      "Trainer was signaled to stop but required minimum epochs (20) or minimum steps (None) has not been met. Training will continue...\n",
      "Trainer was signaled to stop but required minimum epochs (20) or minimum steps (None) has not been met. Training will continue...\n",
      "Trainer was signaled to stop but required minimum epochs (20) or minimum steps (None) has not been met. Training will continue...\n",
      "Trainer was signaled to stop but required minimum epochs (20) or minimum steps (None) has not been met. Training will continue...\n",
      "Trainer was signaled to stop but required minimum epochs (20) or minimum steps (None) has not been met. Training will continue...\n",
      "Trainer was signaled to stop but required minimum epochs (20) or minimum steps (None) has not been met. Training will continue...\n",
      "Trainer was signaled to stop but required minimum epochs (20) or minimum steps (None) has not been met. Training will continue...\n",
      "Trainer was signaled to stop but required minimum epochs (20) or minimum steps (None) has not been met. Training will continue...\n",
      "Trainer was signaled to stop but required minimum epochs (20) or minimum steps (None) has not been met. Training will continue...\n",
      "Trainer was signaled to stop but required minimum epochs (20) or minimum steps (None) has not been met. Training will continue...\n",
      "Trainer was signaled to stop but required minimum epochs (20) or minimum steps (None) has not been met. Training will continue...\n",
      "Trainer was signaled to stop but required minimum epochs (20) or minimum steps (None) has not been met. Training will continue...\n",
      "Trainer was signaled to stop but required minimum epochs (20) or minimum steps (None) has not been met. Training will continue...\n",
      "Trainer was signaled to stop but required minimum epochs (20) or minimum steps (None) has not been met. Training will continue...\n",
      "Trainer was signaled to stop but required minimum epochs (20) or minimum steps (None) has not been met. Training will continue...\n",
      "Trainer was signaled to stop but required minimum epochs (20) or minimum steps (None) has not been met. Training will continue...\n",
      "Trainer was signaled to stop but required minimum epochs (20) or minimum steps (None) has not been met. Training will continue...\n",
      "\u001b[33m[W 2022-02-25 15:59:14,208]\u001b[0m Trial 2 failed, because the objective function returned nan.\u001b[0m\n",
      "GPU available: True, used: True\n",
      "TPU available: False, using: 0 TPU cores\n",
      "IPU available: False, using: 0 IPUs\n",
      "LOCAL_RANK: 0 - CUDA_VISIBLE_DEVICES: [0]\n",
      "\n",
      "  | Name            | Type      | Params\n",
      "----------------------------------------------\n",
      "0 | user_embeddings | Embedding | 1.3 M \n",
      "1 | item_embeddings | Embedding | 2.8 M \n",
      "2 | user_bias       | Embedding | 14.8 K\n",
      "3 | item_bias       | Embedding | 32.5 K\n",
      "4 | rho_activation  | Softplus  | 0     \n",
      "----------------------------------------------\n",
      "4.1 M     Trainable params\n",
      "0         Non-trainable params\n",
      "4.1 M     Total params\n",
      "16.442    Total estimated model params size (MB)\n"
     ]
    },
    {
     "data": {
      "application/vnd.jupyter.widget-view+json": {
       "model_id": "",
       "version_major": 2,
       "version_minor": 0
      },
      "text/plain": [
       "Validation sanity check: 0it [00:00, ?it/s]"
      ]
     },
     "metadata": {},
     "output_type": "display_data"
    },
    {
     "data": {
      "application/vnd.jupyter.widget-view+json": {
       "model_id": "8f9988ae3aa8478e896474f5c688e5da",
       "version_major": 2,
       "version_minor": 0
      },
      "text/plain": [
       "Training: 0it [00:00, ?it/s]"
      ]
     },
     "metadata": {},
     "output_type": "display_data"
    },
    {
     "name": "stderr",
     "output_type": "stream",
     "text": [
      "Trainer was signaled to stop but required minimum epochs (20) or minimum steps (None) has not been met. Training will continue...\n",
      "Trainer was signaled to stop but required minimum epochs (20) or minimum steps (None) has not been met. Training will continue...\n",
      "\u001b[32m[I 2022-02-25 16:00:38,934]\u001b[0m Trial 3 finished with value: 0.6179748177528381 and parameters: {'dim': 86, 'lr': 5.114455349652302, 'wd': 7.413009685179965e-05}. Best is trial 3 with value: 0.6179748177528381.\u001b[0m\n",
      "GPU available: True, used: True\n",
      "TPU available: False, using: 0 TPU cores\n",
      "IPU available: False, using: 0 IPUs\n",
      "LOCAL_RANK: 0 - CUDA_VISIBLE_DEVICES: [0]\n",
      "\n",
      "  | Name            | Type      | Params\n",
      "----------------------------------------------\n",
      "0 | user_embeddings | Embedding | 2.1 M \n",
      "1 | item_embeddings | Embedding | 4.6 M \n",
      "2 | user_bias       | Embedding | 14.8 K\n",
      "3 | item_bias       | Embedding | 32.5 K\n",
      "4 | rho_activation  | Softplus  | 0     \n",
      "----------------------------------------------\n",
      "6.7 M     Trainable params\n",
      "0         Non-trainable params\n",
      "6.7 M     Total params\n",
      "26.836    Total estimated model params size (MB)\n"
     ]
    },
    {
     "data": {
      "application/vnd.jupyter.widget-view+json": {
       "model_id": "",
       "version_major": 2,
       "version_minor": 0
      },
      "text/plain": [
       "Validation sanity check: 0it [00:00, ?it/s]"
      ]
     },
     "metadata": {},
     "output_type": "display_data"
    },
    {
     "data": {
      "application/vnd.jupyter.widget-view+json": {
       "model_id": "196c48c5608140caa7f95d0a86afdcff",
       "version_major": 2,
       "version_minor": 0
      },
      "text/plain": [
       "Training: 0it [00:00, ?it/s]"
      ]
     },
     "metadata": {},
     "output_type": "display_data"
    },
    {
     "name": "stderr",
     "output_type": "stream",
     "text": [
      "Trainer was signaled to stop but required minimum epochs (20) or minimum steps (None) has not been met. Training will continue...\n",
      "Trainer was signaled to stop but required minimum epochs (20) or minimum steps (None) has not been met. Training will continue...\n",
      "Trainer was signaled to stop but required minimum epochs (20) or minimum steps (None) has not been met. Training will continue...\n",
      "Trainer was signaled to stop but required minimum epochs (20) or minimum steps (None) has not been met. Training will continue...\n",
      "Trainer was signaled to stop but required minimum epochs (20) or minimum steps (None) has not been met. Training will continue...\n",
      "Trainer was signaled to stop but required minimum epochs (20) or minimum steps (None) has not been met. Training will continue...\n",
      "Trainer was signaled to stop but required minimum epochs (20) or minimum steps (None) has not been met. Training will continue...\n",
      "Trainer was signaled to stop but required minimum epochs (20) or minimum steps (None) has not been met. Training will continue...\n",
      "Trainer was signaled to stop but required minimum epochs (20) or minimum steps (None) has not been met. Training will continue...\n",
      "Trainer was signaled to stop but required minimum epochs (20) or minimum steps (None) has not been met. Training will continue...\n",
      "Trainer was signaled to stop but required minimum epochs (20) or minimum steps (None) has not been met. Training will continue...\n",
      "Trainer was signaled to stop but required minimum epochs (20) or minimum steps (None) has not been met. Training will continue...\n",
      "\u001b[33m[W 2022-02-25 16:03:58,298]\u001b[0m Trial 4 failed, because the objective function returned nan.\u001b[0m\n",
      "GPU available: True, used: True\n",
      "TPU available: False, using: 0 TPU cores\n",
      "IPU available: False, using: 0 IPUs\n",
      "LOCAL_RANK: 0 - CUDA_VISIBLE_DEVICES: [0]\n",
      "\n",
      "  | Name            | Type      | Params\n",
      "----------------------------------------------\n",
      "0 | user_embeddings | Embedding | 767 K \n",
      "1 | item_embeddings | Embedding | 1.7 M \n",
      "2 | user_bias       | Embedding | 14.8 K\n",
      "3 | item_bias       | Embedding | 32.5 K\n",
      "4 | rho_activation  | Softplus  | 0     \n",
      "----------------------------------------------\n",
      "2.5 M     Trainable params\n",
      "0         Non-trainable params\n",
      "2.5 M     Total params\n",
      "10.016    Total estimated model params size (MB)\n"
     ]
    },
    {
     "data": {
      "application/vnd.jupyter.widget-view+json": {
       "model_id": "",
       "version_major": 2,
       "version_minor": 0
      },
      "text/plain": [
       "Validation sanity check: 0it [00:00, ?it/s]"
      ]
     },
     "metadata": {},
     "output_type": "display_data"
    },
    {
     "data": {
      "application/vnd.jupyter.widget-view+json": {
       "model_id": "ff73cf4cb7604a6585c2c0f523d8da4e",
       "version_major": 2,
       "version_minor": 0
      },
      "text/plain": [
       "Training: 0it [00:00, ?it/s]"
      ]
     },
     "metadata": {},
     "output_type": "display_data"
    },
    {
     "name": "stderr",
     "output_type": "stream",
     "text": [
      "Trainer was signaled to stop but required minimum epochs (20) or minimum steps (None) has not been met. Training will continue...\n",
      "Trainer was signaled to stop but required minimum epochs (20) or minimum steps (None) has not been met. Training will continue...\n",
      "Trainer was signaled to stop but required minimum epochs (20) or minimum steps (None) has not been met. Training will continue...\n",
      "Trainer was signaled to stop but required minimum epochs (20) or minimum steps (None) has not been met. Training will continue...\n",
      "Trainer was signaled to stop but required minimum epochs (20) or minimum steps (None) has not been met. Training will continue...\n",
      "Trainer was signaled to stop but required minimum epochs (20) or minimum steps (None) has not been met. Training will continue...\n",
      "Trainer was signaled to stop but required minimum epochs (20) or minimum steps (None) has not been met. Training will continue...\n",
      "\u001b[32m[I 2022-02-25 16:05:11,043]\u001b[0m Trial 5 finished with value: 0.6062946319580078 and parameters: {'dim': 52, 'lr': 6.0931726003644915, 'wd': 6.724880097973514e-05}. Best is trial 5 with value: 0.6062946319580078.\u001b[0m\n",
      "GPU available: True, used: True\n",
      "TPU available: False, using: 0 TPU cores\n",
      "IPU available: False, using: 0 IPUs\n",
      "LOCAL_RANK: 0 - CUDA_VISIBLE_DEVICES: [0]\n",
      "\n",
      "  | Name            | Type      | Params\n",
      "----------------------------------------------\n",
      "0 | user_embeddings | Embedding | 1.7 M \n",
      "1 | item_embeddings | Embedding | 3.6 M \n",
      "2 | user_bias       | Embedding | 14.8 K\n",
      "3 | item_bias       | Embedding | 32.5 K\n",
      "4 | rho_activation  | Softplus  | 0     \n",
      "----------------------------------------------\n",
      "5.3 M     Trainable params\n",
      "0         Non-trainable params\n",
      "5.3 M     Total params\n",
      "21.355    Total estimated model params size (MB)\n"
     ]
    },
    {
     "data": {
      "application/vnd.jupyter.widget-view+json": {
       "model_id": "",
       "version_major": 2,
       "version_minor": 0
      },
      "text/plain": [
       "Validation sanity check: 0it [00:00, ?it/s]"
      ]
     },
     "metadata": {},
     "output_type": "display_data"
    },
    {
     "data": {
      "application/vnd.jupyter.widget-view+json": {
       "model_id": "61957b61cae2468282e05c08351058f9",
       "version_major": 2,
       "version_minor": 0
      },
      "text/plain": [
       "Training: 0it [00:00, ?it/s]"
      ]
     },
     "metadata": {},
     "output_type": "display_data"
    },
    {
     "name": "stderr",
     "output_type": "stream",
     "text": [
      "Trainer was signaled to stop but required minimum epochs (20) or minimum steps (None) has not been met. Training will continue...\n",
      "Trainer was signaled to stop but required minimum epochs (20) or minimum steps (None) has not been met. Training will continue...\n",
      "Trainer was signaled to stop but required minimum epochs (20) or minimum steps (None) has not been met. Training will continue...\n",
      "Trainer was signaled to stop but required minimum epochs (20) or minimum steps (None) has not been met. Training will continue...\n",
      "Trainer was signaled to stop but required minimum epochs (20) or minimum steps (None) has not been met. Training will continue...\n",
      "Trainer was signaled to stop but required minimum epochs (20) or minimum steps (None) has not been met. Training will continue...\n",
      "Trainer was signaled to stop but required minimum epochs (20) or minimum steps (None) has not been met. Training will continue...\n",
      "Trainer was signaled to stop but required minimum epochs (20) or minimum steps (None) has not been met. Training will continue...\n",
      "Trainer was signaled to stop but required minimum epochs (20) or minimum steps (None) has not been met. Training will continue...\n",
      "\u001b[32m[I 2022-02-25 16:06:42,982]\u001b[0m Trial 6 finished with value: 0.5516817569732666 and parameters: {'dim': 112, 'lr': 8.400209567582632, 'wd': 3.9314159265843884e-05}. Best is trial 6 with value: 0.5516817569732666.\u001b[0m\n",
      "GPU available: True, used: True\n",
      "TPU available: False, using: 0 TPU cores\n",
      "IPU available: False, using: 0 IPUs\n",
      "LOCAL_RANK: 0 - CUDA_VISIBLE_DEVICES: [0]\n",
      "\n",
      "  | Name            | Type      | Params\n",
      "----------------------------------------------\n",
      "0 | user_embeddings | Embedding | 2.3 M \n",
      "1 | item_embeddings | Embedding | 5.1 M \n",
      "2 | user_bias       | Embedding | 14.8 K\n",
      "3 | item_bias       | Embedding | 32.5 K\n",
      "4 | rho_activation  | Softplus  | 0     \n",
      "----------------------------------------------\n",
      "7.4 M     Trainable params\n",
      "0         Non-trainable params\n",
      "7.4 M     Total params\n",
      "29.670    Total estimated model params size (MB)\n"
     ]
    },
    {
     "data": {
      "application/vnd.jupyter.widget-view+json": {
       "model_id": "",
       "version_major": 2,
       "version_minor": 0
      },
      "text/plain": [
       "Validation sanity check: 0it [00:00, ?it/s]"
      ]
     },
     "metadata": {},
     "output_type": "display_data"
    },
    {
     "data": {
      "application/vnd.jupyter.widget-view+json": {
       "model_id": "608b49fbf2024e3b89a34321c5c9251b",
       "version_major": 2,
       "version_minor": 0
      },
      "text/plain": [
       "Training: 0it [00:00, ?it/s]"
      ]
     },
     "metadata": {},
     "output_type": "display_data"
    },
    {
     "name": "stderr",
     "output_type": "stream",
     "text": [
      "Trainer was signaled to stop but required minimum epochs (20) or minimum steps (None) has not been met. Training will continue...\n",
      "\u001b[32m[I 2022-02-25 16:08:26,125]\u001b[0m Trial 7 finished with value: 0.611457884311676 and parameters: {'dim': 156, 'lr': 5.358062441643588, 'wd': 6.980868175007476e-05}. Best is trial 6 with value: 0.5516817569732666.\u001b[0m\n",
      "GPU available: True, used: True\n",
      "TPU available: False, using: 0 TPU cores\n",
      "IPU available: False, using: 0 IPUs\n",
      "LOCAL_RANK: 0 - CUDA_VISIBLE_DEVICES: [0]\n",
      "\n",
      "  | Name            | Type      | Params\n",
      "----------------------------------------------\n",
      "0 | user_embeddings | Embedding | 1.3 M \n",
      "1 | item_embeddings | Embedding | 2.8 M \n",
      "2 | user_bias       | Embedding | 14.8 K\n",
      "3 | item_bias       | Embedding | 32.5 K\n",
      "4 | rho_activation  | Softplus  | 0     \n",
      "----------------------------------------------\n",
      "4.1 M     Trainable params\n",
      "0         Non-trainable params\n",
      "4.1 M     Total params\n",
      "16.253    Total estimated model params size (MB)\n"
     ]
    },
    {
     "data": {
      "application/vnd.jupyter.widget-view+json": {
       "model_id": "",
       "version_major": 2,
       "version_minor": 0
      },
      "text/plain": [
       "Validation sanity check: 0it [00:00, ?it/s]"
      ]
     },
     "metadata": {},
     "output_type": "display_data"
    },
    {
     "data": {
      "application/vnd.jupyter.widget-view+json": {
       "model_id": "cf7effcde2e54106a09502e3cdb70f1f",
       "version_major": 2,
       "version_minor": 0
      },
      "text/plain": [
       "Training: 0it [00:00, ?it/s]"
      ]
     },
     "metadata": {},
     "output_type": "display_data"
    },
    {
     "name": "stderr",
     "output_type": "stream",
     "text": [
      "Trainer was signaled to stop but required minimum epochs (20) or minimum steps (None) has not been met. Training will continue...\n",
      "Trainer was signaled to stop but required minimum epochs (20) or minimum steps (None) has not been met. Training will continue...\n",
      "Trainer was signaled to stop but required minimum epochs (20) or minimum steps (None) has not been met. Training will continue...\n",
      "Trainer was signaled to stop but required minimum epochs (20) or minimum steps (None) has not been met. Training will continue...\n",
      "\u001b[32m[I 2022-02-25 16:09:51,543]\u001b[0m Trial 8 finished with value: 0.5522127747535706 and parameters: {'dim': 85, 'lr': 6.607115750969785, 'wd': 4.070739978276046e-05}. Best is trial 6 with value: 0.5516817569732666.\u001b[0m\n",
      "GPU available: True, used: True\n",
      "TPU available: False, using: 0 TPU cores\n",
      "IPU available: False, using: 0 IPUs\n",
      "LOCAL_RANK: 0 - CUDA_VISIBLE_DEVICES: [0]\n",
      "\n",
      "  | Name            | Type      | Params\n",
      "----------------------------------------------\n",
      "0 | user_embeddings | Embedding | 546 K \n",
      "1 | item_embeddings | Embedding | 1.2 M \n",
      "2 | user_bias       | Embedding | 14.8 K\n",
      "3 | item_bias       | Embedding | 32.5 K\n",
      "4 | rho_activation  | Softplus  | 0     \n",
      "----------------------------------------------\n",
      "1.8 M     Trainable params\n",
      "0         Non-trainable params\n",
      "1.8 M     Total params\n",
      "7.181     Total estimated model params size (MB)\n"
     ]
    },
    {
     "data": {
      "application/vnd.jupyter.widget-view+json": {
       "model_id": "",
       "version_major": 2,
       "version_minor": 0
      },
      "text/plain": [
       "Validation sanity check: 0it [00:00, ?it/s]"
      ]
     },
     "metadata": {},
     "output_type": "display_data"
    },
    {
     "data": {
      "application/vnd.jupyter.widget-view+json": {
       "model_id": "3358930be3de465c80b45dd57ff31d4f",
       "version_major": 2,
       "version_minor": 0
      },
      "text/plain": [
       "Training: 0it [00:00, ?it/s]"
      ]
     },
     "metadata": {},
     "output_type": "display_data"
    },
    {
     "name": "stderr",
     "output_type": "stream",
     "text": [
      "\u001b[32m[I 2022-02-25 16:11:35,118]\u001b[0m Trial 9 finished with value: 0.6124785542488098 and parameters: {'dim': 37, 'lr': 1.7907036185418412, 'wd': 7.156233075158543e-05}. Best is trial 6 with value: 0.5516817569732666.\u001b[0m\n"
     ]
    }
   ],
   "source": [
    "def objective(trial):\n",
    "    \n",
    "    # Parameter setup\n",
    "    dim = trial.suggest_int('dim', 20, 200)\n",
    "    lr = trial.suggest_float('lr', 0.1, 10)\n",
    "    wd = trial.suggest_float('wd', 0.000001, 0.0001)\n",
    "    \n",
    "    # Train model\n",
    "    model = bprMF(data.n_user, data.n_item, embedding_dim=dim, lr=lr, weight_decay=wd)\n",
    "    train(model, data, path='checkpoints/baseline', name=f'trial={len(study.trials)-1}-dim={dim}-wd={wd}-lr={lr}')\n",
    "    return model.trainer.callback_metrics['val_loss']\n",
    "\n",
    "file = 'tunning/baseline.pkl'\n",
    "if os.path.exists(file):\n",
    "    with open(file, 'rb') as f:\n",
    "        study = pickle.load(f)\n",
    "else:\n",
    "    study = optuna.create_study(direction='minimize')\n",
    "study.optimize(objective, n_trials=10)\n",
    "with open(file, 'wb') as f:\n",
    "    pickle.dump(study, f, protocol=4)\n",
    "\n",
    "# biasMF with GPR\n",
    "def objective(trial):\n",
    "    \n",
    "    # Parameter setup\n",
    "    dim = trial.suggest_int('dim', 20, 200)\n",
    "    lr = trial.suggest_float('lr', 0.1, 10)\n",
    "    wd = trial.suggest_float('wd', 0.000001, 0.0001)\n",
    "    \n",
    "    # Train model\n",
    "    model = biasMF(data.n_user, data.n_item, embedding_dim=dim, lr=lr, weight_decay=wd, loss=GPR(log_scale=True))\n",
    "    train(model, data, path='checkpoints/biasMF', name=f'trial={len(study.trials)}-dim={dim}-wd={wd}-lr={lr}')\n",
    "    return model.trainer.callback_metrics['val_loss']\n",
    "\n",
    "file = 'tunning/biasMF.pkl'\n",
    "if os.path.exists(file):\n",
    "    with open(file, 'rb') as f:\n",
    "        study = pickle.load(f)\n",
    "else:\n",
    "    study = optuna.create_study(direction='minimize')\n",
    "study.optimize(objective, n_trials=10)\n",
    "with open(file, 'wb') as f:\n",
    "    pickle.dump(study, f, protocol=4)"
   ]
  },
  {
   "cell_type": "markdown",
   "metadata": {},
   "source": [
    "# AdaptiveBPR"
   ]
  },
  {
   "cell_type": "code",
   "execution_count": 3,
   "metadata": {},
   "outputs": [
    {
     "name": "stderr",
     "output_type": "stream",
     "text": [
      "GPU available: True, used: True\n",
      "TPU available: False, using: 0 TPU cores\n",
      "IPU available: False, using: 0 IPUs\n",
      "LOCAL_RANK: 0 - CUDA_VISIBLE_DEVICES: [0]\n",
      "\n",
      "  | Name            | Type      | Params\n",
      "----------------------------------------------\n",
      "0 | user_embeddings | Embedding | 1.3 M \n",
      "1 | item_embeddings | Embedding | 1.5 M \n",
      "2 | user_bias       | Embedding | 25.9 K\n",
      "3 | item_bias       | Embedding | 30.5 K\n",
      "4 | rho_activation  | Softplus  | 0     \n",
      "----------------------------------------------\n",
      "2.9 M     Trainable params\n",
      "0         Non-trainable params\n",
      "2.9 M     Total params\n",
      "11.509    Total estimated model params size (MB)\n"
     ]
    },
    {
     "data": {
      "application/vnd.jupyter.widget-view+json": {
       "model_id": "",
       "version_major": 2,
       "version_minor": 0
      },
      "text/plain": [
       "Validation sanity check: 0it [00:00, ?it/s]"
      ]
     },
     "metadata": {},
     "output_type": "display_data"
    },
    {
     "data": {
      "application/vnd.jupyter.widget-view+json": {
       "model_id": "2c289bf532e54a288a871dd1c80931ea",
       "version_major": 2,
       "version_minor": 0
      },
      "text/plain": [
       "Training: 0it [00:00, ?it/s]"
      ]
     },
     "metadata": {},
     "output_type": "display_data"
    },
    {
     "name": "stderr",
     "output_type": "stream",
     "text": [
      "Trainer was signaled to stop but required minimum epochs (20) or minimum steps (None) has not been met. Training will continue...\n",
      "Trainer was signaled to stop but required minimum epochs (20) or minimum steps (None) has not been met. Training will continue...\n",
      "Trainer was signaled to stop but required minimum epochs (20) or minimum steps (None) has not been met. Training will continue...\n",
      "Trainer was signaled to stop but required minimum epochs (20) or minimum steps (None) has not been met. Training will continue...\n",
      "Trainer was signaled to stop but required minimum epochs (20) or minimum steps (None) has not been met. Training will continue...\n",
      "Trainer was signaled to stop but required minimum epochs (20) or minimum steps (None) has not been met. Training will continue...\n"
     ]
    },
    {
     "data": {
      "application/vnd.jupyter.widget-view+json": {
       "model_id": "f0a8cc90d5324d519fea37588b5755cb",
       "version_major": 2,
       "version_minor": 0
      },
      "text/plain": [
       "  0%|          | 0/1000 [00:00<?, ?it/s]"
      ]
     },
     "metadata": {},
     "output_type": "display_data"
    },
    {
     "data": {
      "image/png": "[encoded data removed]",
      "text/plain": [
       "<Figure size 432x288 with 2 Axes>"
      ]
     },
     "metadata": {
      "needs_background": "light"
     },
     "output_type": "display_data"
    }
   ],
   "source": [
    "for dim in [50]:\n",
    "    for wd in [0]:\n",
    "        for lr in [5]:\n",
    "            model = biasMF(data.n_user, data.n_item, embedding_dim=dim, lr=lr, weight_decay=wd, loss=ABPR(log_scale=False))\n",
    "            train(model, data, path='checkpoints/ABPR', name=f'dim={dim}-wd={wd}-lr={lr}')\n",
    "\n"
   ]
  },
  {
   "cell_type": "markdown",
   "metadata": {},
   "source": [
    "## Log scale"
   ]
  },
  {
   "cell_type": "code",
   "execution_count": 4,
   "metadata": {},
   "outputs": [
    {
     "name": "stderr",
     "output_type": "stream",
     "text": [
      "GPU available: True, used: True\n",
      "TPU available: False, using: 0 TPU cores\n",
      "IPU available: False, using: 0 IPUs\n",
      "/home/vcoscrato/.local/lib/python3.8/site-packages/pytorch_lightning/core/datamodule.py:469: LightningDeprecationWarning: DataModule.setup has already been called, so it will not be called again. In v1.6 this behavior will change to always call DataModule.setup.\n",
      "  rank_zero_deprecation(\n",
      "LOCAL_RANK: 0 - CUDA_VISIBLE_DEVICES: [0]\n",
      "\n",
      "  | Name            | Type      | Params\n",
      "----------------------------------------------\n",
      "0 | user_embeddings | Embedding | 1.3 M \n",
      "1 | item_embeddings | Embedding | 1.5 M \n",
      "2 | user_bias       | Embedding | 25.9 K\n",
      "3 | item_bias       | Embedding | 30.5 K\n",
      "4 | rho_activation  | Softplus  | 0     \n",
      "----------------------------------------------\n",
      "2.9 M     Trainable params\n",
      "0         Non-trainable params\n",
      "2.9 M     Total params\n",
      "11.509    Total estimated model params size (MB)\n"
     ]
    },
    {
     "data": {
      "application/vnd.jupyter.widget-view+json": {
       "model_id": "",
       "version_major": 2,
       "version_minor": 0
      },
      "text/plain": [
       "Validation sanity check: 0it [00:00, ?it/s]"
      ]
     },
     "metadata": {},
     "output_type": "display_data"
    },
    {
     "data": {
      "application/vnd.jupyter.widget-view+json": {
       "model_id": "3983b7840d9244758d54ff2f4a4e53dd",
       "version_major": 2,
       "version_minor": 0
      },
      "text/plain": [
       "Training: 0it [00:00, ?it/s]"
      ]
     },
     "metadata": {},
     "output_type": "display_data"
    },
    {
     "name": "stderr",
     "output_type": "stream",
     "text": [
      "Trainer was signaled to stop but required minimum epochs (20) or minimum steps (None) has not been met. Training will continue...\n",
      "Trainer was signaled to stop but required minimum epochs (20) or minimum steps (None) has not been met. Training will continue...\n",
      "Trainer was signaled to stop but required minimum epochs (20) or minimum steps (None) has not been met. Training will continue...\n",
      "Trainer was signaled to stop but required minimum epochs (20) or minimum steps (None) has not been met. Training will continue...\n",
      "Trainer was signaled to stop but required minimum epochs (20) or minimum steps (None) has not been met. Training will continue...\n",
      "Trainer was signaled to stop but required minimum epochs (20) or minimum steps (None) has not been met. Training will continue...\n",
      "Trainer was signaled to stop but required minimum epochs (20) or minimum steps (None) has not been met. Training will continue...\n",
      "Trainer was signaled to stop but required minimum epochs (20) or minimum steps (None) has not been met. Training will continue...\n",
      "Trainer was signaled to stop but required minimum epochs (20) or minimum steps (None) has not been met. Training will continue...\n",
      "Trainer was signaled to stop but required minimum epochs (20) or minimum steps (None) has not been met. Training will continue...\n",
      "Trainer was signaled to stop but required minimum epochs (20) or minimum steps (None) has not been met. Training will continue...\n",
      "Trainer was signaled to stop but required minimum epochs (20) or minimum steps (None) has not been met. Training will continue...\n",
      "Trainer was signaled to stop but required minimum epochs (20) or minimum steps (None) has not been met. Training will continue...\n",
      "Trainer was signaled to stop but required minimum epochs (20) or minimum steps (None) has not been met. Training will continue...\n",
      "/home/vcoscrato/.local/lib/python3.8/site-packages/pytorch_lightning/core/datamodule.py:469: LightningDeprecationWarning: DataModule.teardown has already been called, so it will not be called again. In v1.6 this behavior will change to always call DataModule.teardown.\n",
      "  rank_zero_deprecation(\n"
     ]
    },
    {
     "data": {
      "application/vnd.jupyter.widget-view+json": {
       "model_id": "8e42f77208d54a29b200cd94a9371acd",
       "version_major": 2,
       "version_minor": 0
      },
      "text/plain": [
       "  0%|          | 0/1000 [00:00<?, ?it/s]"
      ]
     },
     "metadata": {},
     "output_type": "display_data"
    },
    {
     "data": {
      "image/png": "[encoded data removed]",
      "text/plain": [
       "<Figure size 432x288 with 2 Axes>"
      ]
     },
     "metadata": {
      "needs_background": "light"
     },
     "output_type": "display_data"
    }
   ],
   "source": [
    "for dim in [50]:\n",
    "    for wd in [0]:\n",
    "        for lr in [5]:\n",
    "            model = biasMF(data.n_user, data.n_item, embedding_dim=dim, lr=lr, weight_decay=wd, loss=ABPR(log_scale=True))\n",
    "            train(model, data, path='checkpoints/ABPRlog', name=f'dim={dim}-wd={wd}-lr={lr}')\n",
    "\n",
    "files = {file: float(file.split('loss=')[1][:-5]) for file in os.listdir('checkpoints/ABPRlog')}\n",
    "model = biasMF(data.n_user, data.n_item, embedding_dim=1, lr=0, weight_decay=0, loss=ABPR(log_scale=True))\n",
    "model = model.load_from_checkpoint(os.path.join('checkpoints/ABPRlog', min(files, key=files.get)))\n",
    "test(model, data, name='ABPRlog', max_k=10, use_baseline=False)\n",
    "unc_distribution(model)"
   ]
  },
  {
   "cell_type": "markdown",
   "metadata": {},
   "source": [
    "# Gaussian Personalized Ranking (GPR)"
   ]
  },
  {
   "cell_type": "code",
   "execution_count": 5,
   "metadata": {},
   "outputs": [
    {
     "name": "stderr",
     "output_type": "stream",
     "text": [
      "GPU available: True, used: True\n",
      "TPU available: False, using: 0 TPU cores\n",
      "IPU available: False, using: 0 IPUs\n",
      "/home/vcoscrato/.local/lib/python3.8/site-packages/pytorch_lightning/core/datamodule.py:469: LightningDeprecationWarning: DataModule.setup has already been called, so it will not be called again. In v1.6 this behavior will change to always call DataModule.setup.\n",
      "  rank_zero_deprecation(\n",
      "LOCAL_RANK: 0 - CUDA_VISIBLE_DEVICES: [0]\n",
      "\n",
      "  | Name            | Type      | Params\n",
      "----------------------------------------------\n",
      "0 | user_embeddings | Embedding | 1.3 M \n",
      "1 | item_embeddings | Embedding | 1.5 M \n",
      "2 | user_bias       | Embedding | 25.9 K\n",
      "3 | item_bias       | Embedding | 30.5 K\n",
      "4 | rho_activation  | Softplus  | 0     \n",
      "----------------------------------------------\n",
      "2.9 M     Trainable params\n",
      "0         Non-trainable params\n",
      "2.9 M     Total params\n",
      "11.509    Total estimated model params size (MB)\n"
     ]
    },
    {
     "data": {
      "application/vnd.jupyter.widget-view+json": {
       "model_id": "",
       "version_major": 2,
       "version_minor": 0
      },
      "text/plain": [
       "Validation sanity check: 0it [00:00, ?it/s]"
      ]
     },
     "metadata": {},
     "output_type": "display_data"
    },
    {
     "data": {
      "application/vnd.jupyter.widget-view+json": {
       "model_id": "52ead5a962064c33b3021455e88e05df",
       "version_major": 2,
       "version_minor": 0
      },
      "text/plain": [
       "Training: 0it [00:00, ?it/s]"
      ]
     },
     "metadata": {},
     "output_type": "display_data"
    },
    {
     "name": "stderr",
     "output_type": "stream",
     "text": [
      "/home/vcoscrato/.local/lib/python3.8/site-packages/pytorch_lightning/core/datamodule.py:469: LightningDeprecationWarning: DataModule.teardown has already been called, so it will not be called again. In v1.6 this behavior will change to always call DataModule.teardown.\n",
      "  rank_zero_deprecation(\n"
     ]
    },
    {
     "data": {
      "application/vnd.jupyter.widget-view+json": {
       "model_id": "905ad561a3194560b5431224d7e1dd6a",
       "version_major": 2,
       "version_minor": 0
      },
      "text/plain": [
       "  0%|          | 0/1000 [00:00<?, ?it/s]"
      ]
     },
     "metadata": {},
     "output_type": "display_data"
    },
    {
     "data": {
      "image/png": "[encoded data removed]",
      "text/plain": [
       "<Figure size 432x288 with 2 Axes>"
      ]
     },
     "metadata": {
      "needs_background": "light"
     },
     "output_type": "display_data"
    }
   ],
   "source": [
    "for dim in [50]:\n",
    "    for wd in [0]:\n",
    "        for lr in [5]:\n",
    "            model = biasMF(data.n_user, data.n_item, embedding_dim=dim, lr=lr, weight_decay=wd, loss=GPR(log_scale=False))\n",
    "            train(model, data, path='checkpoints/GPR', name=f'dim={dim}-wd={wd}-lr={lr}')\n",
    "\n",
    "files = {file: float(file.split('loss=')[1][:-5]) for file in os.listdir('checkpoints/GPR')}\n",
    "model = biasMF(data.n_user, data.n_item, embedding_dim=1, lr=0, weight_decay=0, loss=GPR(log_scale=False))\n",
    "model = model.load_from_checkpoint(os.path.join('checkpoints/GPR', min(files, key=files.get)))\n",
    "test(model, data, name='GPR', max_k=10, use_baseline=False)\n",
    "unc_distribution(model)"
   ]
  },
  {
   "cell_type": "markdown",
   "metadata": {},
   "source": [
    "## Log scale"
   ]
  },
  {
   "cell_type": "code",
   "execution_count": 6,
   "metadata": {},
   "outputs": [
    {
     "name": "stderr",
     "output_type": "stream",
     "text": [
      "GPU available: True, used: True\n",
      "TPU available: False, using: 0 TPU cores\n",
      "IPU available: False, using: 0 IPUs\n",
      "/home/vcoscrato/.local/lib/python3.8/site-packages/pytorch_lightning/core/datamodule.py:469: LightningDeprecationWarning: DataModule.setup has already been called, so it will not be called again. In v1.6 this behavior will change to always call DataModule.setup.\n",
      "  rank_zero_deprecation(\n",
      "LOCAL_RANK: 0 - CUDA_VISIBLE_DEVICES: [0]\n",
      "\n",
      "  | Name            | Type      | Params\n",
      "----------------------------------------------\n",
      "0 | user_embeddings | Embedding | 1.3 M \n",
      "1 | item_embeddings | Embedding | 1.5 M \n",
      "2 | user_bias       | Embedding | 25.9 K\n",
      "3 | item_bias       | Embedding | 30.5 K\n",
      "4 | rho_activation  | Softplus  | 0     \n",
      "----------------------------------------------\n",
      "2.9 M     Trainable params\n",
      "0         Non-trainable params\n",
      "2.9 M     Total params\n",
      "11.509    Total estimated model params size (MB)\n"
     ]
    },
    {
     "data": {
      "application/vnd.jupyter.widget-view+json": {
       "model_id": "",
       "version_major": 2,
       "version_minor": 0
      },
      "text/plain": [
       "Validation sanity check: 0it [00:00, ?it/s]"
      ]
     },
     "metadata": {},
     "output_type": "display_data"
    },
    {
     "data": {
      "application/vnd.jupyter.widget-view+json": {
       "model_id": "37afc33ec635415d84666bda9b9fcb35",
       "version_major": 2,
       "version_minor": 0
      },
      "text/plain": [
       "Training: 0it [00:00, ?it/s]"
      ]
     },
     "metadata": {},
     "output_type": "display_data"
    },
    {
     "name": "stderr",
     "output_type": "stream",
     "text": [
      "Trainer was signaled to stop but required minimum epochs (20) or minimum steps (None) has not been met. Training will continue...\n",
      "Trainer was signaled to stop but required minimum epochs (20) or minimum steps (None) has not been met. Training will continue...\n",
      "Trainer was signaled to stop but required minimum epochs (20) or minimum steps (None) has not been met. Training will continue...\n",
      "Trainer was signaled to stop but required minimum epochs (20) or minimum steps (None) has not been met. Training will continue...\n",
      "Trainer was signaled to stop but required minimum epochs (20) or minimum steps (None) has not been met. Training will continue...\n",
      "Trainer was signaled to stop but required minimum epochs (20) or minimum steps (None) has not been met. Training will continue...\n",
      "/home/vcoscrato/.local/lib/python3.8/site-packages/pytorch_lightning/core/datamodule.py:469: LightningDeprecationWarning: DataModule.teardown has already been called, so it will not be called again. In v1.6 this behavior will change to always call DataModule.teardown.\n",
      "  rank_zero_deprecation(\n"
     ]
    },
    {
     "data": {
      "application/vnd.jupyter.widget-view+json": {
       "model_id": "d26eaf72f5774fd597873adaf208a707",
       "version_major": 2,
       "version_minor": 0
      },
      "text/plain": [
       "  0%|          | 0/1000 [00:00<?, ?it/s]"
      ]
     },
     "metadata": {},
     "output_type": "display_data"
    },
    {
     "data": {
      "image/png": "[encoded data removed]",
      "text/plain": [
       "<Figure size 432x288 with 2 Axes>"
      ]
     },
     "metadata": {
      "needs_background": "light"
     },
     "output_type": "display_data"
    }
   ],
   "source": [
    "for dim in [50]:\n",
    "    for wd in [0]:\n",
    "        for lr in [1]:\n",
    "            model = biasMF(data.n_user, data.n_item, embedding_dim=dim, lr=lr, weight_decay=wd, loss=GPR(log_scale=True))\n",
    "            train(model, data, path='checkpoints/GPRlog', name=f'dim={dim}-wd={wd}-lr={lr}')\n",
    "\n",
    "files = {file: float(file.split('loss=')[1][:-5]) for file in os.listdir('checkpoints/GPRlog')}\n",
    "model = biasMF(data.n_user, data.n_item, embedding_dim=1, lr=0, weight_decay=0, loss=GPR(log_scale=True))\n",
    "model = model.load_from_checkpoint(os.path.join('checkpoints/GPRlog', min(files, key=files.get)))\n",
    "test(model, data, name='GPRlog', max_k=10, use_baseline=False)\n",
    "unc_distribution(model)"
   ]
  },
  {
   "cell_type": "markdown",
   "metadata": {},
   "source": [
    "# DoubleMF"
   ]
  },
  {
   "cell_type": "code",
   "execution_count": 7,
   "metadata": {},
   "outputs": [
    {
     "name": "stderr",
     "output_type": "stream",
     "text": [
      "GPU available: True, used: True\n",
      "TPU available: False, using: 0 TPU cores\n",
      "IPU available: False, using: 0 IPUs\n",
      "/home/vcoscrato/.local/lib/python3.8/site-packages/pytorch_lightning/core/datamodule.py:469: LightningDeprecationWarning: DataModule.setup has already been called, so it will not be called again. In v1.6 this behavior will change to always call DataModule.setup.\n",
      "  rank_zero_deprecation(\n",
      "LOCAL_RANK: 0 - CUDA_VISIBLE_DEVICES: [0]\n",
      "\n",
      "  | Name                | Type      | Params\n",
      "--------------------------------------------------\n",
      "0 | user_embeddings     | Embedding | 1.3 M \n",
      "1 | item_embeddings     | Embedding | 1.5 M \n",
      "2 | user_embeddings_rho | Embedding | 1.3 M \n",
      "3 | item_embeddings_rho | Embedding | 1.5 M \n",
      "4 | rho_activation      | Softplus  | 0     \n",
      "--------------------------------------------------\n",
      "5.6 M     Trainable params\n",
      "0         Non-trainable params\n",
      "5.6 M     Total params\n",
      "22.566    Total estimated model params size (MB)\n"
     ]
    },
    {
     "data": {
      "application/vnd.jupyter.widget-view+json": {
       "model_id": "",
       "version_major": 2,
       "version_minor": 0
      },
      "text/plain": [
       "Validation sanity check: 0it [00:00, ?it/s]"
      ]
     },
     "metadata": {},
     "output_type": "display_data"
    },
    {
     "data": {
      "application/vnd.jupyter.widget-view+json": {
       "model_id": "92ede44fbb264ec0b9c3abafd05da698",
       "version_major": 2,
       "version_minor": 0
      },
      "text/plain": [
       "Training: 0it [00:00, ?it/s]"
      ]
     },
     "metadata": {},
     "output_type": "display_data"
    },
    {
     "name": "stderr",
     "output_type": "stream",
     "text": [
      "/home/vcoscrato/.local/lib/python3.8/site-packages/pytorch_lightning/core/datamodule.py:469: LightningDeprecationWarning: DataModule.teardown has already been called, so it will not be called again. In v1.6 this behavior will change to always call DataModule.teardown.\n",
      "  rank_zero_deprecation(\n"
     ]
    },
    {
     "data": {
      "application/vnd.jupyter.widget-view+json": {
       "model_id": "c2508b432ee64af89f45c47f9553fac4",
       "version_major": 2,
       "version_minor": 0
      },
      "text/plain": [
       "  0%|          | 0/1000 [00:00<?, ?it/s]"
      ]
     },
     "metadata": {},
     "output_type": "display_data"
    },
    {
     "data": {
      "image/png": "[encoded data removed]",
      "text/plain": [
       "<Figure size 432x288 with 2 Axes>"
      ]
     },
     "metadata": {
      "needs_background": "light"
     },
     "output_type": "display_data"
    }
   ],
   "source": [
    "for dim in [50]:\n",
    "    for wd in [0]:\n",
    "        for lr in [1]:\n",
    "            model = TwoWayMF(data.n_user, data.n_item, embedding_dim=dim, lr=lr, weight_decay=wd, loss=GPR(log_scale=True))\n",
    "            train(model, data, path='checkpoints/GPRlog_MF', name=f'dim={dim}-wd={wd}-lr={lr}')\n",
    "\n",
    "files = {file: float(file.split('loss=')[1][:-5]) for file in os.listdir('checkpoints/GPRlog_MF')}\n",
    "model = TwoWayMF(data.n_user, data.n_item, embedding_dim=1, lr=0, weight_decay=0, loss=GPR(log_scale=True))\n",
    "model = model.load_from_checkpoint(os.path.join('checkpoints/GPRlog_MF', min(files, key=files.get)))\n",
    "test(model, data, name='GPRlog_MF', max_k=10, use_baseline=False)\n",
    "unc_distribution(model)"
   ]
  },
  {
   "cell_type": "markdown",
   "metadata": {},
   "source": [
    "# GMF"
   ]
  },
  {
   "cell_type": "code",
   "execution_count": 8,
   "metadata": {},
   "outputs": [
    {
     "name": "stderr",
     "output_type": "stream",
     "text": [
      "GPU available: True, used: True\n",
      "TPU available: False, using: 0 TPU cores\n",
      "IPU available: False, using: 0 IPUs\n",
      "/home/vcoscrato/.local/lib/python3.8/site-packages/pytorch_lightning/core/datamodule.py:469: LightningDeprecationWarning: DataModule.setup has already been called, so it will not be called again. In v1.6 this behavior will change to always call DataModule.setup.\n",
      "  rank_zero_deprecation(\n",
      "LOCAL_RANK: 0 - CUDA_VISIBLE_DEVICES: [0]\n",
      "\n",
      "  | Name            | Type      | Params\n",
      "----------------------------------------------\n",
      "0 | user_embeddings | Embedding | 1.3 M \n",
      "1 | item_embeddings | Embedding | 1.5 M \n",
      "2 | linear          | Linear    | 100   \n",
      "3 | rho_activation  | Softplus  | 0     \n",
      "----------------------------------------------\n",
      "2.8 M     Trainable params\n",
      "0         Non-trainable params\n",
      "2.8 M     Total params\n",
      "11.284    Total estimated model params size (MB)\n"
     ]
    },
    {
     "data": {
      "application/vnd.jupyter.widget-view+json": {
       "model_id": "",
       "version_major": 2,
       "version_minor": 0
      },
      "text/plain": [
       "Validation sanity check: 0it [00:00, ?it/s]"
      ]
     },
     "metadata": {},
     "output_type": "display_data"
    },
    {
     "data": {
      "application/vnd.jupyter.widget-view+json": {
       "model_id": "36e2ac2ab7dc4b92a2b55a3e46c3b3f9",
       "version_major": 2,
       "version_minor": 0
      },
      "text/plain": [
       "Training: 0it [00:00, ?it/s]"
      ]
     },
     "metadata": {},
     "output_type": "display_data"
    },
    {
     "name": "stderr",
     "output_type": "stream",
     "text": [
      "Trainer was signaled to stop but required minimum epochs (20) or minimum steps (None) has not been met. Training will continue...\n",
      "Trainer was signaled to stop but required minimum epochs (20) or minimum steps (None) has not been met. Training will continue...\n",
      "Trainer was signaled to stop but required minimum epochs (20) or minimum steps (None) has not been met. Training will continue...\n",
      "Trainer was signaled to stop but required minimum epochs (20) or minimum steps (None) has not been met. Training will continue...\n",
      "Trainer was signaled to stop but required minimum epochs (20) or minimum steps (None) has not been met. Training will continue...\n",
      "Trainer was signaled to stop but required minimum epochs (20) or minimum steps (None) has not been met. Training will continue...\n",
      "Trainer was signaled to stop but required minimum epochs (20) or minimum steps (None) has not been met. Training will continue...\n",
      "Trainer was signaled to stop but required minimum epochs (20) or minimum steps (None) has not been met. Training will continue...\n",
      "Trainer was signaled to stop but required minimum epochs (20) or minimum steps (None) has not been met. Training will continue...\n",
      "Trainer was signaled to stop but required minimum epochs (20) or minimum steps (None) has not been met. Training will continue...\n",
      "Trainer was signaled to stop but required minimum epochs (20) or minimum steps (None) has not been met. Training will continue...\n",
      "Trainer was signaled to stop but required minimum epochs (20) or minimum steps (None) has not been met. Training will continue...\n",
      "Trainer was signaled to stop but required minimum epochs (20) or minimum steps (None) has not been met. Training will continue...\n",
      "Trainer was signaled to stop but required minimum epochs (20) or minimum steps (None) has not been met. Training will continue...\n",
      "/home/vcoscrato/.local/lib/python3.8/site-packages/pytorch_lightning/core/datamodule.py:469: LightningDeprecationWarning: DataModule.teardown has already been called, so it will not be called again. In v1.6 this behavior will change to always call DataModule.teardown.\n",
      "  rank_zero_deprecation(\n"
     ]
    },
    {
     "data": {
      "application/vnd.jupyter.widget-view+json": {
       "model_id": "ce2509add6d54c8f8b5f6b9792dc3e54",
       "version_major": 2,
       "version_minor": 0
      },
      "text/plain": [
       "  0%|          | 0/1000 [00:00<?, ?it/s]"
      ]
     },
     "metadata": {},
     "output_type": "display_data"
    },
    {
     "data": {
      "image/png": "[encoded data removed]",
      "text/plain": [
       "<Figure size 432x288 with 2 Axes>"
      ]
     },
     "metadata": {
      "needs_background": "light"
     },
     "output_type": "display_data"
    }
   ],
   "source": [
    "for dim in [50]:\n",
    "    for wd in [0]:\n",
    "        for lr in [1]:\n",
    "            model = bprGMF(data.n_user, data.n_item, embedding_dim=dim, lr=lr, weight_decay=wd, loss=GPR(log_scale=True))\n",
    "            train(model, data, path='checkpoints/GPRlog_GMF', name=f'dim={dim}-wd={wd}-lr={lr}')\n",
    "\n",
    "files = {file: float(file.split('loss=')[1][:-5]) for file in os.listdir('checkpoints/GPRlog_GMF')}\n",
    "model = bprGMF(data.n_user, data.n_item, embedding_dim=1, lr=0, weight_decay=0, loss=GPR(log_scale=True))\n",
    "model = model.load_from_checkpoint(os.path.join('checkpoints/GPRlog_GMF', min(files, key=files.get)))\n",
    "test(model, data, name='GPRlog_GMF', max_k=10, use_baseline=False)\n",
    "unc_distribution(model)"
   ]
  },
  {
   "cell_type": "markdown",
   "metadata": {},
   "source": [
    "# Results"
   ]
  },
  {
   "cell_type": "code",
   "execution_count": 9,
   "metadata": {},
   "outputs": [
    {
     "data": {
      "text/html": [
       "<div>\n",
       "<style scoped>\n",
       "    .dataframe tbody tr th:only-of-type {\n",
       "        vertical-align: middle;\n",
       "    }\n",
       "\n",
       "    .dataframe tbody tr th {\n",
       "        vertical-align: top;\n",
       "    }\n",
       "\n",
       "    .dataframe thead th {\n",
       "        text-align: right;\n",
       "    }\n",
       "</style>\n",
       "<table border=\"1\" class=\"dataframe\">\n",
       "  <thead>\n",
       "    <tr style=\"text-align: right;\">\n",
       "      <th></th>\n",
       "      <th>NDCG</th>\n",
       "      <th>RRI</th>\n",
       "      <th>UncertainNDCG</th>\n",
       "    </tr>\n",
       "  </thead>\n",
       "  <tbody>\n",
       "    <tr>\n",
       "      <th>ABPR</th>\n",
       "      <td>0.001050</td>\n",
       "      <td>0.008441</td>\n",
       "      <td>0.001064</td>\n",
       "    </tr>\n",
       "    <tr>\n",
       "      <th>ABPRlog</th>\n",
       "      <td>0.000437</td>\n",
       "      <td>0.000083</td>\n",
       "      <td>0.000133</td>\n",
       "    </tr>\n",
       "    <tr>\n",
       "      <th>Baseline</th>\n",
       "      <td>0.003071</td>\n",
       "      <td>NaN</td>\n",
       "      <td>NaN</td>\n",
       "    </tr>\n",
       "    <tr>\n",
       "      <th>GPR</th>\n",
       "      <td>0.003718</td>\n",
       "      <td>0.037302</td>\n",
       "      <td>0.003766</td>\n",
       "    </tr>\n",
       "    <tr>\n",
       "      <th>GPRlog</th>\n",
       "      <td>0.003264</td>\n",
       "      <td>0.127780</td>\n",
       "      <td>0.003299</td>\n",
       "    </tr>\n",
       "    <tr>\n",
       "      <th>GPRlog GMF</th>\n",
       "      <td>0.002666</td>\n",
       "      <td>-0.059406</td>\n",
       "      <td>0.002699</td>\n",
       "    </tr>\n",
       "    <tr>\n",
       "      <th>GPRlog MF</th>\n",
       "      <td>0.004787</td>\n",
       "      <td>0.017931</td>\n",
       "      <td>0.004338</td>\n",
       "    </tr>\n",
       "  </tbody>\n",
       "</table>\n",
       "</div>"
      ],
      "text/plain": [
       "                NDCG       RRI  UncertainNDCG\n",
       "ABPR        0.001050  0.008441       0.001064\n",
       "ABPRlog     0.000437  0.000083       0.000133\n",
       "Baseline    0.003071       NaN            NaN\n",
       "GPR         0.003718  0.037302       0.003766\n",
       "GPRlog      0.003264  0.127780       0.003299\n",
       "GPRlog GMF  0.002666 -0.059406       0.002699\n",
       "GPRlog MF   0.004787  0.017931       0.004338"
      ]
     },
     "execution_count": 9,
     "metadata": {},
     "output_type": "execute_result"
    }
   ],
   "source": [
    "results = {}\n",
    "for key in os.listdir('results'):\n",
    "    results[key.replace('.pkl', '').replace('_', ' ')] = pickle.load(open(os.path.join('results', key), 'rb'))\n",
    "results = dict(sorted(results.items()))\n",
    "NDCG = [results[a]['accuracy']['NDCG'][-1] for a in results]\n",
    "RRI = [results[a]['uncertainty']['RRI'][-1] if 'PR' in a else np.NaN for a in results]\n",
    "UncertainNDCG = [results[a]['uncertain_accuracy']['NDCG'][-1] if 'PR' in a else np.NaN for a in results]\n",
    "interesting_stuff = pd.DataFrame({'NDCG': NDCG, 'RRI': RRI, 'UncertainNDCG': UncertainNDCG}, index=results)\n",
    "interesting_stuff"
   ]
  }
 ],
 "metadata": {
  "kernelspec": {
   "display_name": "Python 3",
   "language": "python",
   "name": "python3"
  },
  "language_info": {
   "codemirror_mode": {
    "name": "ipython",
    "version": 3
   },
   "file_extension": ".py",
   "mimetype": "text/x-python",
   "name": "python",
   "nbconvert_exporter": "python",
   "pygments_lexer": "ipython3",
   "version": "3.8.10"
  }
 },
 "nbformat": 4,
 "nbformat_minor": 4
}
