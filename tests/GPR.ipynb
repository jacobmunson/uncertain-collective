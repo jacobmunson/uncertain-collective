{
 "cells": [
  {
   "cell_type": "code",
   "execution_count": 1,
   "metadata": {},
   "outputs": [
    {
     "name": "stdout",
     "output_type": "stream",
     "text": [
      "MovieLens data prepared: 6016 users, 3533 item.\n",
      "551106 Train interactions, 12032 validation and test interactions.\n"
     ]
    }
   ],
   "source": [
    "import sys\n",
    "sys.path.append('..')\n",
    "\n",
    "from uncertain.models import ImplicitMF, TwoWayMF\n",
    "from uncertain.loss import BPR, ABPR, GPR\n",
    "from utils.data import MovieLens\n",
    "from utils.training import train_test\n",
    "from utils.evaluation import test_recommendations\n",
    "\n",
    "ML = MovieLens(batch_size=512)\n",
    "ML.prepare_data()"
   ]
  },
  {
   "cell_type": "code",
   "execution_count": 2,
   "metadata": {},
   "outputs": [
    {
     "name": "stderr",
     "output_type": "stream",
     "text": [
      "GPU available: True, used: True\n",
      "TPU available: False, using: 0 TPU cores\n",
      "LOCAL_RANK: 0 - CUDA_VISIBLE_DEVICES: [0]\n",
      "\n",
      "  | Name            | Type      | Params\n",
      "----------------------------------------------\n",
      "0 | user_embeddings | Embedding | 60.2 K\n",
      "1 | item_embeddings | Embedding | 35.3 K\n",
      "----------------------------------------------\n",
      "95.5 K    Trainable params\n",
      "0         Non-trainable params\n",
      "95.5 K    Total params\n",
      "0.382     Total estimated model params size (MB)\n"
     ]
    },
    {
     "data": {
      "application/vnd.jupyter.widget-view+json": {
       "model_id": "",
       "version_major": 2,
       "version_minor": 0
      },
      "text/plain": [
       "Validation sanity check: 0it [00:00, ?it/s]"
      ]
     },
     "metadata": {},
     "output_type": "display_data"
    },
    {
     "data": {
      "application/vnd.jupyter.widget-view+json": {
       "model_id": "1f645aeadfac46e4a0e734409de2ce7d",
       "version_major": 2,
       "version_minor": 0
      },
      "text/plain": [
       "Training: 0it [00:00, ?it/s]"
      ]
     },
     "metadata": {},
     "output_type": "display_data"
    },
    {
     "name": "stdout",
     "output_type": "stream",
     "text": [
      "({'Precision': 0.014394946808510743, 'Recall': 0.0359873670212766, 'NDCG': 0.10703863850952006, 'AUC': 0.892303216156893}, <Figure size 432x288 with 2 Axes>)\n"
     ]
    },
    {
     "data": {
      "image/png": "[encoded data removed]",
      "text/plain": [
       "<Figure size 432x288 with 2 Axes>"
      ]
     },
     "metadata": {
      "needs_background": "light"
     },
     "output_type": "display_data"
    }
   ],
   "source": [
    "model = ImplicitMF(ML.n_user, ML.n_item, embedding_dim=10, lr=1e-3, weight_decay=0, loss=BPR(log_scale=True))\n",
    "print(train_test(model, ML, max_k=5))"
   ]
  },
  {
   "cell_type": "code",
   "execution_count": 7,
   "metadata": {},
   "outputs": [
    {
     "name": "stderr",
     "output_type": "stream",
     "text": [
      "GPU available: True, used: True\n",
      "TPU available: False, using: 0 TPU cores\n",
      "LOCAL_RANK: 0 - CUDA_VISIBLE_DEVICES: [0]\n",
      "\n",
      "  | Name            | Type       | Params\n",
      "-----------------------------------------------\n",
      "0 | relevance       | ImplicitMF | 95.5 K\n",
      "1 | user_embeddings | Embedding  | 180 K \n",
      "2 | item_embeddings | Embedding  | 105 K \n",
      "3 | var_activation  | Softplus   | 0     \n",
      "-----------------------------------------------\n",
      "381 K     Trainable params\n",
      "0         Non-trainable params\n",
      "381 K     Total params\n",
      "1.528     Total estimated model params size (MB)\n"
     ]
    },
    {
     "data": {
      "application/vnd.jupyter.widget-view+json": {
       "model_id": "",
       "version_major": 2,
       "version_minor": 0
      },
      "text/plain": [
       "Validation sanity check: 0it [00:00, ?it/s]"
      ]
     },
     "metadata": {},
     "output_type": "display_data"
    },
    {
     "data": {
      "application/vnd.jupyter.widget-view+json": {
       "model_id": "56441b99fcd944efb6b6791b26f823aa",
       "version_major": 2,
       "version_minor": 0
      },
      "text/plain": [
       "Training: 0it [00:00, ?it/s]"
      ]
     },
     "metadata": {},
     "output_type": "display_data"
    },
    {
     "name": "stdout",
     "output_type": "stream",
     "text": [
      "({'Precision': 0.014428191489361801, 'Recall': 0.036070478723404256, 'NDCG': 0.10845049035408012, 'AUC': 0.8952496919382714, 'RRI': 0.028602890160480707}, <Figure size 432x288 with 2 Axes>)\n"
     ]
    },
    {
     "data": {
      "image/png": "[encoded data removed]",
      "text/plain": [
       "<Figure size 432x288 with 2 Axes>"
      ]
     },
     "metadata": {
      "needs_background": "light"
     },
     "output_type": "display_data"
    }
   ],
   "source": [
    "model2 = TwoWayMF(model, embedding_dim=30, lr=1e-3, weight_decay=0, loss=GPR(log_scale=True))\n",
    "print(train_test(model2, ML, max_k=5))"
   ]
  }
 ],
 "metadata": {
  "kernelspec": {
   "display_name": "Python 3",
   "language": "python",
   "name": "python3"
  },
  "language_info": {
   "codemirror_mode": {
    "name": "ipython",
    "version": 3
   },
   "file_extension": ".py",
   "mimetype": "text/x-python",
   "name": "python",
   "nbconvert_exporter": "python",
   "pygments_lexer": "ipython3",
   "version": "3.8.10"
  }
 },
 "nbformat": 4,
 "nbformat_minor": 4
}
