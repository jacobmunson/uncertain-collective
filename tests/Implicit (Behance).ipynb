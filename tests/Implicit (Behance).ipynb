{
 "cells": [
  {
   "cell_type": "code",
   "execution_count": 1,
   "metadata": {},
   "outputs": [
    {
     "name": "stdout",
     "output_type": "stream",
     "text": [
      "Data prepared: 23971 users, 32489 items.\n",
      "642875 train, 27459 validation and 27786 test interactions.\n"
     ]
    }
   ],
   "source": [
    "import os\n",
    "import sys\n",
    "sys.path.append('..')\n",
    "\n",
    "from IPython.display import clear_output\n",
    "\n",
    "import glob\n",
    "import torch\n",
    "import pickle\n",
    "import numpy as np\n",
    "import pandas as pd\n",
    "from copy import deepcopy\n",
    "np.seterr(divide='ignore', invalid='ignore')\n",
    "\n",
    "from uncertain.implicit import logMF, CAMF\n",
    "from uncertain.BPR import bprMF, biasMF, TwoWayMF, bprGMF, bprMLP, ABPR, GPR\n",
    "from uncertain.extras import Ensemble, Resample, UncertainWrapper, UserHeuristic, ItemHeuristic\n",
    "\n",
    "from uncertain.utils.data import ImplicitData as Data\n",
    "from uncertain.utils.training import train, run_study, load\n",
    "from uncertain.utils.evaluation_implicit import test\n",
    "\n",
    "from matplotlib import pyplot as plt\n",
    "\n",
    "os.chdir('Behance')\n",
    "\n",
    "if os.path.isfile('data.pkl'):\n",
    "    with open('data.pkl', 'rb') as f:\n",
    "        data = pickle.load(f)\n",
    "    print(f'Data prepared: {data.n_user} users, {data.n_item} items.')\n",
    "    print(f'{len(data.train)} train, {len(data.val)} validation and {len(data.test)} test interactions.')\n",
    "    data.batch_size = int(1e3)\n",
    "else:\n",
    "    data = pd.read_table('Behance_appreciate_1M', sep=' ', header=None)\n",
    "    data.columns = ['user', 'item', 'timestamps']\n",
    "    data = Data(data, users_on_val_test=5000)\n",
    "    with open('data.pkl', 'wb') as f:\n",
    "        pickle.dump(data, f, protocol=5)\n",
    "        \n",
    "def init_model(name, **kwargs):\n",
    "    return globals()[name](data.n_user, data.n_item, **kwargs)\n",
    "base_conf = {'embedding_dim':0, 'lr':0, 'weight_decay':0}"
   ]
  },
  {
   "cell_type": "code",
   "execution_count": 5,
   "metadata": {},
   "outputs": [
    {
     "name": "stdout",
     "output_type": "stream",
     "text": [
      "Average item popularity on training: 148.06707058137275\n",
      "Average item popularity on validation: 149.5865836337813\n",
      "Average item popularity on test: 146.35388325055783\n"
     ]
    }
   ],
   "source": [
    "print('Average item popularity on training: {}'.format(data.item_support[data.train[:, 1]].mean()))\n",
    "print('Average item popularity on validation: {}'.format(data.item_support[data.val[:, 1]].mean()))\n",
    "print('Average item popularity on test: {}'.format(data.item_support[data.test[:, 1]].mean()))"
   ]
  },
  {
   "cell_type": "markdown",
   "metadata": {},
   "source": [
    "# logMF"
   ]
  },
  {
   "cell_type": "code",
   "execution_count": null,
   "metadata": {},
   "outputs": [
    {
     "name": "stderr",
     "output_type": "stream",
     "text": [
      "GPU available: True, used: True\n",
      "TPU available: False, using: 0 TPU cores\n",
      "IPU available: False, using: 0 IPUs\n",
      "LOCAL_RANK: 0 - CUDA_VISIBLE_DEVICES: [0]\n",
      "\n",
      "  | Name            | Type      | Params\n",
      "----------------------------------------------\n",
      "0 | user_embeddings | Embedding | 3.6 M \n",
      "1 | item_embeddings | Embedding | 4.9 M \n",
      "----------------------------------------------\n",
      "8.5 M     Trainable params\n",
      "0         Non-trainable params\n",
      "8.5 M     Total params\n",
      "34.102    Total estimated model params size (MB)\n",
      "/home/vcoscrato/.local/lib/python3.8/site-packages/pytorch_lightning/callbacks/model_checkpoint.py:623: UserWarning: Checkpoint directory /home/vcoscrato/Documents/RecSys/MF/tests/Behance/checkpoints/logMF exists and is not empty.\n",
      "  rank_zero_warn(f\"Checkpoint directory {dirpath} exists and is not empty.\")\n"
     ]
    },
    {
     "data": {
      "application/vnd.jupyter.widget-view+json": {
       "model_id": "",
       "version_major": 2,
       "version_minor": 0
      },
      "text/plain": [
       "Validation sanity check: 0it [00:00, ?it/s]"
      ]
     },
     "metadata": {},
     "output_type": "display_data"
    },
    {
     "data": {
      "application/vnd.jupyter.widget-view+json": {
       "model_id": "d4001a939a4541ce8e9e6b63e493942e",
       "version_major": 2,
       "version_minor": 0
      },
      "text/plain": [
       "Training: 0it [00:00, ?it/s]"
      ]
     },
     "metadata": {},
     "output_type": "display_data"
    },
    {
     "name": "stderr",
     "output_type": "stream",
     "text": [
      "\u001b[32m[I 2022-04-11 14:36:27,649]\u001b[0m Trial 3 finished with value: 0.01770610734820366 and parameters: {'bs': 9717, 'dim': 151, 'lr': 8.084495671810224e-05, 'wd': 0.0, 'neg': 36}. Best is trial 3 with value: 0.01770610734820366.\u001b[0m\n",
      "GPU available: True, used: True\n",
      "TPU available: False, using: 0 TPU cores\n",
      "IPU available: False, using: 0 IPUs\n",
      "/home/vcoscrato/.local/lib/python3.8/site-packages/pytorch_lightning/core/datamodule.py:469: LightningDeprecationWarning: DataModule.setup has already been called, so it will not be called again. In v1.6 this behavior will change to always call DataModule.setup.\n",
      "  rank_zero_deprecation(\n",
      "LOCAL_RANK: 0 - CUDA_VISIBLE_DEVICES: [0]\n",
      "\n",
      "  | Name            | Type      | Params\n",
      "----------------------------------------------\n",
      "0 | user_embeddings | Embedding | 2.4 M \n",
      "1 | item_embeddings | Embedding | 3.2 M \n",
      "----------------------------------------------\n",
      "5.6 M     Trainable params\n",
      "0         Non-trainable params\n",
      "5.6 M     Total params\n",
      "22.358    Total estimated model params size (MB)\n"
     ]
    },
    {
     "data": {
      "application/vnd.jupyter.widget-view+json": {
       "model_id": "",
       "version_major": 2,
       "version_minor": 0
      },
      "text/plain": [
       "Validation sanity check: 0it [00:00, ?it/s]"
      ]
     },
     "metadata": {},
     "output_type": "display_data"
    },
    {
     "data": {
      "application/vnd.jupyter.widget-view+json": {
       "model_id": "86a4b474825e44d1b9ac27ea2360f016",
       "version_major": 2,
       "version_minor": 0
      },
      "text/plain": [
       "Training: 0it [00:00, ?it/s]"
      ]
     },
     "metadata": {},
     "output_type": "display_data"
    }
   ],
   "source": [
    "name = 'logMF'\n",
    "def init_model(name, **kwargs):\n",
    "    return globals()[name](data.n_user, data.n_item, **kwargs)\n",
    "\n",
    "def objective(trial):\n",
    "    \n",
    "    # Parameter setup\n",
    "    batch_size = trial.suggest_int('bs', 100, 10000)\n",
    "    params = {'embedding_dim': trial.suggest_int('dim', 50, 200),\n",
    "              'lr': trial.suggest_float('lr', 1e-5, 1e-3),\n",
    "              'weight_decay': trial.suggest_float('wd', 1e-7, 1e-5),\n",
    "              'n_negative': trial.suggest_int('neg', 5, 50)}\n",
    "    params_str = f'bs = {batch_size}-' + '-'.join(f'{key}={value}' for key, value in params.items())\n",
    "\n",
    "    # Train\n",
    "    data.batch_size = batch_size\n",
    "    model = init_model(name, **params)\n",
    "    MAP, path = train(model, data, path='checkpoints/' + name, name=params_str)\n",
    "    trial.set_user_attr('filename', path)\n",
    "    return MAP\n",
    "\n",
    "study = run_study(name, objective, n_trials=2)\n",
    "best_runs = study.trials_dataframe().sort_values('value')[::-1][:5]\n",
    "model = init_model(name, **base_conf).load_from_checkpoint(best_runs.user_attrs_filename.iloc[0])\n",
    "results = test(model, data, max_k=10, name=name)\n",
    "\n",
    "clear_output(wait=True)\n",
    "print(results)\n",
    "best_runs"
   ]
  },
  {
   "cell_type": "markdown",
   "metadata": {},
   "source": [
    "# bprMF"
   ]
  },
  {
   "cell_type": "code",
   "execution_count": 3,
   "metadata": {},
   "outputs": [
    {
     "name": "stdout",
     "output_type": "stream",
     "text": [
      "{'Rating_rec': {'MAP': array([0.00024239, 0.0003809 , 0.0004617 , 0.00049632, 0.00051652,\n",
      "       0.00055413, 0.00058876, 0.00059742, 0.00060896, 0.00060896]), 'Recall': array([3.70837000e-05, 1.31289661e-04, 1.77433078e-04, 2.25179505e-04,\n",
      "       2.31474288e-04, 2.83646517e-04, 3.06576007e-04, 3.25006633e-04,\n",
      "       3.40317304e-04, 3.94311454e-04])}}\n"
     ]
    },
    {
     "data": {
      "text/html": [
       "<div>\n",
       "<style scoped>\n",
       "    .dataframe tbody tr th:only-of-type {\n",
       "        vertical-align: middle;\n",
       "    }\n",
       "\n",
       "    .dataframe tbody tr th {\n",
       "        vertical-align: top;\n",
       "    }\n",
       "\n",
       "    .dataframe thead th {\n",
       "        text-align: right;\n",
       "    }\n",
       "</style>\n",
       "<table border=\"1\" class=\"dataframe\">\n",
       "  <thead>\n",
       "    <tr style=\"text-align: right;\">\n",
       "      <th></th>\n",
       "      <th>number</th>\n",
       "      <th>value</th>\n",
       "      <th>datetime_start</th>\n",
       "      <th>datetime_complete</th>\n",
       "      <th>duration</th>\n",
       "      <th>params_dim</th>\n",
       "      <th>params_lr</th>\n",
       "      <th>params_wd</th>\n",
       "      <th>user_attrs_best_loss</th>\n",
       "      <th>user_attrs_filename</th>\n",
       "      <th>state</th>\n",
       "    </tr>\n",
       "  </thead>\n",
       "  <tbody>\n",
       "    <tr>\n",
       "      <th>10</th>\n",
       "      <td>10</td>\n",
       "      <td>0.011463</td>\n",
       "      <td>2022-03-04 00:22:47.059025</td>\n",
       "      <td>2022-03-04 00:27:14.022297</td>\n",
       "      <td>0 days 00:04:26.963272</td>\n",
       "      <td>104</td>\n",
       "      <td>0.000994</td>\n",
       "      <td>3.287610e-07</td>\n",
       "      <td>0.360408</td>\n",
       "      <td>/home/vcoscrato/Documents/RecSys/MF/tests/Beha...</td>\n",
       "      <td>COMPLETE</td>\n",
       "    </tr>\n",
       "    <tr>\n",
       "      <th>3</th>\n",
       "      <td>3</td>\n",
       "      <td>0.011438</td>\n",
       "      <td>2022-03-03 23:37:40.656649</td>\n",
       "      <td>2022-03-03 23:42:45.005304</td>\n",
       "      <td>0 days 00:05:04.348655</td>\n",
       "      <td>111</td>\n",
       "      <td>0.000744</td>\n",
       "      <td>7.901823e-07</td>\n",
       "      <td>0.343975</td>\n",
       "      <td>/home/vcoscrato/Documents/RecSys/MF/tests/Beha...</td>\n",
       "      <td>COMPLETE</td>\n",
       "    </tr>\n",
       "    <tr>\n",
       "      <th>11</th>\n",
       "      <td>11</td>\n",
       "      <td>0.011345</td>\n",
       "      <td>2022-03-04 00:27:14.023177</td>\n",
       "      <td>2022-03-04 00:32:09.224595</td>\n",
       "      <td>0 days 00:04:55.201418</td>\n",
       "      <td>101</td>\n",
       "      <td>0.000995</td>\n",
       "      <td>3.085020e-07</td>\n",
       "      <td>0.362852</td>\n",
       "      <td>/home/vcoscrato/Documents/RecSys/MF/tests/Beha...</td>\n",
       "      <td>COMPLETE</td>\n",
       "    </tr>\n",
       "    <tr>\n",
       "      <th>13</th>\n",
       "      <td>13</td>\n",
       "      <td>0.011343</td>\n",
       "      <td>2022-03-04 00:37:08.798757</td>\n",
       "      <td>2022-03-04 00:43:12.325043</td>\n",
       "      <td>0 days 00:06:03.526286</td>\n",
       "      <td>115</td>\n",
       "      <td>0.000556</td>\n",
       "      <td>1.686514e-06</td>\n",
       "      <td>0.340145</td>\n",
       "      <td>/home/vcoscrato/Documents/RecSys/MF/tests/Beha...</td>\n",
       "      <td>COMPLETE</td>\n",
       "    </tr>\n",
       "    <tr>\n",
       "      <th>0</th>\n",
       "      <td>0</td>\n",
       "      <td>0.011324</td>\n",
       "      <td>2022-03-03 23:20:36.067530</td>\n",
       "      <td>2022-03-03 23:26:23.669147</td>\n",
       "      <td>0 days 00:05:47.601617</td>\n",
       "      <td>53</td>\n",
       "      <td>0.000428</td>\n",
       "      <td>6.224463e-07</td>\n",
       "      <td>0.352081</td>\n",
       "      <td>/home/vcoscrato/Documents/RecSys/MF/tests/Beha...</td>\n",
       "      <td>COMPLETE</td>\n",
       "    </tr>\n",
       "  </tbody>\n",
       "</table>\n",
       "</div>"
      ],
      "text/plain": [
       "    number     value             datetime_start          datetime_complete  \\\n",
       "10      10  0.011463 2022-03-04 00:22:47.059025 2022-03-04 00:27:14.022297   \n",
       "3        3  0.011438 2022-03-03 23:37:40.656649 2022-03-03 23:42:45.005304   \n",
       "11      11  0.011345 2022-03-04 00:27:14.023177 2022-03-04 00:32:09.224595   \n",
       "13      13  0.011343 2022-03-04 00:37:08.798757 2022-03-04 00:43:12.325043   \n",
       "0        0  0.011324 2022-03-03 23:20:36.067530 2022-03-03 23:26:23.669147   \n",
       "\n",
       "                 duration  params_dim  params_lr     params_wd  \\\n",
       "10 0 days 00:04:26.963272         104   0.000994  3.287610e-07   \n",
       "3  0 days 00:05:04.348655         111   0.000744  7.901823e-07   \n",
       "11 0 days 00:04:55.201418         101   0.000995  3.085020e-07   \n",
       "13 0 days 00:06:03.526286         115   0.000556  1.686514e-06   \n",
       "0  0 days 00:05:47.601617          53   0.000428  6.224463e-07   \n",
       "\n",
       "    user_attrs_best_loss                                user_attrs_filename  \\\n",
       "10              0.360408  /home/vcoscrato/Documents/RecSys/MF/tests/Beha...   \n",
       "3               0.343975  /home/vcoscrato/Documents/RecSys/MF/tests/Beha...   \n",
       "11              0.362852  /home/vcoscrato/Documents/RecSys/MF/tests/Beha...   \n",
       "13              0.340145  /home/vcoscrato/Documents/RecSys/MF/tests/Beha...   \n",
       "0               0.352081  /home/vcoscrato/Documents/RecSys/MF/tests/Beha...   \n",
       "\n",
       "       state  \n",
       "10  COMPLETE  \n",
       "3   COMPLETE  \n",
       "11  COMPLETE  \n",
       "13  COMPLETE  \n",
       "0   COMPLETE  "
      ]
     },
     "execution_count": 3,
     "metadata": {},
     "output_type": "execute_result"
    }
   ],
   "source": [
    "name = 'bprMF'\n",
    "def objective(trial):\n",
    "    \n",
    "    # Parameter setup\n",
    "    params = {'embedding_dim': trial.suggest_int('dim', 50, 200),\n",
    "              'lr': trial.suggest_float('lr', 1e-5, 1e-3),\n",
    "              'weight_decay': trial.suggest_float('wd', 1e-7, 1e-5)}\n",
    "    params_str = '-'.join(f'{key}={value}' for key, value in params.items())\n",
    "\n",
    "    # Train\n",
    "    model = init_model(name, **params)\n",
    "    loss, path = train(model, data, path='checkpoints/' + name, name=params_str)\n",
    "    trial.set_user_attr('best_loss', loss)\n",
    "    trial.set_user_attr('filename', path)\n",
    "    return val_MAP(model, data)\n",
    "\n",
    "study = run_study(name, objective, n_trials=0)\n",
    "best_runs = study.trials_dataframe().sort_values('value')[::-1][:5]\n",
    "model = init_model(name, **base_conf).load_from_checkpoint(best_runs.user_attrs_filename.iloc[0])\n",
    "results = test(model, data, max_k=10, use_baseline=False, name=name)\n",
    "\n",
    "clear_output(wait=True)\n",
    "print(results)\n",
    "best_runs"
   ]
  },
  {
   "cell_type": "code",
   "execution_count": 3,
   "metadata": {},
   "outputs": [
    {
     "data": {
      "text/plain": [
       "({'URI_new': array([nan, nan, nan, nan, nan, nan, nan, nan, nan, nan]),\n",
       "  'unc_plot': <Figure size 432x288 with 2 Axes>,\n",
       "  'FCP': 0.7625899834468953,\n",
       "  'Pairs uncertainty': {'Concordant': -493.8955062645761,\n",
       "   'Discordant': -570.0420612271371},\n",
       "  'URI_vanilla': array([-0.47471565, -0.47244244, -0.48402424, -0.47421176, -0.47261377,\n",
       "         -0.46963502, -0.4651659 , -0.46288846, -0.46319799, -0.46297352]),\n",
       "  'Unc_MAP_corr': array([-0.03471172, -0.04440439, -0.04678047, -0.05328531, -0.05650612,\n",
       "         -0.05961075, -0.06315802, -0.06379616, -0.06525019, -0.06425383])},\n",
       " {'URI_new': array([        nan, -0.06700763, -0.0789993 , -0.09300054, -0.06287995,\n",
       "         -0.0323123 , -0.0314368 , -0.02563362, -0.02144413, -0.01127213]),\n",
       "  'unc_plot': <Figure size 432x288 with 2 Axes>,\n",
       "  'FCP': 0.7625899834468953,\n",
       "  'Pairs uncertainty': {'Concordant': -138.5311714403982,\n",
       "   'Discordant': -57.046309508366846},\n",
       "  'URI_vanilla': array([3.4125128 , 3.1880983 , 2.96654097, 2.81008917, 2.73161811,\n",
       "         2.67442792, 2.5891955 , 2.50147144, 2.44044733, 2.37465115]),\n",
       "  'Unc_MAP_corr': array([0.03199576, 0.03670651, 0.04013125, 0.04083298, 0.04245217,\n",
       "         0.04413092, 0.04532466, 0.04667141, 0.04753453, 0.04785118])})"
      ]
     },
     "execution_count": 3,
     "metadata": {},
     "output_type": "execute_result"
    },
    {
     "data": {
      "image/png": "[encoded data removed]",
      "text/plain": [
       "<Figure size 432x288 with 2 Axes>"
      ]
     },
     "metadata": {
      "needs_background": "light"
     },
     "output_type": "display_data"
    },
    {
     "data": {
      "image/png": "[encoded data removed]",
      "text/plain": [
       "<Figure size 432x288 with 2 Axes>"
      ]
     },
     "metadata": {
      "needs_background": "light"
     },
     "output_type": "display_data"
    }
   ],
   "source": [
    "# Heuristics\n",
    "model = load('bprMF', init_model('bprMF', **base_conf))\n",
    "results0 = test(UserHeuristic(base_MF=model, uncertainty=-data.user.support.to_numpy()), data, max_k=10, use_baseline=True, name='User_support')\n",
    "results1 = test(ItemHeuristic(base_MF=model, uncertainty=-data.item.support.to_numpy()), data, max_k=10, use_baseline=True, name='Item_support')\n",
    "clear_output(wait=True)\n",
    "results0, results1"
   ]
  },
  {
   "cell_type": "markdown",
   "metadata": {},
   "source": [
    "# Ensemble"
   ]
  },
  {
   "cell_type": "code",
   "execution_count": 2,
   "metadata": {},
   "outputs": [
    {
     "ename": "TypeError",
     "evalue": "only integer scalar arrays can be converted to a scalar index",
     "output_type": "error",
     "traceback": [
      "\u001b[0;31m---------------------------------------------------------------------------\u001b[0m",
      "\u001b[0;31mTypeError\u001b[0m                                 Traceback (most recent call last)",
      "\u001b[0;32m<ipython-input-2-50ec515a7f9c>\u001b[0m in \u001b[0;36m<module>\u001b[0;34m\u001b[0m\n\u001b[1;32m     10\u001b[0m     \u001b[0mmodels\u001b[0m\u001b[0;34m[\u001b[0m\u001b[0;34m-\u001b[0m\u001b[0;36m1\u001b[0m\u001b[0;34m]\u001b[0m \u001b[0;34m=\u001b[0m \u001b[0mmodels\u001b[0m\u001b[0;34m[\u001b[0m\u001b[0;34m-\u001b[0m\u001b[0;36m1\u001b[0m\u001b[0;34m]\u001b[0m\u001b[0;34m.\u001b[0m\u001b[0mload_from_checkpoint\u001b[0m\u001b[0;34m(\u001b[0m\u001b[0mos\u001b[0m\u001b[0;34m.\u001b[0m\u001b[0mpath\u001b[0m\u001b[0;34m.\u001b[0m\u001b[0mjoin\u001b[0m\u001b[0;34m(\u001b[0m\u001b[0;34m'checkpoints/ensemble'\u001b[0m\u001b[0;34m,\u001b[0m \u001b[0mfile\u001b[0m\u001b[0;34m)\u001b[0m\u001b[0;34m)\u001b[0m\u001b[0;34m\u001b[0m\u001b[0;34m\u001b[0m\u001b[0m\n\u001b[1;32m     11\u001b[0m \u001b[0mmodel\u001b[0m \u001b[0;34m=\u001b[0m \u001b[0mEnsemble\u001b[0m\u001b[0;34m(\u001b[0m\u001b[0mmodels\u001b[0m\u001b[0;34m)\u001b[0m\u001b[0;34m\u001b[0m\u001b[0;34m\u001b[0m\u001b[0m\n\u001b[0;32m---> 12\u001b[0;31m \u001b[0mresults\u001b[0m \u001b[0;34m=\u001b[0m \u001b[0mtest\u001b[0m\u001b[0;34m(\u001b[0m\u001b[0mmodel\u001b[0m\u001b[0;34m,\u001b[0m \u001b[0mdata\u001b[0m\u001b[0;34m,\u001b[0m \u001b[0mname\u001b[0m\u001b[0;34m=\u001b[0m\u001b[0;34m'Ensemble'\u001b[0m\u001b[0;34m,\u001b[0m \u001b[0mmax_k\u001b[0m\u001b[0;34m=\u001b[0m\u001b[0;36m10\u001b[0m\u001b[0;34m,\u001b[0m \u001b[0muse_baseline\u001b[0m\u001b[0;34m=\u001b[0m\u001b[0;32mFalse\u001b[0m\u001b[0;34m)\u001b[0m\u001b[0;34m\u001b[0m\u001b[0;34m\u001b[0m\u001b[0m\n\u001b[0m\u001b[1;32m     13\u001b[0m \u001b[0mclear_output\u001b[0m\u001b[0;34m(\u001b[0m\u001b[0mwait\u001b[0m\u001b[0;34m=\u001b[0m\u001b[0;32mTrue\u001b[0m\u001b[0;34m)\u001b[0m\u001b[0;34m\u001b[0m\u001b[0;34m\u001b[0m\u001b[0m\n\u001b[1;32m     14\u001b[0m \u001b[0mprint\u001b[0m\u001b[0;34m(\u001b[0m\u001b[0mresults\u001b[0m\u001b[0;34m)\u001b[0m\u001b[0;34m\u001b[0m\u001b[0;34m\u001b[0m\u001b[0m\n",
      "\u001b[0;32m~/Documents/RecSys/MF/tests/../uncertain/utils/evaluation_implicit.py\u001b[0m in \u001b[0;36mtest\u001b[0;34m(model, data, max_k, use_baseline, name)\u001b[0m\n\u001b[1;32m     78\u001b[0m \u001b[0;34m\u001b[0m\u001b[0m\n\u001b[1;32m     79\u001b[0m     \u001b[0;32mif\u001b[0m \u001b[0mhasattr\u001b[0m\u001b[0;34m(\u001b[0m\u001b[0mmodel\u001b[0m\u001b[0;34m,\u001b[0m \u001b[0;34m'uncertain_predict_user'\u001b[0m\u001b[0;34m)\u001b[0m\u001b[0;34m:\u001b[0m\u001b[0;34m\u001b[0m\u001b[0;34m\u001b[0m\u001b[0m\n\u001b[0;32m---> 80\u001b[0;31m         \u001b[0mmetrics\u001b[0m\u001b[0;34m[\u001b[0m\u001b[0;34m'Uncertain_rec'\u001b[0m\u001b[0;34m]\u001b[0m \u001b[0;34m=\u001b[0m \u001b[0maccuracy_metrics\u001b[0m\u001b[0;34m(\u001b[0m\u001b[0mdata\u001b[0m\u001b[0;34m.\u001b[0m\u001b[0mtest_users\u001b[0m\u001b[0;34m,\u001b[0m \u001b[0mmax_k\u001b[0m\u001b[0;34m,\u001b[0m \u001b[0;32mTrue\u001b[0m\u001b[0;34m)\u001b[0m\u001b[0;34m\u001b[0m\u001b[0;34m\u001b[0m\u001b[0m\n\u001b[0m\u001b[1;32m     81\u001b[0m \u001b[0;34m\u001b[0m\u001b[0m\n\u001b[1;32m     82\u001b[0m     \u001b[0mprecision_denom\u001b[0m \u001b[0;34m=\u001b[0m \u001b[0mnp\u001b[0m\u001b[0;34m.\u001b[0m\u001b[0marange\u001b[0m\u001b[0;34m(\u001b[0m\u001b[0;36m1\u001b[0m\u001b[0;34m,\u001b[0m \u001b[0mmax_k\u001b[0m \u001b[0;34m+\u001b[0m \u001b[0;36m1\u001b[0m\u001b[0;34m)\u001b[0m\u001b[0;34m\u001b[0m\u001b[0;34m\u001b[0m\u001b[0m\n",
      "\u001b[0;32m~/Documents/RecSys/MF/tests/../uncertain/utils/evaluation_implicit.py\u001b[0m in \u001b[0;36maccuracy_metrics\u001b[0;34m(size, max_k, is_uncertain)\u001b[0m\n\u001b[1;32m     32\u001b[0m \u001b[0;34m\u001b[0m\u001b[0m\n\u001b[1;32m     33\u001b[0m \u001b[0;32mdef\u001b[0m \u001b[0maccuracy_metrics\u001b[0m\u001b[0;34m(\u001b[0m\u001b[0msize\u001b[0m\u001b[0;34m,\u001b[0m \u001b[0mmax_k\u001b[0m\u001b[0;34m,\u001b[0m \u001b[0mis_uncertain\u001b[0m\u001b[0;34m)\u001b[0m\u001b[0;34m:\u001b[0m\u001b[0;34m\u001b[0m\u001b[0;34m\u001b[0m\u001b[0m\n\u001b[0;32m---> 34\u001b[0;31m     out = {'MAP': np.zeros((size, max_k)),\n\u001b[0m\u001b[1;32m     35\u001b[0m            'Recall': np.zeros((size, max_k))}\n\u001b[1;32m     36\u001b[0m     \u001b[0;32mif\u001b[0m \u001b[0mis_uncertain\u001b[0m\u001b[0;34m:\u001b[0m\u001b[0;34m\u001b[0m\u001b[0;34m\u001b[0m\u001b[0m\n",
      "\u001b[0;31mTypeError\u001b[0m: only integer scalar arrays can be converted to a scalar index"
     ]
    },
    {
     "data": {
      "image/png": "[encoded data removed]",
      "text/plain": [
       "<Figure size 432x288 with 2 Axes>"
      ]
     },
     "metadata": {
      "needs_background": "light"
     },
     "output_type": "display_data"
    }
   ],
   "source": [
    "'''\n",
    "study = run_study(name, n_trials=0)\n",
    "for i in range(4):\n",
    "    model = init_model(**study.best_params)\n",
    "    train(model, data, path='checkpoints/ensemble', name=f'{i}')\n",
    "'''\n",
    "models = [load('bprMF', init_model('bprMF', **base_conf))]\n",
    "for file in os.listdir('checkpoints/ensemble'):\n",
    "    models.append(init_model('bprMF', **base_conf))\n",
    "    models[-1] = models[-1].load_from_checkpoint(os.path.join('checkpoints/ensemble', file))\n",
    "model = Ensemble(models)\n",
    "results = test(model, data, name='Ensemble', max_k=10, use_baseline=False)\n",
    "clear_output(wait=True)\n",
    "print(results)"
   ]
  },
  {
   "cell_type": "markdown",
   "metadata": {},
   "source": [
    "# Resample"
   ]
  },
  {
   "cell_type": "code",
   "execution_count": 4,
   "metadata": {},
   "outputs": [
    {
     "data": {
      "text/html": [
       "<div>\n",
       "<style scoped>\n",
       "    .dataframe tbody tr th:only-of-type {\n",
       "        vertical-align: middle;\n",
       "    }\n",
       "\n",
       "    .dataframe tbody tr th {\n",
       "        vertical-align: top;\n",
       "    }\n",
       "\n",
       "    .dataframe thead th {\n",
       "        text-align: right;\n",
       "    }\n",
       "</style>\n",
       "<table border=\"1\" class=\"dataframe\">\n",
       "  <thead>\n",
       "    <tr style=\"text-align: right;\">\n",
       "      <th></th>\n",
       "      <th>support</th>\n",
       "    </tr>\n",
       "  </thead>\n",
       "  <tbody>\n",
       "    <tr>\n",
       "      <th>0</th>\n",
       "      <td>39.0</td>\n",
       "    </tr>\n",
       "    <tr>\n",
       "      <th>0</th>\n",
       "      <td>39.0</td>\n",
       "    </tr>\n",
       "    <tr>\n",
       "      <th>1</th>\n",
       "      <td>28.0</td>\n",
       "    </tr>\n",
       "  </tbody>\n",
       "</table>\n",
       "</div>"
      ],
      "text/plain": [
       "   support\n",
       "0     39.0\n",
       "0     39.0\n",
       "1     28.0"
      ]
     },
     "execution_count": 4,
     "metadata": {},
     "output_type": "execute_result"
    }
   ],
   "source": [
    "data.item.loc[[0, 0, 1]]"
   ]
  },
  {
   "cell_type": "code",
   "execution_count": 7,
   "metadata": {},
   "outputs": [
    {
     "name": "stdout",
     "output_type": "stream",
     "text": [
      "{'Precision': array([0.00817203, 0.00718515, 0.00670614, 0.00644932, 0.00618442,\n",
      "       0.00589817, 0.00580748, 0.00567454, 0.00555575, 0.00542955]), 'Recall': array([0.00339926, 0.00594146, 0.00832193, 0.01064719, 0.01282731,\n",
      "       0.01451066, 0.0164312 , 0.01809544, 0.01978357, 0.02156343]), 'NDCG': array([0.00817203, 0.01195162, 0.01463988, 0.01695065, 0.01874658,\n",
      "       0.02012953, 0.02174373, 0.02308615, 0.02436554, 0.02533395])}\n"
     ]
    }
   ],
   "source": [
    "name = 'bprMF'\n",
    "def init_model(dim=0, lr=0, wd=0):\n",
    "    return bprMF(data.n_user, data.n_item, embedding_dim=dim, lr=lr, weight_decay=wd)\n",
    "\n",
    "study = run_study(name, n_trials=0)\n",
    "\n",
    "og = deepcopy(data.train)\n",
    "for i in range(4):\n",
    "    data.train = og[np.random.choice(len(og), int(0.8*len(og)), replace=False), :]\n",
    "    model = init_model(**study.best_params)\n",
    "    train(model, data, path='checkpoints/resample', name=f'{i}')\n",
    "data.train = og\n",
    "\n",
    "models = []\n",
    "for file in os.listdir('checkpoints/resample'):\n",
    "    models.append(init_model(**study.best_params))\n",
    "    models[-1] = models[-1].load_from_checkpoint(os.path.join('checkpoints/resample', file))\n",
    "model = Resample(load(name, init_model), models)\n",
    "accuracy = test(model, data, name='Resample', max_k=10, use_baseline=False)['accuracy']\n",
    "clear_output(wait=True)\n",
    "print(accuracy)"
   ]
  },
  {
   "cell_type": "markdown",
   "metadata": {},
   "source": [
    "# GPRMF (log)"
   ]
  },
  {
   "cell_type": "code",
   "execution_count": 2,
   "metadata": {},
   "outputs": [
    {
     "name": "stdout",
     "output_type": "stream",
     "text": [
      "{'Precision': array([0.00692545, 0.00687351, 0.00646375, 0.00659649, 0.00648222,\n",
      "       0.0062329 , 0.00603998, 0.005852  , 0.00565193, 0.00554728]), 'Recall': array([0.00258289, 0.00488914, 0.00685054, 0.00924531, 0.01115175,\n",
      "       0.01284882, 0.01451341, 0.01581929, 0.01710624, 0.01832092]), 'NDCG': array([0.00692545, 0.01109829, 0.01367897, 0.01645933, 0.01863335,\n",
      "       0.0202542 , 0.02171009, 0.02291887, 0.0240119 , 0.02513314])}\n"
     ]
    },
    {
     "data": {
      "text/html": [
       "<div>\n",
       "<style scoped>\n",
       "    .dataframe tbody tr th:only-of-type {\n",
       "        vertical-align: middle;\n",
       "    }\n",
       "\n",
       "    .dataframe tbody tr th {\n",
       "        vertical-align: top;\n",
       "    }\n",
       "\n",
       "    .dataframe thead th {\n",
       "        text-align: right;\n",
       "    }\n",
       "</style>\n",
       "<table border=\"1\" class=\"dataframe\">\n",
       "  <thead>\n",
       "    <tr style=\"text-align: right;\">\n",
       "      <th></th>\n",
       "      <th>number</th>\n",
       "      <th>value</th>\n",
       "      <th>datetime_start</th>\n",
       "      <th>datetime_complete</th>\n",
       "      <th>duration</th>\n",
       "      <th>params_dim</th>\n",
       "      <th>params_lr</th>\n",
       "      <th>params_wd</th>\n",
       "      <th>user_attrs_best_loss</th>\n",
       "      <th>user_attrs_filename</th>\n",
       "      <th>state</th>\n",
       "    </tr>\n",
       "  </thead>\n",
       "  <tbody>\n",
       "    <tr>\n",
       "      <th>9</th>\n",
       "      <td>9</td>\n",
       "      <td>0.009526</td>\n",
       "      <td>2022-03-04 02:16:01.569469</td>\n",
       "      <td>2022-03-04 02:20:28.469305</td>\n",
       "      <td>0 days 00:04:26.899836</td>\n",
       "      <td>88</td>\n",
       "      <td>0.000589</td>\n",
       "      <td>7.056150e-06</td>\n",
       "      <td>0.399977</td>\n",
       "      <td>/home/vcoscrato/Documents/RecSys/MF/tests/Beha...</td>\n",
       "      <td>COMPLETE</td>\n",
       "    </tr>\n",
       "    <tr>\n",
       "      <th>15</th>\n",
       "      <td>15</td>\n",
       "      <td>0.009392</td>\n",
       "      <td>2022-03-04 02:47:09.601271</td>\n",
       "      <td>2022-03-04 02:50:57.963480</td>\n",
       "      <td>0 days 00:03:48.362209</td>\n",
       "      <td>64</td>\n",
       "      <td>0.000399</td>\n",
       "      <td>1.257817e-06</td>\n",
       "      <td>0.419684</td>\n",
       "      <td>/home/vcoscrato/Documents/RecSys/MF/tests/Beha...</td>\n",
       "      <td>COMPLETE</td>\n",
       "    </tr>\n",
       "    <tr>\n",
       "      <th>6</th>\n",
       "      <td>6</td>\n",
       "      <td>0.008685</td>\n",
       "      <td>2022-03-04 02:01:11.135955</td>\n",
       "      <td>2022-03-04 02:04:56.925491</td>\n",
       "      <td>0 days 00:03:45.789536</td>\n",
       "      <td>162</td>\n",
       "      <td>0.000560</td>\n",
       "      <td>3.551088e-07</td>\n",
       "      <td>0.444101</td>\n",
       "      <td>/home/vcoscrato/Documents/RecSys/MF/tests/Beha...</td>\n",
       "      <td>COMPLETE</td>\n",
       "    </tr>\n",
       "    <tr>\n",
       "      <th>13</th>\n",
       "      <td>13</td>\n",
       "      <td>0.007856</td>\n",
       "      <td>2022-03-04 02:38:01.961548</td>\n",
       "      <td>2022-03-04 02:41:53.739055</td>\n",
       "      <td>0 days 00:03:51.777507</td>\n",
       "      <td>138</td>\n",
       "      <td>0.000369</td>\n",
       "      <td>1.093826e-07</td>\n",
       "      <td>0.444199</td>\n",
       "      <td>/home/vcoscrato/Documents/RecSys/MF/tests/Beha...</td>\n",
       "      <td>COMPLETE</td>\n",
       "    </tr>\n",
       "    <tr>\n",
       "      <th>16</th>\n",
       "      <td>16</td>\n",
       "      <td>0.006735</td>\n",
       "      <td>2022-03-04 02:50:57.964274</td>\n",
       "      <td>2022-03-04 02:56:25.146455</td>\n",
       "      <td>0 days 00:05:27.182181</td>\n",
       "      <td>77</td>\n",
       "      <td>0.000102</td>\n",
       "      <td>3.690114e-06</td>\n",
       "      <td>0.450989</td>\n",
       "      <td>/home/vcoscrato/Documents/RecSys/MF/tests/Beha...</td>\n",
       "      <td>COMPLETE</td>\n",
       "    </tr>\n",
       "  </tbody>\n",
       "</table>\n",
       "</div>"
      ],
      "text/plain": [
       "    number     value             datetime_start          datetime_complete  \\\n",
       "9        9  0.009526 2022-03-04 02:16:01.569469 2022-03-04 02:20:28.469305   \n",
       "15      15  0.009392 2022-03-04 02:47:09.601271 2022-03-04 02:50:57.963480   \n",
       "6        6  0.008685 2022-03-04 02:01:11.135955 2022-03-04 02:04:56.925491   \n",
       "13      13  0.007856 2022-03-04 02:38:01.961548 2022-03-04 02:41:53.739055   \n",
       "16      16  0.006735 2022-03-04 02:50:57.964274 2022-03-04 02:56:25.146455   \n",
       "\n",
       "                 duration  params_dim  params_lr     params_wd  \\\n",
       "9  0 days 00:04:26.899836          88   0.000589  7.056150e-06   \n",
       "15 0 days 00:03:48.362209          64   0.000399  1.257817e-06   \n",
       "6  0 days 00:03:45.789536         162   0.000560  3.551088e-07   \n",
       "13 0 days 00:03:51.777507         138   0.000369  1.093826e-07   \n",
       "16 0 days 00:05:27.182181          77   0.000102  3.690114e-06   \n",
       "\n",
       "    user_attrs_best_loss                                user_attrs_filename  \\\n",
       "9               0.399977  /home/vcoscrato/Documents/RecSys/MF/tests/Beha...   \n",
       "15              0.419684  /home/vcoscrato/Documents/RecSys/MF/tests/Beha...   \n",
       "6               0.444101  /home/vcoscrato/Documents/RecSys/MF/tests/Beha...   \n",
       "13              0.444199  /home/vcoscrato/Documents/RecSys/MF/tests/Beha...   \n",
       "16              0.450989  /home/vcoscrato/Documents/RecSys/MF/tests/Beha...   \n",
       "\n",
       "       state  \n",
       "9   COMPLETE  \n",
       "15  COMPLETE  \n",
       "6   COMPLETE  \n",
       "13  COMPLETE  \n",
       "16  COMPLETE  "
      ]
     },
     "execution_count": 2,
     "metadata": {},
     "output_type": "execute_result"
    }
   ],
   "source": [
    "name = 'biasGPRlog'\n",
    "def init_model(dim=0, lr=0, wd=0):\n",
    "    return biasMF(data.n_user, data.n_item, embedding_dim=dim, lr=lr, weight_decay=wd, loss=GPR(log_scale=True))\n",
    "\n",
    "def objective(trial):\n",
    "    \n",
    "    # Parameter setup\n",
    "    dim = trial.suggest_int('dim', 50, 200)\n",
    "    lr = trial.suggest_float('lr', 1e-4, 1e-3)\n",
    "    wd = trial.suggest_float('wd', 1e-7, 1e-5)\n",
    "    params = f'dim={dim}-wd={wd}-lr={lr}'\n",
    "\n",
    "    # Train\n",
    "    model = init_model(dim, lr, wd)\n",
    "    loss, path = train(model, data, path='checkpoints/' + name, name=params)\n",
    "    trial.set_user_attr('best_loss', loss)\n",
    "    trial.set_user_attr('filename', path)\n",
    "    return val_MAP(model, data)\n",
    "\n",
    "study = run_study(name, objective, n_trials=0)\n",
    "model = load(name, init_model)\n",
    "accuracy = test(model, data, name=name, max_k=10, use_baseline=False)['accuracy']\n",
    "clear_output(wait=True)\n",
    "print(accuracy)\n",
    "study.trials_dataframe().sort_values('value')[::-1][:5]"
   ]
  },
  {
   "cell_type": "markdown",
   "metadata": {},
   "source": [
    "# GPRMF (normal)"
   ]
  },
  {
   "cell_type": "code",
   "execution_count": 2,
   "metadata": {},
   "outputs": [
    {
     "name": "stdout",
     "output_type": "stream",
     "text": [
      "{'Precision': array([0.00869144, 0.00753142, 0.00670614, 0.00625887, 0.00612902,\n",
      "       0.00586932, 0.00572833, 0.00557499, 0.00548265, 0.00538107]), 'Recall': array([0.00357942, 0.00619427, 0.00815707, 0.0100698 , 0.01212275,\n",
      "       0.01376862, 0.01544492, 0.01695315, 0.01844967, 0.0201303 ]), 'NDCG': array([0.00869144, 0.01260211, 0.0149438 , 0.01693895, 0.01894296,\n",
      "       0.02041628, 0.02189965, 0.02317331, 0.02442117, 0.02553724])}\n"
     ]
    },
    {
     "data": {
      "text/html": [
       "<div>\n",
       "<style scoped>\n",
       "    .dataframe tbody tr th:only-of-type {\n",
       "        vertical-align: middle;\n",
       "    }\n",
       "\n",
       "    .dataframe tbody tr th {\n",
       "        vertical-align: top;\n",
       "    }\n",
       "\n",
       "    .dataframe thead th {\n",
       "        text-align: right;\n",
       "    }\n",
       "</style>\n",
       "<table border=\"1\" class=\"dataframe\">\n",
       "  <thead>\n",
       "    <tr style=\"text-align: right;\">\n",
       "      <th></th>\n",
       "      <th>number</th>\n",
       "      <th>value</th>\n",
       "      <th>datetime_start</th>\n",
       "      <th>datetime_complete</th>\n",
       "      <th>duration</th>\n",
       "      <th>params_dim</th>\n",
       "      <th>params_lr</th>\n",
       "      <th>params_wd</th>\n",
       "      <th>user_attrs_best_loss</th>\n",
       "      <th>user_attrs_filename</th>\n",
       "      <th>state</th>\n",
       "    </tr>\n",
       "  </thead>\n",
       "  <tbody>\n",
       "    <tr>\n",
       "      <th>4</th>\n",
       "      <td>4</td>\n",
       "      <td>0.008731</td>\n",
       "      <td>2022-03-04 12:49:50.333468</td>\n",
       "      <td>2022-03-04 12:58:56.515428</td>\n",
       "      <td>0 days 00:09:06.181960</td>\n",
       "      <td>127</td>\n",
       "      <td>0.000674</td>\n",
       "      <td>0.000009</td>\n",
       "      <td>-0.733521</td>\n",
       "      <td>/home/vcoscrato/Documents/RecSys/MF/tests/Beha...</td>\n",
       "      <td>COMPLETE</td>\n",
       "    </tr>\n",
       "    <tr>\n",
       "      <th>1</th>\n",
       "      <td>1</td>\n",
       "      <td>0.008158</td>\n",
       "      <td>2022-03-04 12:23:30.581272</td>\n",
       "      <td>2022-03-04 12:34:04.669339</td>\n",
       "      <td>0 days 00:10:34.088067</td>\n",
       "      <td>71</td>\n",
       "      <td>0.000976</td>\n",
       "      <td>0.000010</td>\n",
       "      <td>-0.726442</td>\n",
       "      <td>/home/vcoscrato/Documents/RecSys/MF/tests/Beha...</td>\n",
       "      <td>COMPLETE</td>\n",
       "    </tr>\n",
       "    <tr>\n",
       "      <th>3</th>\n",
       "      <td>3</td>\n",
       "      <td>0.007962</td>\n",
       "      <td>2022-03-04 12:44:32.806253</td>\n",
       "      <td>2022-03-04 12:49:50.332650</td>\n",
       "      <td>0 days 00:05:17.526397</td>\n",
       "      <td>134</td>\n",
       "      <td>0.000551</td>\n",
       "      <td>0.000009</td>\n",
       "      <td>-0.712621</td>\n",
       "      <td>/home/vcoscrato/Documents/RecSys/MF/tests/Beha...</td>\n",
       "      <td>COMPLETE</td>\n",
       "    </tr>\n",
       "    <tr>\n",
       "      <th>6</th>\n",
       "      <td>6</td>\n",
       "      <td>0.007904</td>\n",
       "      <td>2022-03-04 13:07:08.375386</td>\n",
       "      <td>2022-03-04 13:12:51.968986</td>\n",
       "      <td>0 days 00:05:43.593600</td>\n",
       "      <td>96</td>\n",
       "      <td>0.000286</td>\n",
       "      <td>0.000007</td>\n",
       "      <td>-0.726455</td>\n",
       "      <td>/home/vcoscrato/Documents/RecSys/MF/tests/Beha...</td>\n",
       "      <td>COMPLETE</td>\n",
       "    </tr>\n",
       "    <tr>\n",
       "      <th>9</th>\n",
       "      <td>9</td>\n",
       "      <td>0.006590</td>\n",
       "      <td>2022-03-04 13:24:34.340756</td>\n",
       "      <td>2022-03-04 13:30:39.845464</td>\n",
       "      <td>0 days 00:06:05.504708</td>\n",
       "      <td>146</td>\n",
       "      <td>0.000371</td>\n",
       "      <td>0.000009</td>\n",
       "      <td>-0.714011</td>\n",
       "      <td>/home/vcoscrato/Documents/RecSys/MF/tests/Beha...</td>\n",
       "      <td>COMPLETE</td>\n",
       "    </tr>\n",
       "  </tbody>\n",
       "</table>\n",
       "</div>"
      ],
      "text/plain": [
       "   number     value             datetime_start          datetime_complete  \\\n",
       "4       4  0.008731 2022-03-04 12:49:50.333468 2022-03-04 12:58:56.515428   \n",
       "1       1  0.008158 2022-03-04 12:23:30.581272 2022-03-04 12:34:04.669339   \n",
       "3       3  0.007962 2022-03-04 12:44:32.806253 2022-03-04 12:49:50.332650   \n",
       "6       6  0.007904 2022-03-04 13:07:08.375386 2022-03-04 13:12:51.968986   \n",
       "9       9  0.006590 2022-03-04 13:24:34.340756 2022-03-04 13:30:39.845464   \n",
       "\n",
       "                duration  params_dim  params_lr  params_wd  \\\n",
       "4 0 days 00:09:06.181960         127   0.000674   0.000009   \n",
       "1 0 days 00:10:34.088067          71   0.000976   0.000010   \n",
       "3 0 days 00:05:17.526397         134   0.000551   0.000009   \n",
       "6 0 days 00:05:43.593600          96   0.000286   0.000007   \n",
       "9 0 days 00:06:05.504708         146   0.000371   0.000009   \n",
       "\n",
       "   user_attrs_best_loss                                user_attrs_filename  \\\n",
       "4             -0.733521  /home/vcoscrato/Documents/RecSys/MF/tests/Beha...   \n",
       "1             -0.726442  /home/vcoscrato/Documents/RecSys/MF/tests/Beha...   \n",
       "3             -0.712621  /home/vcoscrato/Documents/RecSys/MF/tests/Beha...   \n",
       "6             -0.726455  /home/vcoscrato/Documents/RecSys/MF/tests/Beha...   \n",
       "9             -0.714011  /home/vcoscrato/Documents/RecSys/MF/tests/Beha...   \n",
       "\n",
       "      state  \n",
       "4  COMPLETE  \n",
       "1  COMPLETE  \n",
       "3  COMPLETE  \n",
       "6  COMPLETE  \n",
       "9  COMPLETE  "
      ]
     },
     "execution_count": 2,
     "metadata": {},
     "output_type": "execute_result"
    }
   ],
   "source": [
    "name = 'biasGPR'\n",
    "def init_model(dim=0, lr=0, wd=0):\n",
    "    return biasMF(data.n_user, data.n_item, embedding_dim=dim, lr=lr, weight_decay=wd, loss=GPR(log_scale=False))\n",
    "\n",
    "def objective(trial):\n",
    "    \n",
    "    # Parameter setup\n",
    "    dim = trial.suggest_int('dim', 50, 200)\n",
    "    lr = trial.suggest_float('lr', 1e-4, 1e-3)\n",
    "    wd = trial.suggest_float('wd', 1e-7, 1e-5)\n",
    "    params = f'dim={dim}-wd={wd}-lr={lr}'\n",
    "\n",
    "    # Train\n",
    "    model = init_model(dim, lr, wd)\n",
    "    loss, path = train(model, data, path='checkpoints/' + name, name=params)\n",
    "    trial.set_user_attr('best_loss', loss)\n",
    "    trial.set_user_attr('filename', path)\n",
    "    return val_MAP(model, data)\n",
    "\n",
    "study = run_study(name, objective, n_trials=20)\n",
    "model = load(name, init_model)\n",
    "accuracy = test(model, data, name=name, max_k=10, use_baseline=False)['accuracy']\n",
    "clear_output(wait=True)\n",
    "print(accuracy)\n",
    "study.trials_dataframe().sort_values('value')[::-1][:5]"
   ]
  },
  {
   "cell_type": "markdown",
   "metadata": {},
   "source": [
    "# CAMF"
   ]
  },
  {
   "cell_type": "code",
   "execution_count": 3,
   "metadata": {},
   "outputs": [
    {
     "name": "stdout",
     "output_type": "stream",
     "text": [
      "{'Precision': array([0.00706396, 0.00618096, 0.0055519 , 0.00524603, 0.00518716,\n",
      "       0.00512483, 0.00504074, 0.00492572, 0.00482858, 0.0047751 ]), 'Recall': array([0.00275485, 0.00508243, 0.00669918, 0.00829404, 0.01019557,\n",
      "       0.01176891, 0.01338718, 0.01467429, 0.01623967, 0.01757207]), 'NDCG': array([0.00706396, 0.01034106, 0.01237728, 0.01415366, 0.01599312,\n",
      "       0.01758424, 0.01895202, 0.02011651, 0.02118784, 0.02224447])}\n"
     ]
    },
    {
     "data": {
      "text/html": [
       "<div>\n",
       "<style scoped>\n",
       "    .dataframe tbody tr th:only-of-type {\n",
       "        vertical-align: middle;\n",
       "    }\n",
       "\n",
       "    .dataframe tbody tr th {\n",
       "        vertical-align: top;\n",
       "    }\n",
       "\n",
       "    .dataframe thead th {\n",
       "        text-align: right;\n",
       "    }\n",
       "</style>\n",
       "<table border=\"1\" class=\"dataframe\">\n",
       "  <thead>\n",
       "    <tr style=\"text-align: right;\">\n",
       "      <th></th>\n",
       "      <th>number</th>\n",
       "      <th>value</th>\n",
       "      <th>datetime_start</th>\n",
       "      <th>datetime_complete</th>\n",
       "      <th>duration</th>\n",
       "      <th>params_dim</th>\n",
       "      <th>params_lr</th>\n",
       "      <th>params_neg</th>\n",
       "      <th>params_wd</th>\n",
       "      <th>user_attrs_best_loss</th>\n",
       "      <th>user_attrs_filename</th>\n",
       "      <th>state</th>\n",
       "    </tr>\n",
       "  </thead>\n",
       "  <tbody>\n",
       "    <tr>\n",
       "      <th>13</th>\n",
       "      <td>13</td>\n",
       "      <td>0.000157</td>\n",
       "      <td>2022-03-04 16:13:46.394212</td>\n",
       "      <td>2022-03-04 16:16:24.616758</td>\n",
       "      <td>0 days 00:02:38.222546</td>\n",
       "      <td>73</td>\n",
       "      <td>0.000986</td>\n",
       "      <td>26</td>\n",
       "      <td>0.000004</td>\n",
       "      <td>0.693147</td>\n",
       "      <td>/home/vcoscrato/Documents/RecSys/MF/tests/Beha...</td>\n",
       "      <td>COMPLETE</td>\n",
       "    </tr>\n",
       "    <tr>\n",
       "      <th>15</th>\n",
       "      <td>15</td>\n",
       "      <td>0.000157</td>\n",
       "      <td>2022-03-04 16:20:52.830523</td>\n",
       "      <td>2022-03-04 16:23:13.343659</td>\n",
       "      <td>0 days 00:02:20.513136</td>\n",
       "      <td>50</td>\n",
       "      <td>0.000999</td>\n",
       "      <td>27</td>\n",
       "      <td>0.000006</td>\n",
       "      <td>0.693147</td>\n",
       "      <td>/home/vcoscrato/Documents/RecSys/MF/tests/Beha...</td>\n",
       "      <td>COMPLETE</td>\n",
       "    </tr>\n",
       "    <tr>\n",
       "      <th>16</th>\n",
       "      <td>16</td>\n",
       "      <td>0.000157</td>\n",
       "      <td>2022-03-04 16:23:13.344621</td>\n",
       "      <td>2022-03-04 16:26:34.046440</td>\n",
       "      <td>0 days 00:03:20.701819</td>\n",
       "      <td>150</td>\n",
       "      <td>0.000692</td>\n",
       "      <td>9</td>\n",
       "      <td>0.000002</td>\n",
       "      <td>0.693147</td>\n",
       "      <td>/home/vcoscrato/Documents/RecSys/MF/tests/Beha...</td>\n",
       "      <td>COMPLETE</td>\n",
       "    </tr>\n",
       "    <tr>\n",
       "      <th>17</th>\n",
       "      <td>17</td>\n",
       "      <td>0.000157</td>\n",
       "      <td>2022-03-04 16:26:34.047238</td>\n",
       "      <td>2022-03-04 16:29:22.126662</td>\n",
       "      <td>0 days 00:02:48.079424</td>\n",
       "      <td>72</td>\n",
       "      <td>0.000872</td>\n",
       "      <td>23</td>\n",
       "      <td>0.000004</td>\n",
       "      <td>0.693147</td>\n",
       "      <td>/home/vcoscrato/Documents/RecSys/MF/tests/Beha...</td>\n",
       "      <td>COMPLETE</td>\n",
       "    </tr>\n",
       "    <tr>\n",
       "      <th>9</th>\n",
       "      <td>9</td>\n",
       "      <td>0.000157</td>\n",
       "      <td>2022-03-04 15:57:27.511005</td>\n",
       "      <td>2022-03-04 16:01:22.727458</td>\n",
       "      <td>0 days 00:03:55.216453</td>\n",
       "      <td>171</td>\n",
       "      <td>0.000578</td>\n",
       "      <td>20</td>\n",
       "      <td>0.000002</td>\n",
       "      <td>0.693147</td>\n",
       "      <td>/home/vcoscrato/Documents/RecSys/MF/tests/Beha...</td>\n",
       "      <td>COMPLETE</td>\n",
       "    </tr>\n",
       "  </tbody>\n",
       "</table>\n",
       "</div>"
      ],
      "text/plain": [
       "    number     value             datetime_start          datetime_complete  \\\n",
       "13      13  0.000157 2022-03-04 16:13:46.394212 2022-03-04 16:16:24.616758   \n",
       "15      15  0.000157 2022-03-04 16:20:52.830523 2022-03-04 16:23:13.343659   \n",
       "16      16  0.000157 2022-03-04 16:23:13.344621 2022-03-04 16:26:34.046440   \n",
       "17      17  0.000157 2022-03-04 16:26:34.047238 2022-03-04 16:29:22.126662   \n",
       "9        9  0.000157 2022-03-04 15:57:27.511005 2022-03-04 16:01:22.727458   \n",
       "\n",
       "                 duration  params_dim  params_lr  params_neg  params_wd  \\\n",
       "13 0 days 00:02:38.222546          73   0.000986          26   0.000004   \n",
       "15 0 days 00:02:20.513136          50   0.000999          27   0.000006   \n",
       "16 0 days 00:03:20.701819         150   0.000692           9   0.000002   \n",
       "17 0 days 00:02:48.079424          72   0.000872          23   0.000004   \n",
       "9  0 days 00:03:55.216453         171   0.000578          20   0.000002   \n",
       "\n",
       "    user_attrs_best_loss                                user_attrs_filename  \\\n",
       "13              0.693147  /home/vcoscrato/Documents/RecSys/MF/tests/Beha...   \n",
       "15              0.693147  /home/vcoscrato/Documents/RecSys/MF/tests/Beha...   \n",
       "16              0.693147  /home/vcoscrato/Documents/RecSys/MF/tests/Beha...   \n",
       "17              0.693147  /home/vcoscrato/Documents/RecSys/MF/tests/Beha...   \n",
       "9               0.693147  /home/vcoscrato/Documents/RecSys/MF/tests/Beha...   \n",
       "\n",
       "       state  \n",
       "13  COMPLETE  \n",
       "15  COMPLETE  \n",
       "16  COMPLETE  \n",
       "17  COMPLETE  \n",
       "9   COMPLETE  "
      ]
     },
     "execution_count": 3,
     "metadata": {},
     "output_type": "execute_result"
    }
   ],
   "source": [
    "name = 'CAMF'\n",
    "def init_model(dim=0, lr=0, wd=0, neg=0):\n",
    "    return CAMF(data.n_user, data.n_item, embedding_dim=dim, lr=lr, weight_decay=wd, n_negative=neg)\n",
    "\n",
    "def objective(trial):\n",
    "    \n",
    "    # Parameter setup\n",
    "    dim = trial.suggest_int('dim', 50, 200)\n",
    "    lr = trial.suggest_float('lr', 1e-5, 1e-3)\n",
    "    wd = trial.suggest_float('wd', 1e-7, 1e-5)\n",
    "    neg = trial.suggest_int('neg', 5, 50)\n",
    "    params = f'dim={dim}-wd={wd}-lr={lr}-neg={neg}'\n",
    "\n",
    "    # Train\n",
    "    model = init_model(dim, lr, wd, neg)\n",
    "    loss, path = train(model, data, path='checkpoints/' + name, name=params)\n",
    "    trial.set_user_attr('best_loss', loss)\n",
    "    trial.set_user_attr('filename', path)\n",
    "    return val_MAP(model, data)\n",
    "\n",
    "study = run_study(name, objective, n_trials=20)\n",
    "model = load(name, init_model)\n",
    "accuracy = test(model, data, name=name, max_k=10, use_baseline=False)['accuracy']\n",
    "clear_output(wait=True)\n",
    "print(accuracy)\n",
    "study.trials_dataframe().sort_values('value')[::-1][:5]"
   ]
  },
  {
   "cell_type": "markdown",
   "metadata": {},
   "source": [
    "# Results"
   ]
  },
  {
   "cell_type": "code",
   "execution_count": 4,
   "metadata": {},
   "outputs": [
    {
     "data": {
      "text/html": [
       "<div>\n",
       "<style scoped>\n",
       "    .dataframe tbody tr th:only-of-type {\n",
       "        vertical-align: middle;\n",
       "    }\n",
       "\n",
       "    .dataframe tbody tr th {\n",
       "        vertical-align: top;\n",
       "    }\n",
       "\n",
       "    .dataframe thead th {\n",
       "        text-align: right;\n",
       "    }\n",
       "</style>\n",
       "<table border=\"1\" class=\"dataframe\">\n",
       "  <thead>\n",
       "    <tr style=\"text-align: right;\">\n",
       "      <th></th>\n",
       "      <th>NDCG</th>\n",
       "      <th>RRI</th>\n",
       "      <th>UncertainNDCG</th>\n",
       "    </tr>\n",
       "  </thead>\n",
       "  <tbody>\n",
       "    <tr>\n",
       "      <th>CAMF</th>\n",
       "      <td>0.022244</td>\n",
       "      <td>-0.011919</td>\n",
       "      <td>NaN</td>\n",
       "    </tr>\n",
       "    <tr>\n",
       "      <th>Ensemble</th>\n",
       "      <td>NaN</td>\n",
       "      <td>NaN</td>\n",
       "      <td>NaN</td>\n",
       "    </tr>\n",
       "    <tr>\n",
       "      <th>Item support</th>\n",
       "      <td>NaN</td>\n",
       "      <td>NaN</td>\n",
       "      <td>NaN</td>\n",
       "    </tr>\n",
       "    <tr>\n",
       "      <th>Resample</th>\n",
       "      <td>0.025334</td>\n",
       "      <td>-0.004646</td>\n",
       "      <td>NaN</td>\n",
       "    </tr>\n",
       "    <tr>\n",
       "      <th>User support</th>\n",
       "      <td>NaN</td>\n",
       "      <td>NaN</td>\n",
       "      <td>NaN</td>\n",
       "    </tr>\n",
       "    <tr>\n",
       "      <th>biasGPR</th>\n",
       "      <td>0.025537</td>\n",
       "      <td>0.021480</td>\n",
       "      <td>0.026095</td>\n",
       "    </tr>\n",
       "    <tr>\n",
       "      <th>biasGPRlog</th>\n",
       "      <td>0.025133</td>\n",
       "      <td>-0.002884</td>\n",
       "      <td>0.026912</td>\n",
       "    </tr>\n",
       "    <tr>\n",
       "      <th>bprMF</th>\n",
       "      <td>NaN</td>\n",
       "      <td>NaN</td>\n",
       "      <td>NaN</td>\n",
       "    </tr>\n",
       "    <tr>\n",
       "      <th>logMF</th>\n",
       "      <td>NaN</td>\n",
       "      <td>NaN</td>\n",
       "      <td>NaN</td>\n",
       "    </tr>\n",
       "  </tbody>\n",
       "</table>\n",
       "</div>"
      ],
      "text/plain": [
       "                  NDCG       RRI  UncertainNDCG\n",
       "CAMF          0.022244 -0.011919            NaN\n",
       "Ensemble           NaN       NaN            NaN\n",
       "Item support       NaN       NaN            NaN\n",
       "Resample      0.025334 -0.004646            NaN\n",
       "User support       NaN       NaN            NaN\n",
       "biasGPR       0.025537  0.021480       0.026095\n",
       "biasGPRlog    0.025133 -0.002884       0.026912\n",
       "bprMF              NaN       NaN            NaN\n",
       "logMF              NaN       NaN            NaN"
      ]
     },
     "execution_count": 4,
     "metadata": {},
     "output_type": "execute_result"
    },
    {
     "data": {
      "image/png": "[encoded data removed]",
      "text/plain": [
       "<Figure size 432x288 with 2 Axes>"
      ]
     },
     "metadata": {
      "needs_background": "light"
     },
     "output_type": "display_data"
    },
    {
     "data": {
      "image/png": "[encoded data removed]",
      "text/plain": [
       "<Figure size 432x288 with 2 Axes>"
      ]
     },
     "metadata": {
      "needs_background": "light"
     },
     "output_type": "display_data"
    },
    {
     "data": {
      "image/png": "[encoded data removed]",
      "text/plain": [
       "<Figure size 432x288 with 2 Axes>"
      ]
     },
     "metadata": {
      "needs_background": "light"
     },
     "output_type": "display_data"
    }
   ],
   "source": [
    "results = {}\n",
    "for key in os.listdir('results'):\n",
    "    results[key.replace('.pkl', '').replace('_', ' ')] = pickle.load(open(os.path.join('results', key), 'rb'))\n",
    "results = dict(sorted(results.items()))\n",
    "NDCG = [results[a]['accuracy']['NDCG'][-1] if 'accuracy' in results[a] else np.NaN for a in results]\n",
    "RRI = [results[a]['uncertainty']['RRI'][-1] if 'uncertainty' in results[a] else np.NaN for a in results]\n",
    "UncertainNDCG = [results[a]['uncertain_accuracy']['NDCG'][-1] if 'PR' in a else np.NaN for a in results]\n",
    "interesting_stuff = pd.DataFrame({'NDCG': NDCG, 'RRI': RRI, 'UncertainNDCG': UncertainNDCG}, index=results)\n",
    "interesting_stuff"
   ]
  },
  {
   "cell_type": "code",
   "execution_count": 7,
   "metadata": {},
   "outputs": [
    {
     "data": {
      "text/plain": [
       "{'Precision': array([0.00914159, 0.00798158, 0.00713321, 0.00668306, 0.00640604,\n",
       "        0.0062733 , 0.00614881, 0.00601215, 0.00591741, 0.00583815]),\n",
       " 'Recall': array([0.00410262, 0.00735794, 0.00959558, 0.01182595, 0.0140198 ,\n",
       "        0.01623699, 0.01816993, 0.01998148, 0.0216754 , 0.02384254]),\n",
       " 'MAP': array([0.00914159, 0.01244849, 0.01417408, 0.01539085, 0.01632636,\n",
       "        0.01710884, 0.017716  , 0.0181965 , 0.01859539, 0.01903139]),\n",
       " 'NDCG': array([0.00914159, 0.01331444, 0.0159118 , 0.0180488 , 0.0199412 ,\n",
       "        0.02172881, 0.02327073, 0.02464986, 0.0259391 , 0.02724817]),\n",
       " 'URI_new': array([        nan, -0.09479893, -0.17574806, -0.1877541 , -0.19314086,\n",
       "        -0.17980279, -0.18746716, -0.18854415, -0.18513186, -0.1827673 ]),\n",
       " 'unc_plot': <Figure size 432x288 with 2 Axes>,\n",
       " 'FCP': 0.7736536166608923,\n",
       " 'Pairs uncertainty': {'Concordant': 1.8791402637631471,\n",
       "  'Discordant': 1.5402538208533645},\n",
       " 'URI_vanilla': array([-2.43858606, -2.35565883, -2.32699441, -2.3110895 , -2.29630285,\n",
       "        -2.26953507, -2.27005488, -2.26349399, -2.25303465, -2.23145603]),\n",
       " 'Unc_MAP_corr': array([0.02758137, 0.0334983 , 0.03798666, 0.04252196, 0.04658324,\n",
       "        0.04885081, 0.05163853, 0.05374909, 0.05611168, 0.05771834])}"
      ]
     },
     "execution_count": 7,
     "metadata": {},
     "output_type": "execute_result"
    }
   ],
   "source": [
    "results['Ensemble']"
   ]
  },
  {
   "cell_type": "code",
   "execution_count": 12,
   "metadata": {},
   "outputs": [
    {
     "data": {
      "image/png": "[encoded data removed]",
      "text/plain": [
       "<Figure size 432x288 with 2 Axes>"
      ]
     },
     "metadata": {
      "needs_background": "light"
     },
     "output_type": "display_data"
    },
    {
     "data": {
      "image/png": "[encoded data removed]",
      "text/plain": [
       "<Figure size 432x288 with 2 Axes>"
      ]
     },
     "metadata": {
      "needs_background": "light"
     },
     "output_type": "display_data"
    },
    {
     "data": {
      "image/png": "[encoded data removed]",
      "text/plain": [
       "<Figure size 432x288 with 2 Axes>"
      ]
     },
     "metadata": {
      "needs_background": "light"
     },
     "output_type": "display_data"
    },
    {
     "data": {
      "image/png": "[encoded data removed]",
      "text/plain": [
       "<Figure size 432x288 with 2 Axes>"
      ]
     },
     "metadata": {
      "needs_background": "light"
     },
     "output_type": "display_data"
    },
    {
     "data": {
      "image/png": "[encoded data removed]",
      "text/plain": [
       "<Figure size 432x288 with 2 Axes>"
      ]
     },
     "metadata": {
      "needs_background": "light"
     },
     "output_type": "display_data"
    }
   ],
   "source": [
    "for key, value in results.items():\n",
    "    if 'uncertainty' in value:\n",
    "        unc_distribution(results=value)\n",
    "        plt.title(key)"
   ]
  },
  {
   "cell_type": "code",
   "execution_count": 61,
   "metadata": {},
   "outputs": [
    {
     "name": "stdout",
     "output_type": "stream",
     "text": [
      "FCP: 0.7763097882270813\n",
      "Avg loss concordant: -0.9042988055329131; discordant: -0.20305634283158655\n",
      "Avg pairwise uncertainty concordant: 0.7118403911590576; discordant: 0.6525160074234009\n"
     ]
    }
   ],
   "source": [
    "n_test = len(data.test)\n",
    "positives = model(torch.tensor(data.test[:, 0]), torch.tensor(data.test[:, 1]))\n",
    "negatives = model.get_negative_prediction(torch.tensor(data.test[:, 0]))\n",
    "is_concordant = positives[0] - negatives[0] > 0\n",
    "pairwise_unc = positives[1] + negatives[1]\n",
    "loss = np.empty(n_test)\n",
    "for i in range(n_test):\n",
    "    p = positives[0][i], positives[1][i]\n",
    "    n = negatives[0][i], negatives[1][i]\n",
    "    loss[i] = model.loss_func(p, n)\n",
    "print(f'FCP: {torch.sum(is_concordant) / n_test}')\n",
    "print(f'Avg pairwise uncertainty concordant: {pairwise_unc[is_concordant].mean()}; discordant: {pairwise_unc[~is_concordant].mean()}')"
   ]
  },
  {
   "cell_type": "markdown",
   "metadata": {},
   "source": [
    "- [X] Check if all models in explicit case are outputting uncertainty properly. \n",
    "\n",
    "- [X] BeMF should not borrow the uncertainty metric from the rating case into the recommendation case / BeMF could do simply 1 - P(r > 4) as uncertainty. This would make uncertainty inversely proportional to relevance, but does the absolute values of the numbers still add something?\n",
    "\n",
    "- [X] Also think about the absolute uncertainty numbers for the other models. Vanilla RRI might be the answer.\n",
    "\n",
    "- [X] Check giovanni's paper experiment description (especially the early stopping part). There, they use MAP for early stopping as well, which removes the need of negative samples but increase the computational cost. They do validation check every 5 epochs. Their batch size also varies and is sometimes really small, which means that 5 epochs may consist of lots and lots of updates.\n",
    "\n",
    "## RRI formulation\n",
    "\n",
    "- Original: $$ \\frac{\\rho_{ui} - \\bar{\\rho}}{\\sigma_\\rho} $$\n",
    "- Ours: $$ \\frac{\\rho_{ui} - \\bar{\\rho_u}}{\\sigma_{\\rho_u}} $$\n",
    "\n",
    "We aknowledged that the original form has the problem of penalizing correct recommendations every time that their uncertainty is higher than the average uncertainty. For this reason we changed to the user based form, in which the uncertainties are compared to the user average uncertainty, and therefore a penalty to the RRI value occurs only if the uncertainty of the correct recommendation is higher than the average uncertainty for the user.\n",
    "\n",
    "Nevertheless, our formulation does not analyze the recommendation in a cross-user aspect. Ideally, if uncertainty is well defined, than we want the recommendation hits to a user to be those with the lowest uncertainty among the recommendations to that user, and also the most precise recommendation sets to be given to the user with the lowest average uncertaity."
   ]
  }
 ],
 "metadata": {
  "kernelspec": {
   "display_name": "Python 3",
   "language": "python",
   "name": "python3"
  },
  "language_info": {
   "codemirror_mode": {
    "name": "ipython",
    "version": 3
   },
   "file_extension": ".py",
   "mimetype": "text/x-python",
   "name": "python",
   "nbconvert_exporter": "python",
   "pygments_lexer": "ipython3",
   "version": "3.8.10"
  }
 },
 "nbformat": 4,
 "nbformat_minor": 4
}
